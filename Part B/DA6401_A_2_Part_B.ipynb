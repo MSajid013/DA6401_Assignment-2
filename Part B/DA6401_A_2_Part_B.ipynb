{
  "metadata": {
    "kernelspec": {
      "language": "python",
      "display_name": "Python 3",
      "name": "python3"
    },
    "language_info": {
      "name": "python",
      "version": "3.11.11",
      "mimetype": "text/x-python",
      "codemirror_mode": {
        "name": "ipython",
        "version": 3
      },
      "pygments_lexer": "ipython3",
      "nbconvert_exporter": "python",
      "file_extension": ".py"
    },
    "kaggle": {
      "accelerator": "none",
      "dataSources": [
        {
          "sourceId": 11435433,
          "sourceType": "datasetVersion",
          "datasetId": 7162711
        }
      ],
      "dockerImageVersionId": 31011,
      "isInternetEnabled": true,
      "language": "python",
      "sourceType": "notebook",
      "isGpuEnabled": false
    },
    "colab": {
      "name": "DA6401_A-2_Part-B",
      "provenance": []
    }
  },
  "nbformat_minor": 0,
  "nbformat": 4,
  "cells": [
    {
      "source": [
        "# IMPORTANT: SOME KAGGLE DATA SOURCES ARE PRIVATE\n",
        "# RUN THIS CELL IN ORDER TO IMPORT YOUR KAGGLE DATA SOURCES.\n",
        "import kagglehub\n",
        "kagglehub.login()\n"
      ],
      "metadata": {
        "id": "ZoW6LknHtMD-"
      },
      "cell_type": "code",
      "outputs": [],
      "execution_count": null
    },
    {
      "source": [
        "# IMPORTANT: RUN THIS CELL IN ORDER TO IMPORT YOUR KAGGLE DATA SOURCES,\n",
        "# THEN FEEL FREE TO DELETE THIS CELL.\n",
        "# NOTE: THIS NOTEBOOK ENVIRONMENT DIFFERS FROM KAGGLE'S PYTHON\n",
        "# ENVIRONMENT SO THERE MAY BE MISSING LIBRARIES USED BY YOUR\n",
        "# NOTEBOOK.\n",
        "\n",
        "sajidma23m013_inaturalist_dataset_path = kagglehub.dataset_download('sajidma23m013/inaturalist-dataset')\n",
        "\n",
        "print('Data source import complete.')\n"
      ],
      "metadata": {
        "id": "OQNI16mJtMEA"
      },
      "cell_type": "code",
      "outputs": [],
      "execution_count": null
    },
    {
      "cell_type": "code",
      "source": [
        "!pip install wandb"
      ],
      "metadata": {
        "trusted": true,
        "execution": {
          "iopub.status.busy": "2025-04-18T09:04:16.99543Z",
          "iopub.execute_input": "2025-04-18T09:04:16.995984Z",
          "iopub.status.idle": "2025-04-18T09:04:20.743785Z",
          "shell.execute_reply.started": "2025-04-18T09:04:16.995959Z",
          "shell.execute_reply": "2025-04-18T09:04:20.743007Z"
        },
        "id": "w2WG-PbItMEB",
        "outputId": "429b8e2f-1c66-460b-f0b7-bbf059f3c12b"
      },
      "outputs": [
        {
          "name": "stdout",
          "text": "Requirement already satisfied: wandb in /usr/local/lib/python3.11/dist-packages (0.19.6)\nRequirement already satisfied: click!=8.0.0,>=7.1 in /usr/local/lib/python3.11/dist-packages (from wandb) (8.1.8)\nRequirement already satisfied: docker-pycreds>=0.4.0 in /usr/local/lib/python3.11/dist-packages (from wandb) (0.4.0)\nRequirement already satisfied: gitpython!=3.1.29,>=1.0.0 in /usr/local/lib/python3.11/dist-packages (from wandb) (3.1.44)\nRequirement already satisfied: platformdirs in /usr/local/lib/python3.11/dist-packages (from wandb) (4.3.7)\nRequirement already satisfied: protobuf!=4.21.0,!=5.28.0,<6,>=3.19.0 in /usr/local/lib/python3.11/dist-packages (from wandb) (3.20.3)\nRequirement already satisfied: psutil>=5.0.0 in /usr/local/lib/python3.11/dist-packages (from wandb) (7.0.0)\nRequirement already satisfied: pydantic<3,>=2.6 in /usr/local/lib/python3.11/dist-packages (from wandb) (2.11.3)\nRequirement already satisfied: pyyaml in /usr/local/lib/python3.11/dist-packages (from wandb) (6.0.2)\nRequirement already satisfied: requests<3,>=2.0.0 in /usr/local/lib/python3.11/dist-packages (from wandb) (2.32.3)\nRequirement already satisfied: sentry-sdk>=2.0.0 in /usr/local/lib/python3.11/dist-packages (from wandb) (2.21.0)\nRequirement already satisfied: setproctitle in /usr/local/lib/python3.11/dist-packages (from wandb) (1.3.4)\nRequirement already satisfied: setuptools in /usr/local/lib/python3.11/dist-packages (from wandb) (75.1.0)\nRequirement already satisfied: typing-extensions<5,>=4.4 in /usr/local/lib/python3.11/dist-packages (from wandb) (4.13.1)\nRequirement already satisfied: six>=1.4.0 in /usr/local/lib/python3.11/dist-packages (from docker-pycreds>=0.4.0->wandb) (1.17.0)\nRequirement already satisfied: gitdb<5,>=4.0.1 in /usr/local/lib/python3.11/dist-packages (from gitpython!=3.1.29,>=1.0.0->wandb) (4.0.12)\nRequirement already satisfied: annotated-types>=0.6.0 in /usr/local/lib/python3.11/dist-packages (from pydantic<3,>=2.6->wandb) (0.7.0)\nRequirement already satisfied: pydantic-core==2.33.1 in /usr/local/lib/python3.11/dist-packages (from pydantic<3,>=2.6->wandb) (2.33.1)\nRequirement already satisfied: typing-inspection>=0.4.0 in /usr/local/lib/python3.11/dist-packages (from pydantic<3,>=2.6->wandb) (0.4.0)\nRequirement already satisfied: charset-normalizer<4,>=2 in /usr/local/lib/python3.11/dist-packages (from requests<3,>=2.0.0->wandb) (3.4.1)\nRequirement already satisfied: idna<4,>=2.5 in /usr/local/lib/python3.11/dist-packages (from requests<3,>=2.0.0->wandb) (3.10)\nRequirement already satisfied: urllib3<3,>=1.21.1 in /usr/local/lib/python3.11/dist-packages (from requests<3,>=2.0.0->wandb) (2.3.0)\nRequirement already satisfied: certifi>=2017.4.17 in /usr/local/lib/python3.11/dist-packages (from requests<3,>=2.0.0->wandb) (2025.1.31)\nRequirement already satisfied: smmap<6,>=3.0.1 in /usr/local/lib/python3.11/dist-packages (from gitdb<5,>=4.0.1->gitpython!=3.1.29,>=1.0.0->wandb) (5.0.2)\n",
          "output_type": "stream"
        }
      ],
      "execution_count": null
    },
    {
      "cell_type": "code",
      "source": [
        "import wandb\n",
        "wandb.login(key='53b259076c07d0811d73bf26bfef7437e04dbf66')"
      ],
      "metadata": {
        "trusted": true,
        "execution": {
          "iopub.status.busy": "2025-04-19T14:03:22.307547Z",
          "iopub.execute_input": "2025-04-19T14:03:22.30781Z",
          "iopub.status.idle": "2025-04-19T14:03:30.435424Z",
          "shell.execute_reply.started": "2025-04-19T14:03:22.307788Z",
          "shell.execute_reply": "2025-04-19T14:03:30.434841Z"
        },
        "id": "V5AnjtP0tMEB",
        "outputId": "894c29ab-9a91-440c-caab-082b9d0362c6"
      },
      "outputs": [
        {
          "name": "stderr",
          "text": "\u001b[34m\u001b[1mwandb\u001b[0m: \u001b[33mWARNING\u001b[0m If you're specifying your api key in code, ensure this code is not shared publicly.\n\u001b[34m\u001b[1mwandb\u001b[0m: \u001b[33mWARNING\u001b[0m Consider setting the WANDB_API_KEY environment variable, or running `wandb login` from the command line.\n\u001b[34m\u001b[1mwandb\u001b[0m: Appending key for api.wandb.ai to your netrc file: /root/.netrc\n\u001b[34m\u001b[1mwandb\u001b[0m: Currently logged in as: \u001b[33mma23m013\u001b[0m (\u001b[33mma23m013-iit-madras\u001b[0m) to \u001b[32mhttps://api.wandb.ai\u001b[0m. Use \u001b[1m`wandb login --relogin`\u001b[0m to force relogin\n",
          "output_type": "stream"
        },
        {
          "execution_count": 1,
          "output_type": "execute_result",
          "data": {
            "text/plain": "True"
          },
          "metadata": {}
        }
      ],
      "execution_count": null
    },
    {
      "cell_type": "code",
      "source": [
        "import torch\n",
        "import torch.nn as nn\n",
        "import torch.optim as optim\n",
        "from torchvision.datasets import ImageFolder\n",
        "from torchvision.transforms import transforms\n",
        "from torch.utils.data import DataLoader, SubsetRandomSampler\n",
        "from sklearn.model_selection import train_test_split\n",
        "from torchvision import models\n",
        "\n",
        "# Check if CUDA is available\n",
        "device = torch.device('cuda' if torch.cuda.is_available() else 'cpu')\n",
        "\n",
        "# Define function for pretraining a model\n",
        "def pretrain_model(model_name, freeze_percent, freeze_all_except_last_layer):\n",
        "    '''\n",
        "    This function initializes a pre-trained model based on the model_name argument,\n",
        "    freezes layers based on the freeze_percent, and optionally freezes all layers except\n",
        "    the last fully connected layer.\n",
        "\n",
        "    Parameters:\n",
        "    - model_name (str): The name of the model to load (e.g., 'resnet', 'googlenet')\n",
        "    - freeze_percent (float): Percentage of layers to freeze (e.g., 0.25 for 25%)\n",
        "    - freeze_all_except_last_layer (str): If 'Yes', only the last layer is trainable. If 'No', freeze layers based on freeze_percent.\n",
        "\n",
        "    Returns:\n",
        "    - pretrained_model (torch.nn.Module): The model with modified layers and frozen parameters.\n",
        "    '''\n",
        "\n",
        "    # Load pre-trained model based on the provided model name\n",
        "    if model_name == 'resnet':\n",
        "        pretrained_model = models.resnet50(pretrained=True)\n",
        "    elif model_name == 'googlenet':\n",
        "        pretrained_model = models.googlenet(pretrained=True)\n",
        "\n",
        "    # Modify the final fully connected layer to match the number of classes (10 in this case)\n",
        "    nodes_fc = pretrained_model.fc.in_features  # Get the input features of the last fully connected layer\n",
        "    pretrained_model.fc = nn.Linear(nodes_fc, 10)  # Change to 10 classes (modify if necessary)\n",
        "\n",
        "    # Calculate the number of layers to freeze based on the freeze_percent\n",
        "    total_layers = sum(1 for _ in pretrained_model.children())\n",
        "    num_freeze = int(total_layers * freeze_percent)\n",
        "\n",
        "    # Freeze layers based on the 'freeze_all_except_last_layer' flag\n",
        "    if freeze_all_except_last_layer == 'Yes':\n",
        "        for name, parameter in pretrained_model.named_parameters():\n",
        "            if not name.startswith('fc'):  # Exclude the last layer named 'fc'\n",
        "                parameter.requires_grad = False  # Freeze this layer\n",
        "\n",
        "    if freeze_all_except_last_layer == 'No':\n",
        "        count = 0\n",
        "        # Freeze layers based on the 'freeze_percent' argument\n",
        "        for name, child in pretrained_model.named_children():\n",
        "            if count < num_freeze:\n",
        "                for parameter in child.parameters():\n",
        "                    parameter.requires_grad = False  # Freeze the layer\n",
        "            else:\n",
        "                for parameter in child.parameters():\n",
        "                    parameter.requires_grad = True  # Make the layer trainable\n",
        "            count += 1\n",
        "\n",
        "    return pretrained_model\n",
        "\n",
        "# Example usage\n",
        "freeze_percent = 0.25  # Freeze 25% of layers\n",
        "freeze_all_except_last_layer = 'No'\n",
        "model_name = 'googlenet'  # Using GoogLeNet\n",
        "model = pretrain_model(model_name, freeze_percent, freeze_all_except_last_layer)\n",
        "print(model)  # Print the model architecture\n"
      ],
      "metadata": {
        "trusted": true,
        "execution": {
          "iopub.status.busy": "2025-04-19T14:03:35.12392Z",
          "iopub.execute_input": "2025-04-19T14:03:35.12431Z",
          "iopub.status.idle": "2025-04-19T14:03:43.692092Z",
          "shell.execute_reply.started": "2025-04-19T14:03:35.124288Z",
          "shell.execute_reply": "2025-04-19T14:03:43.691391Z"
        },
        "id": "y-CRxsxktMEC",
        "outputId": "63f29bf4-da54-4077-bb94-5c8ed595b72f"
      },
      "outputs": [
        {
          "name": "stderr",
          "text": "/usr/local/lib/python3.11/dist-packages/torchvision/models/_utils.py:208: UserWarning: The parameter 'pretrained' is deprecated since 0.13 and may be removed in the future, please use 'weights' instead.\n  warnings.warn(\n/usr/local/lib/python3.11/dist-packages/torchvision/models/_utils.py:223: UserWarning: Arguments other than a weight enum or `None` for 'weights' are deprecated since 0.13 and may be removed in the future. The current behavior is equivalent to passing `weights=GoogLeNet_Weights.IMAGENET1K_V1`. You can also use `weights=GoogLeNet_Weights.DEFAULT` to get the most up-to-date weights.\n  warnings.warn(msg)\nDownloading: \"https://download.pytorch.org/models/googlenet-1378be20.pth\" to /root/.cache/torch/hub/checkpoints/googlenet-1378be20.pth\n100%|██████████| 49.7M/49.7M [00:00<00:00, 55.8MB/s]\n",
          "output_type": "stream"
        },
        {
          "name": "stdout",
          "text": "GoogLeNet(\n  (conv1): BasicConv2d(\n    (conv): Conv2d(3, 64, kernel_size=(7, 7), stride=(2, 2), padding=(3, 3), bias=False)\n    (bn): BatchNorm2d(64, eps=0.001, momentum=0.1, affine=True, track_running_stats=True)\n  )\n  (maxpool1): MaxPool2d(kernel_size=3, stride=2, padding=0, dilation=1, ceil_mode=True)\n  (conv2): BasicConv2d(\n    (conv): Conv2d(64, 64, kernel_size=(1, 1), stride=(1, 1), bias=False)\n    (bn): BatchNorm2d(64, eps=0.001, momentum=0.1, affine=True, track_running_stats=True)\n  )\n  (conv3): BasicConv2d(\n    (conv): Conv2d(64, 192, kernel_size=(3, 3), stride=(1, 1), padding=(1, 1), bias=False)\n    (bn): BatchNorm2d(192, eps=0.001, momentum=0.1, affine=True, track_running_stats=True)\n  )\n  (maxpool2): MaxPool2d(kernel_size=3, stride=2, padding=0, dilation=1, ceil_mode=True)\n  (inception3a): Inception(\n    (branch1): BasicConv2d(\n      (conv): Conv2d(192, 64, kernel_size=(1, 1), stride=(1, 1), bias=False)\n      (bn): BatchNorm2d(64, eps=0.001, momentum=0.1, affine=True, track_running_stats=True)\n    )\n    (branch2): Sequential(\n      (0): BasicConv2d(\n        (conv): Conv2d(192, 96, kernel_size=(1, 1), stride=(1, 1), bias=False)\n        (bn): BatchNorm2d(96, eps=0.001, momentum=0.1, affine=True, track_running_stats=True)\n      )\n      (1): BasicConv2d(\n        (conv): Conv2d(96, 128, kernel_size=(3, 3), stride=(1, 1), padding=(1, 1), bias=False)\n        (bn): BatchNorm2d(128, eps=0.001, momentum=0.1, affine=True, track_running_stats=True)\n      )\n    )\n    (branch3): Sequential(\n      (0): BasicConv2d(\n        (conv): Conv2d(192, 16, kernel_size=(1, 1), stride=(1, 1), bias=False)\n        (bn): BatchNorm2d(16, eps=0.001, momentum=0.1, affine=True, track_running_stats=True)\n      )\n      (1): BasicConv2d(\n        (conv): Conv2d(16, 32, kernel_size=(3, 3), stride=(1, 1), padding=(1, 1), bias=False)\n        (bn): BatchNorm2d(32, eps=0.001, momentum=0.1, affine=True, track_running_stats=True)\n      )\n    )\n    (branch4): Sequential(\n      (0): MaxPool2d(kernel_size=3, stride=1, padding=1, dilation=1, ceil_mode=True)\n      (1): BasicConv2d(\n        (conv): Conv2d(192, 32, kernel_size=(1, 1), stride=(1, 1), bias=False)\n        (bn): BatchNorm2d(32, eps=0.001, momentum=0.1, affine=True, track_running_stats=True)\n      )\n    )\n  )\n  (inception3b): Inception(\n    (branch1): BasicConv2d(\n      (conv): Conv2d(256, 128, kernel_size=(1, 1), stride=(1, 1), bias=False)\n      (bn): BatchNorm2d(128, eps=0.001, momentum=0.1, affine=True, track_running_stats=True)\n    )\n    (branch2): Sequential(\n      (0): BasicConv2d(\n        (conv): Conv2d(256, 128, kernel_size=(1, 1), stride=(1, 1), bias=False)\n        (bn): BatchNorm2d(128, eps=0.001, momentum=0.1, affine=True, track_running_stats=True)\n      )\n      (1): BasicConv2d(\n        (conv): Conv2d(128, 192, kernel_size=(3, 3), stride=(1, 1), padding=(1, 1), bias=False)\n        (bn): BatchNorm2d(192, eps=0.001, momentum=0.1, affine=True, track_running_stats=True)\n      )\n    )\n    (branch3): Sequential(\n      (0): BasicConv2d(\n        (conv): Conv2d(256, 32, kernel_size=(1, 1), stride=(1, 1), bias=False)\n        (bn): BatchNorm2d(32, eps=0.001, momentum=0.1, affine=True, track_running_stats=True)\n      )\n      (1): BasicConv2d(\n        (conv): Conv2d(32, 96, kernel_size=(3, 3), stride=(1, 1), padding=(1, 1), bias=False)\n        (bn): BatchNorm2d(96, eps=0.001, momentum=0.1, affine=True, track_running_stats=True)\n      )\n    )\n    (branch4): Sequential(\n      (0): MaxPool2d(kernel_size=3, stride=1, padding=1, dilation=1, ceil_mode=True)\n      (1): BasicConv2d(\n        (conv): Conv2d(256, 64, kernel_size=(1, 1), stride=(1, 1), bias=False)\n        (bn): BatchNorm2d(64, eps=0.001, momentum=0.1, affine=True, track_running_stats=True)\n      )\n    )\n  )\n  (maxpool3): MaxPool2d(kernel_size=3, stride=2, padding=0, dilation=1, ceil_mode=True)\n  (inception4a): Inception(\n    (branch1): BasicConv2d(\n      (conv): Conv2d(480, 192, kernel_size=(1, 1), stride=(1, 1), bias=False)\n      (bn): BatchNorm2d(192, eps=0.001, momentum=0.1, affine=True, track_running_stats=True)\n    )\n    (branch2): Sequential(\n      (0): BasicConv2d(\n        (conv): Conv2d(480, 96, kernel_size=(1, 1), stride=(1, 1), bias=False)\n        (bn): BatchNorm2d(96, eps=0.001, momentum=0.1, affine=True, track_running_stats=True)\n      )\n      (1): BasicConv2d(\n        (conv): Conv2d(96, 208, kernel_size=(3, 3), stride=(1, 1), padding=(1, 1), bias=False)\n        (bn): BatchNorm2d(208, eps=0.001, momentum=0.1, affine=True, track_running_stats=True)\n      )\n    )\n    (branch3): Sequential(\n      (0): BasicConv2d(\n        (conv): Conv2d(480, 16, kernel_size=(1, 1), stride=(1, 1), bias=False)\n        (bn): BatchNorm2d(16, eps=0.001, momentum=0.1, affine=True, track_running_stats=True)\n      )\n      (1): BasicConv2d(\n        (conv): Conv2d(16, 48, kernel_size=(3, 3), stride=(1, 1), padding=(1, 1), bias=False)\n        (bn): BatchNorm2d(48, eps=0.001, momentum=0.1, affine=True, track_running_stats=True)\n      )\n    )\n    (branch4): Sequential(\n      (0): MaxPool2d(kernel_size=3, stride=1, padding=1, dilation=1, ceil_mode=True)\n      (1): BasicConv2d(\n        (conv): Conv2d(480, 64, kernel_size=(1, 1), stride=(1, 1), bias=False)\n        (bn): BatchNorm2d(64, eps=0.001, momentum=0.1, affine=True, track_running_stats=True)\n      )\n    )\n  )\n  (inception4b): Inception(\n    (branch1): BasicConv2d(\n      (conv): Conv2d(512, 160, kernel_size=(1, 1), stride=(1, 1), bias=False)\n      (bn): BatchNorm2d(160, eps=0.001, momentum=0.1, affine=True, track_running_stats=True)\n    )\n    (branch2): Sequential(\n      (0): BasicConv2d(\n        (conv): Conv2d(512, 112, kernel_size=(1, 1), stride=(1, 1), bias=False)\n        (bn): BatchNorm2d(112, eps=0.001, momentum=0.1, affine=True, track_running_stats=True)\n      )\n      (1): BasicConv2d(\n        (conv): Conv2d(112, 224, kernel_size=(3, 3), stride=(1, 1), padding=(1, 1), bias=False)\n        (bn): BatchNorm2d(224, eps=0.001, momentum=0.1, affine=True, track_running_stats=True)\n      )\n    )\n    (branch3): Sequential(\n      (0): BasicConv2d(\n        (conv): Conv2d(512, 24, kernel_size=(1, 1), stride=(1, 1), bias=False)\n        (bn): BatchNorm2d(24, eps=0.001, momentum=0.1, affine=True, track_running_stats=True)\n      )\n      (1): BasicConv2d(\n        (conv): Conv2d(24, 64, kernel_size=(3, 3), stride=(1, 1), padding=(1, 1), bias=False)\n        (bn): BatchNorm2d(64, eps=0.001, momentum=0.1, affine=True, track_running_stats=True)\n      )\n    )\n    (branch4): Sequential(\n      (0): MaxPool2d(kernel_size=3, stride=1, padding=1, dilation=1, ceil_mode=True)\n      (1): BasicConv2d(\n        (conv): Conv2d(512, 64, kernel_size=(1, 1), stride=(1, 1), bias=False)\n        (bn): BatchNorm2d(64, eps=0.001, momentum=0.1, affine=True, track_running_stats=True)\n      )\n    )\n  )\n  (inception4c): Inception(\n    (branch1): BasicConv2d(\n      (conv): Conv2d(512, 128, kernel_size=(1, 1), stride=(1, 1), bias=False)\n      (bn): BatchNorm2d(128, eps=0.001, momentum=0.1, affine=True, track_running_stats=True)\n    )\n    (branch2): Sequential(\n      (0): BasicConv2d(\n        (conv): Conv2d(512, 128, kernel_size=(1, 1), stride=(1, 1), bias=False)\n        (bn): BatchNorm2d(128, eps=0.001, momentum=0.1, affine=True, track_running_stats=True)\n      )\n      (1): BasicConv2d(\n        (conv): Conv2d(128, 256, kernel_size=(3, 3), stride=(1, 1), padding=(1, 1), bias=False)\n        (bn): BatchNorm2d(256, eps=0.001, momentum=0.1, affine=True, track_running_stats=True)\n      )\n    )\n    (branch3): Sequential(\n      (0): BasicConv2d(\n        (conv): Conv2d(512, 24, kernel_size=(1, 1), stride=(1, 1), bias=False)\n        (bn): BatchNorm2d(24, eps=0.001, momentum=0.1, affine=True, track_running_stats=True)\n      )\n      (1): BasicConv2d(\n        (conv): Conv2d(24, 64, kernel_size=(3, 3), stride=(1, 1), padding=(1, 1), bias=False)\n        (bn): BatchNorm2d(64, eps=0.001, momentum=0.1, affine=True, track_running_stats=True)\n      )\n    )\n    (branch4): Sequential(\n      (0): MaxPool2d(kernel_size=3, stride=1, padding=1, dilation=1, ceil_mode=True)\n      (1): BasicConv2d(\n        (conv): Conv2d(512, 64, kernel_size=(1, 1), stride=(1, 1), bias=False)\n        (bn): BatchNorm2d(64, eps=0.001, momentum=0.1, affine=True, track_running_stats=True)\n      )\n    )\n  )\n  (inception4d): Inception(\n    (branch1): BasicConv2d(\n      (conv): Conv2d(512, 112, kernel_size=(1, 1), stride=(1, 1), bias=False)\n      (bn): BatchNorm2d(112, eps=0.001, momentum=0.1, affine=True, track_running_stats=True)\n    )\n    (branch2): Sequential(\n      (0): BasicConv2d(\n        (conv): Conv2d(512, 144, kernel_size=(1, 1), stride=(1, 1), bias=False)\n        (bn): BatchNorm2d(144, eps=0.001, momentum=0.1, affine=True, track_running_stats=True)\n      )\n      (1): BasicConv2d(\n        (conv): Conv2d(144, 288, kernel_size=(3, 3), stride=(1, 1), padding=(1, 1), bias=False)\n        (bn): BatchNorm2d(288, eps=0.001, momentum=0.1, affine=True, track_running_stats=True)\n      )\n    )\n    (branch3): Sequential(\n      (0): BasicConv2d(\n        (conv): Conv2d(512, 32, kernel_size=(1, 1), stride=(1, 1), bias=False)\n        (bn): BatchNorm2d(32, eps=0.001, momentum=0.1, affine=True, track_running_stats=True)\n      )\n      (1): BasicConv2d(\n        (conv): Conv2d(32, 64, kernel_size=(3, 3), stride=(1, 1), padding=(1, 1), bias=False)\n        (bn): BatchNorm2d(64, eps=0.001, momentum=0.1, affine=True, track_running_stats=True)\n      )\n    )\n    (branch4): Sequential(\n      (0): MaxPool2d(kernel_size=3, stride=1, padding=1, dilation=1, ceil_mode=True)\n      (1): BasicConv2d(\n        (conv): Conv2d(512, 64, kernel_size=(1, 1), stride=(1, 1), bias=False)\n        (bn): BatchNorm2d(64, eps=0.001, momentum=0.1, affine=True, track_running_stats=True)\n      )\n    )\n  )\n  (inception4e): Inception(\n    (branch1): BasicConv2d(\n      (conv): Conv2d(528, 256, kernel_size=(1, 1), stride=(1, 1), bias=False)\n      (bn): BatchNorm2d(256, eps=0.001, momentum=0.1, affine=True, track_running_stats=True)\n    )\n    (branch2): Sequential(\n      (0): BasicConv2d(\n        (conv): Conv2d(528, 160, kernel_size=(1, 1), stride=(1, 1), bias=False)\n        (bn): BatchNorm2d(160, eps=0.001, momentum=0.1, affine=True, track_running_stats=True)\n      )\n      (1): BasicConv2d(\n        (conv): Conv2d(160, 320, kernel_size=(3, 3), stride=(1, 1), padding=(1, 1), bias=False)\n        (bn): BatchNorm2d(320, eps=0.001, momentum=0.1, affine=True, track_running_stats=True)\n      )\n    )\n    (branch3): Sequential(\n      (0): BasicConv2d(\n        (conv): Conv2d(528, 32, kernel_size=(1, 1), stride=(1, 1), bias=False)\n        (bn): BatchNorm2d(32, eps=0.001, momentum=0.1, affine=True, track_running_stats=True)\n      )\n      (1): BasicConv2d(\n        (conv): Conv2d(32, 128, kernel_size=(3, 3), stride=(1, 1), padding=(1, 1), bias=False)\n        (bn): BatchNorm2d(128, eps=0.001, momentum=0.1, affine=True, track_running_stats=True)\n      )\n    )\n    (branch4): Sequential(\n      (0): MaxPool2d(kernel_size=3, stride=1, padding=1, dilation=1, ceil_mode=True)\n      (1): BasicConv2d(\n        (conv): Conv2d(528, 128, kernel_size=(1, 1), stride=(1, 1), bias=False)\n        (bn): BatchNorm2d(128, eps=0.001, momentum=0.1, affine=True, track_running_stats=True)\n      )\n    )\n  )\n  (maxpool4): MaxPool2d(kernel_size=2, stride=2, padding=0, dilation=1, ceil_mode=True)\n  (inception5a): Inception(\n    (branch1): BasicConv2d(\n      (conv): Conv2d(832, 256, kernel_size=(1, 1), stride=(1, 1), bias=False)\n      (bn): BatchNorm2d(256, eps=0.001, momentum=0.1, affine=True, track_running_stats=True)\n    )\n    (branch2): Sequential(\n      (0): BasicConv2d(\n        (conv): Conv2d(832, 160, kernel_size=(1, 1), stride=(1, 1), bias=False)\n        (bn): BatchNorm2d(160, eps=0.001, momentum=0.1, affine=True, track_running_stats=True)\n      )\n      (1): BasicConv2d(\n        (conv): Conv2d(160, 320, kernel_size=(3, 3), stride=(1, 1), padding=(1, 1), bias=False)\n        (bn): BatchNorm2d(320, eps=0.001, momentum=0.1, affine=True, track_running_stats=True)\n      )\n    )\n    (branch3): Sequential(\n      (0): BasicConv2d(\n        (conv): Conv2d(832, 32, kernel_size=(1, 1), stride=(1, 1), bias=False)\n        (bn): BatchNorm2d(32, eps=0.001, momentum=0.1, affine=True, track_running_stats=True)\n      )\n      (1): BasicConv2d(\n        (conv): Conv2d(32, 128, kernel_size=(3, 3), stride=(1, 1), padding=(1, 1), bias=False)\n        (bn): BatchNorm2d(128, eps=0.001, momentum=0.1, affine=True, track_running_stats=True)\n      )\n    )\n    (branch4): Sequential(\n      (0): MaxPool2d(kernel_size=3, stride=1, padding=1, dilation=1, ceil_mode=True)\n      (1): BasicConv2d(\n        (conv): Conv2d(832, 128, kernel_size=(1, 1), stride=(1, 1), bias=False)\n        (bn): BatchNorm2d(128, eps=0.001, momentum=0.1, affine=True, track_running_stats=True)\n      )\n    )\n  )\n  (inception5b): Inception(\n    (branch1): BasicConv2d(\n      (conv): Conv2d(832, 384, kernel_size=(1, 1), stride=(1, 1), bias=False)\n      (bn): BatchNorm2d(384, eps=0.001, momentum=0.1, affine=True, track_running_stats=True)\n    )\n    (branch2): Sequential(\n      (0): BasicConv2d(\n        (conv): Conv2d(832, 192, kernel_size=(1, 1), stride=(1, 1), bias=False)\n        (bn): BatchNorm2d(192, eps=0.001, momentum=0.1, affine=True, track_running_stats=True)\n      )\n      (1): BasicConv2d(\n        (conv): Conv2d(192, 384, kernel_size=(3, 3), stride=(1, 1), padding=(1, 1), bias=False)\n        (bn): BatchNorm2d(384, eps=0.001, momentum=0.1, affine=True, track_running_stats=True)\n      )\n    )\n    (branch3): Sequential(\n      (0): BasicConv2d(\n        (conv): Conv2d(832, 48, kernel_size=(1, 1), stride=(1, 1), bias=False)\n        (bn): BatchNorm2d(48, eps=0.001, momentum=0.1, affine=True, track_running_stats=True)\n      )\n      (1): BasicConv2d(\n        (conv): Conv2d(48, 128, kernel_size=(3, 3), stride=(1, 1), padding=(1, 1), bias=False)\n        (bn): BatchNorm2d(128, eps=0.001, momentum=0.1, affine=True, track_running_stats=True)\n      )\n    )\n    (branch4): Sequential(\n      (0): MaxPool2d(kernel_size=3, stride=1, padding=1, dilation=1, ceil_mode=True)\n      (1): BasicConv2d(\n        (conv): Conv2d(832, 128, kernel_size=(1, 1), stride=(1, 1), bias=False)\n        (bn): BatchNorm2d(128, eps=0.001, momentum=0.1, affine=True, track_running_stats=True)\n      )\n    )\n  )\n  (aux1): None\n  (aux2): None\n  (avgpool): AdaptiveAvgPool2d(output_size=(1, 1))\n  (dropout): Dropout(p=0.2, inplace=False)\n  (fc): Linear(in_features=1024, out_features=10, bias=True)\n)\n",
          "output_type": "stream"
        }
      ],
      "execution_count": null
    },
    {
      "cell_type": "code",
      "source": [
        "# Example usage\n",
        "freeze_percent = 0.25  # Freeze 25% of layers\n",
        "freeze_all_except_last_layer = 'No'\n",
        "model_name = 'resnet'  # Using ResNet\n",
        "model = pretrain_model(model_name, freeze_percent, freeze_all_except_last_layer)\n",
        "print(model)  # Print the model architecture\n"
      ],
      "metadata": {
        "trusted": true,
        "execution": {
          "iopub.status.busy": "2025-04-19T14:04:35.222893Z",
          "iopub.execute_input": "2025-04-19T14:04:35.22332Z",
          "iopub.status.idle": "2025-04-19T14:04:36.35198Z",
          "shell.execute_reply.started": "2025-04-19T14:04:35.223296Z",
          "shell.execute_reply": "2025-04-19T14:04:36.351219Z"
        },
        "id": "U2wLnQd9tMEC",
        "outputId": "a58f7ad7-6e5c-4096-a716-afa1040e488a"
      },
      "outputs": [
        {
          "name": "stderr",
          "text": "/usr/local/lib/python3.11/dist-packages/torchvision/models/_utils.py:223: UserWarning: Arguments other than a weight enum or `None` for 'weights' are deprecated since 0.13 and may be removed in the future. The current behavior is equivalent to passing `weights=ResNet50_Weights.IMAGENET1K_V1`. You can also use `weights=ResNet50_Weights.DEFAULT` to get the most up-to-date weights.\n  warnings.warn(msg)\nDownloading: \"https://download.pytorch.org/models/resnet50-0676ba61.pth\" to /root/.cache/torch/hub/checkpoints/resnet50-0676ba61.pth\n100%|██████████| 97.8M/97.8M [00:00<00:00, 179MB/s] \n",
          "output_type": "stream"
        },
        {
          "name": "stdout",
          "text": "ResNet(\n  (conv1): Conv2d(3, 64, kernel_size=(7, 7), stride=(2, 2), padding=(3, 3), bias=False)\n  (bn1): BatchNorm2d(64, eps=1e-05, momentum=0.1, affine=True, track_running_stats=True)\n  (relu): ReLU(inplace=True)\n  (maxpool): MaxPool2d(kernel_size=3, stride=2, padding=1, dilation=1, ceil_mode=False)\n  (layer1): Sequential(\n    (0): Bottleneck(\n      (conv1): Conv2d(64, 64, kernel_size=(1, 1), stride=(1, 1), bias=False)\n      (bn1): BatchNorm2d(64, eps=1e-05, momentum=0.1, affine=True, track_running_stats=True)\n      (conv2): Conv2d(64, 64, kernel_size=(3, 3), stride=(1, 1), padding=(1, 1), bias=False)\n      (bn2): BatchNorm2d(64, eps=1e-05, momentum=0.1, affine=True, track_running_stats=True)\n      (conv3): Conv2d(64, 256, kernel_size=(1, 1), stride=(1, 1), bias=False)\n      (bn3): BatchNorm2d(256, eps=1e-05, momentum=0.1, affine=True, track_running_stats=True)\n      (relu): ReLU(inplace=True)\n      (downsample): Sequential(\n        (0): Conv2d(64, 256, kernel_size=(1, 1), stride=(1, 1), bias=False)\n        (1): BatchNorm2d(256, eps=1e-05, momentum=0.1, affine=True, track_running_stats=True)\n      )\n    )\n    (1): Bottleneck(\n      (conv1): Conv2d(256, 64, kernel_size=(1, 1), stride=(1, 1), bias=False)\n      (bn1): BatchNorm2d(64, eps=1e-05, momentum=0.1, affine=True, track_running_stats=True)\n      (conv2): Conv2d(64, 64, kernel_size=(3, 3), stride=(1, 1), padding=(1, 1), bias=False)\n      (bn2): BatchNorm2d(64, eps=1e-05, momentum=0.1, affine=True, track_running_stats=True)\n      (conv3): Conv2d(64, 256, kernel_size=(1, 1), stride=(1, 1), bias=False)\n      (bn3): BatchNorm2d(256, eps=1e-05, momentum=0.1, affine=True, track_running_stats=True)\n      (relu): ReLU(inplace=True)\n    )\n    (2): Bottleneck(\n      (conv1): Conv2d(256, 64, kernel_size=(1, 1), stride=(1, 1), bias=False)\n      (bn1): BatchNorm2d(64, eps=1e-05, momentum=0.1, affine=True, track_running_stats=True)\n      (conv2): Conv2d(64, 64, kernel_size=(3, 3), stride=(1, 1), padding=(1, 1), bias=False)\n      (bn2): BatchNorm2d(64, eps=1e-05, momentum=0.1, affine=True, track_running_stats=True)\n      (conv3): Conv2d(64, 256, kernel_size=(1, 1), stride=(1, 1), bias=False)\n      (bn3): BatchNorm2d(256, eps=1e-05, momentum=0.1, affine=True, track_running_stats=True)\n      (relu): ReLU(inplace=True)\n    )\n  )\n  (layer2): Sequential(\n    (0): Bottleneck(\n      (conv1): Conv2d(256, 128, kernel_size=(1, 1), stride=(1, 1), bias=False)\n      (bn1): BatchNorm2d(128, eps=1e-05, momentum=0.1, affine=True, track_running_stats=True)\n      (conv2): Conv2d(128, 128, kernel_size=(3, 3), stride=(2, 2), padding=(1, 1), bias=False)\n      (bn2): BatchNorm2d(128, eps=1e-05, momentum=0.1, affine=True, track_running_stats=True)\n      (conv3): Conv2d(128, 512, kernel_size=(1, 1), stride=(1, 1), bias=False)\n      (bn3): BatchNorm2d(512, eps=1e-05, momentum=0.1, affine=True, track_running_stats=True)\n      (relu): ReLU(inplace=True)\n      (downsample): Sequential(\n        (0): Conv2d(256, 512, kernel_size=(1, 1), stride=(2, 2), bias=False)\n        (1): BatchNorm2d(512, eps=1e-05, momentum=0.1, affine=True, track_running_stats=True)\n      )\n    )\n    (1): Bottleneck(\n      (conv1): Conv2d(512, 128, kernel_size=(1, 1), stride=(1, 1), bias=False)\n      (bn1): BatchNorm2d(128, eps=1e-05, momentum=0.1, affine=True, track_running_stats=True)\n      (conv2): Conv2d(128, 128, kernel_size=(3, 3), stride=(1, 1), padding=(1, 1), bias=False)\n      (bn2): BatchNorm2d(128, eps=1e-05, momentum=0.1, affine=True, track_running_stats=True)\n      (conv3): Conv2d(128, 512, kernel_size=(1, 1), stride=(1, 1), bias=False)\n      (bn3): BatchNorm2d(512, eps=1e-05, momentum=0.1, affine=True, track_running_stats=True)\n      (relu): ReLU(inplace=True)\n    )\n    (2): Bottleneck(\n      (conv1): Conv2d(512, 128, kernel_size=(1, 1), stride=(1, 1), bias=False)\n      (bn1): BatchNorm2d(128, eps=1e-05, momentum=0.1, affine=True, track_running_stats=True)\n      (conv2): Conv2d(128, 128, kernel_size=(3, 3), stride=(1, 1), padding=(1, 1), bias=False)\n      (bn2): BatchNorm2d(128, eps=1e-05, momentum=0.1, affine=True, track_running_stats=True)\n      (conv3): Conv2d(128, 512, kernel_size=(1, 1), stride=(1, 1), bias=False)\n      (bn3): BatchNorm2d(512, eps=1e-05, momentum=0.1, affine=True, track_running_stats=True)\n      (relu): ReLU(inplace=True)\n    )\n    (3): Bottleneck(\n      (conv1): Conv2d(512, 128, kernel_size=(1, 1), stride=(1, 1), bias=False)\n      (bn1): BatchNorm2d(128, eps=1e-05, momentum=0.1, affine=True, track_running_stats=True)\n      (conv2): Conv2d(128, 128, kernel_size=(3, 3), stride=(1, 1), padding=(1, 1), bias=False)\n      (bn2): BatchNorm2d(128, eps=1e-05, momentum=0.1, affine=True, track_running_stats=True)\n      (conv3): Conv2d(128, 512, kernel_size=(1, 1), stride=(1, 1), bias=False)\n      (bn3): BatchNorm2d(512, eps=1e-05, momentum=0.1, affine=True, track_running_stats=True)\n      (relu): ReLU(inplace=True)\n    )\n  )\n  (layer3): Sequential(\n    (0): Bottleneck(\n      (conv1): Conv2d(512, 256, kernel_size=(1, 1), stride=(1, 1), bias=False)\n      (bn1): BatchNorm2d(256, eps=1e-05, momentum=0.1, affine=True, track_running_stats=True)\n      (conv2): Conv2d(256, 256, kernel_size=(3, 3), stride=(2, 2), padding=(1, 1), bias=False)\n      (bn2): BatchNorm2d(256, eps=1e-05, momentum=0.1, affine=True, track_running_stats=True)\n      (conv3): Conv2d(256, 1024, kernel_size=(1, 1), stride=(1, 1), bias=False)\n      (bn3): BatchNorm2d(1024, eps=1e-05, momentum=0.1, affine=True, track_running_stats=True)\n      (relu): ReLU(inplace=True)\n      (downsample): Sequential(\n        (0): Conv2d(512, 1024, kernel_size=(1, 1), stride=(2, 2), bias=False)\n        (1): BatchNorm2d(1024, eps=1e-05, momentum=0.1, affine=True, track_running_stats=True)\n      )\n    )\n    (1): Bottleneck(\n      (conv1): Conv2d(1024, 256, kernel_size=(1, 1), stride=(1, 1), bias=False)\n      (bn1): BatchNorm2d(256, eps=1e-05, momentum=0.1, affine=True, track_running_stats=True)\n      (conv2): Conv2d(256, 256, kernel_size=(3, 3), stride=(1, 1), padding=(1, 1), bias=False)\n      (bn2): BatchNorm2d(256, eps=1e-05, momentum=0.1, affine=True, track_running_stats=True)\n      (conv3): Conv2d(256, 1024, kernel_size=(1, 1), stride=(1, 1), bias=False)\n      (bn3): BatchNorm2d(1024, eps=1e-05, momentum=0.1, affine=True, track_running_stats=True)\n      (relu): ReLU(inplace=True)\n    )\n    (2): Bottleneck(\n      (conv1): Conv2d(1024, 256, kernel_size=(1, 1), stride=(1, 1), bias=False)\n      (bn1): BatchNorm2d(256, eps=1e-05, momentum=0.1, affine=True, track_running_stats=True)\n      (conv2): Conv2d(256, 256, kernel_size=(3, 3), stride=(1, 1), padding=(1, 1), bias=False)\n      (bn2): BatchNorm2d(256, eps=1e-05, momentum=0.1, affine=True, track_running_stats=True)\n      (conv3): Conv2d(256, 1024, kernel_size=(1, 1), stride=(1, 1), bias=False)\n      (bn3): BatchNorm2d(1024, eps=1e-05, momentum=0.1, affine=True, track_running_stats=True)\n      (relu): ReLU(inplace=True)\n    )\n    (3): Bottleneck(\n      (conv1): Conv2d(1024, 256, kernel_size=(1, 1), stride=(1, 1), bias=False)\n      (bn1): BatchNorm2d(256, eps=1e-05, momentum=0.1, affine=True, track_running_stats=True)\n      (conv2): Conv2d(256, 256, kernel_size=(3, 3), stride=(1, 1), padding=(1, 1), bias=False)\n      (bn2): BatchNorm2d(256, eps=1e-05, momentum=0.1, affine=True, track_running_stats=True)\n      (conv3): Conv2d(256, 1024, kernel_size=(1, 1), stride=(1, 1), bias=False)\n      (bn3): BatchNorm2d(1024, eps=1e-05, momentum=0.1, affine=True, track_running_stats=True)\n      (relu): ReLU(inplace=True)\n    )\n    (4): Bottleneck(\n      (conv1): Conv2d(1024, 256, kernel_size=(1, 1), stride=(1, 1), bias=False)\n      (bn1): BatchNorm2d(256, eps=1e-05, momentum=0.1, affine=True, track_running_stats=True)\n      (conv2): Conv2d(256, 256, kernel_size=(3, 3), stride=(1, 1), padding=(1, 1), bias=False)\n      (bn2): BatchNorm2d(256, eps=1e-05, momentum=0.1, affine=True, track_running_stats=True)\n      (conv3): Conv2d(256, 1024, kernel_size=(1, 1), stride=(1, 1), bias=False)\n      (bn3): BatchNorm2d(1024, eps=1e-05, momentum=0.1, affine=True, track_running_stats=True)\n      (relu): ReLU(inplace=True)\n    )\n    (5): Bottleneck(\n      (conv1): Conv2d(1024, 256, kernel_size=(1, 1), stride=(1, 1), bias=False)\n      (bn1): BatchNorm2d(256, eps=1e-05, momentum=0.1, affine=True, track_running_stats=True)\n      (conv2): Conv2d(256, 256, kernel_size=(3, 3), stride=(1, 1), padding=(1, 1), bias=False)\n      (bn2): BatchNorm2d(256, eps=1e-05, momentum=0.1, affine=True, track_running_stats=True)\n      (conv3): Conv2d(256, 1024, kernel_size=(1, 1), stride=(1, 1), bias=False)\n      (bn3): BatchNorm2d(1024, eps=1e-05, momentum=0.1, affine=True, track_running_stats=True)\n      (relu): ReLU(inplace=True)\n    )\n  )\n  (layer4): Sequential(\n    (0): Bottleneck(\n      (conv1): Conv2d(1024, 512, kernel_size=(1, 1), stride=(1, 1), bias=False)\n      (bn1): BatchNorm2d(512, eps=1e-05, momentum=0.1, affine=True, track_running_stats=True)\n      (conv2): Conv2d(512, 512, kernel_size=(3, 3), stride=(2, 2), padding=(1, 1), bias=False)\n      (bn2): BatchNorm2d(512, eps=1e-05, momentum=0.1, affine=True, track_running_stats=True)\n      (conv3): Conv2d(512, 2048, kernel_size=(1, 1), stride=(1, 1), bias=False)\n      (bn3): BatchNorm2d(2048, eps=1e-05, momentum=0.1, affine=True, track_running_stats=True)\n      (relu): ReLU(inplace=True)\n      (downsample): Sequential(\n        (0): Conv2d(1024, 2048, kernel_size=(1, 1), stride=(2, 2), bias=False)\n        (1): BatchNorm2d(2048, eps=1e-05, momentum=0.1, affine=True, track_running_stats=True)\n      )\n    )\n    (1): Bottleneck(\n      (conv1): Conv2d(2048, 512, kernel_size=(1, 1), stride=(1, 1), bias=False)\n      (bn1): BatchNorm2d(512, eps=1e-05, momentum=0.1, affine=True, track_running_stats=True)\n      (conv2): Conv2d(512, 512, kernel_size=(3, 3), stride=(1, 1), padding=(1, 1), bias=False)\n      (bn2): BatchNorm2d(512, eps=1e-05, momentum=0.1, affine=True, track_running_stats=True)\n      (conv3): Conv2d(512, 2048, kernel_size=(1, 1), stride=(1, 1), bias=False)\n      (bn3): BatchNorm2d(2048, eps=1e-05, momentum=0.1, affine=True, track_running_stats=True)\n      (relu): ReLU(inplace=True)\n    )\n    (2): Bottleneck(\n      (conv1): Conv2d(2048, 512, kernel_size=(1, 1), stride=(1, 1), bias=False)\n      (bn1): BatchNorm2d(512, eps=1e-05, momentum=0.1, affine=True, track_running_stats=True)\n      (conv2): Conv2d(512, 512, kernel_size=(3, 3), stride=(1, 1), padding=(1, 1), bias=False)\n      (bn2): BatchNorm2d(512, eps=1e-05, momentum=0.1, affine=True, track_running_stats=True)\n      (conv3): Conv2d(512, 2048, kernel_size=(1, 1), stride=(1, 1), bias=False)\n      (bn3): BatchNorm2d(2048, eps=1e-05, momentum=0.1, affine=True, track_running_stats=True)\n      (relu): ReLU(inplace=True)\n    )\n  )\n  (avgpool): AdaptiveAvgPool2d(output_size=(1, 1))\n  (fc): Linear(in_features=2048, out_features=10, bias=True)\n)\n",
          "output_type": "stream"
        }
      ],
      "execution_count": null
    },
    {
      "cell_type": "code",
      "source": [
        "from torchvision import transforms\n",
        "from torchvision.datasets import ImageFolder\n",
        "from torch.utils.data import DataLoader, SubsetRandomSampler\n",
        "from sklearn.model_selection import train_test_split\n",
        "\n",
        "def load_dataset(data_directory, apply_augmentation):\n",
        "    \"\"\"\n",
        "    Load and preprocess image dataset with optional data augmentation.\n",
        "\n",
        "    Args:\n",
        "        data_directory (str): Path to the dataset directory.\n",
        "        apply_augmentation (str): 'Yes' to apply data augmentation, 'No' otherwise.\n",
        "\n",
        "    Returns:\n",
        "        train_loader (DataLoader): DataLoader for the training set.\n",
        "        val_loader (DataLoader): DataLoader for the validation set.\n",
        "    \"\"\"\n",
        "\n",
        "    # Define image transformation pipeline\n",
        "    if apply_augmentation == 'Yes':\n",
        "        transform_pipeline = transforms.Compose([\n",
        "            transforms.RandomResizedCrop(224),                       # Randomly crop and resize to 224x224\n",
        "            transforms.RandomHorizontalFlip(),                       # Random horizontal flip\n",
        "            transforms.ColorJitter(brightness=0.2,\n",
        "                                   contrast=0.2,\n",
        "                                   saturation=0.2,\n",
        "                                   hue=0.1),                         # Random brightness, contrast, etc.\n",
        "            transforms.RandomRotation(20),                           # Random rotation up to 20 degrees\n",
        "            transforms.ToTensor(),                                   # Convert image to tensor\n",
        "            transforms.Normalize((0.5, 0.5, 0.5),\n",
        "                                 (0.5, 0.5, 0.5))                    # Normalize to [-1, 1] range\n",
        "        ])\n",
        "    else:\n",
        "        transform_pipeline = transforms.Compose([\n",
        "            transforms.Resize((224, 224)),                           # Resize to 224x224\n",
        "            transforms.ToTensor(),\n",
        "            transforms.Normalize((0.5, 0.5, 0.5),\n",
        "                                 (0.5, 0.5, 0.5))\n",
        "        ])\n",
        "\n",
        "    # Load dataset from directory\n",
        "    dataset = ImageFolder(root=data_directory, transform=transform_pipeline)\n",
        "\n",
        "    # Split indices for training and validation sets\n",
        "    train_indices, val_indices = train_test_split(\n",
        "        list(range(len(dataset))), test_size=0.2, random_state=42\n",
        "    )\n",
        "\n",
        "    # Create samplers for training and validation\n",
        "    train_sampler = SubsetRandomSampler(train_indices)\n",
        "    val_sampler = SubsetRandomSampler(val_indices)\n",
        "\n",
        "    # DataLoaders with batch size of 32\n",
        "    train_loader = DataLoader(dataset, batch_size=32, sampler=train_sampler)\n",
        "    val_loader = DataLoader(dataset, batch_size=32, sampler=val_sampler)\n",
        "\n",
        "    return train_loader, val_loader\n"
      ],
      "metadata": {
        "trusted": true,
        "execution": {
          "iopub.status.busy": "2025-04-19T14:05:17.391657Z",
          "iopub.execute_input": "2025-04-19T14:05:17.391932Z",
          "iopub.status.idle": "2025-04-19T14:05:17.399023Z",
          "shell.execute_reply.started": "2025-04-19T14:05:17.391911Z",
          "shell.execute_reply": "2025-04-19T14:05:17.398277Z"
        },
        "id": "n0SGqJ9CtMED"
      },
      "outputs": [],
      "execution_count": null
    },
    {
      "cell_type": "code",
      "source": [
        "import torch\n",
        "import torch.nn as nn\n",
        "import torch.optim as optim\n",
        "\n",
        "def train_model_on_data(model, train_loader):\n",
        "    \"\"\"\n",
        "    Train the given model on training data for one epoch.\n",
        "\n",
        "    Args:\n",
        "        model (nn.Module): The neural network to train.\n",
        "        train_loader (DataLoader): DataLoader for the training set.\n",
        "\n",
        "    Returns:\n",
        "        avg_loss (float): Average training loss over the epoch.\n",
        "        train_accuracy (float): Training accuracy as a percentage.\n",
        "    \"\"\"\n",
        "\n",
        "    # Define loss function and optimizer\n",
        "    loss_function = nn.CrossEntropyLoss()\n",
        "    optimizer = optim.Adam(model.parameters(), lr=0.001)\n",
        "\n",
        "    # Set model to training mode\n",
        "    model.train()\n",
        "\n",
        "    # Initialize counters for tracking performance\n",
        "    cumulative_loss = 0.0\n",
        "    total_correct = 0\n",
        "    total_samples = 0\n",
        "\n",
        "    # Training loop over batches\n",
        "    for batch_images, batch_labels in train_loader:\n",
        "        # Move data to device (GPU if available)\n",
        "        batch_images, batch_labels = batch_images.to(device), batch_labels.to(device)\n",
        "\n",
        "        # Forward pass\n",
        "        predictions = model(batch_images)\n",
        "        loss = loss_function(predictions, batch_labels)\n",
        "\n",
        "        # Backward pass and optimization\n",
        "        optimizer.zero_grad()\n",
        "        loss.backward()\n",
        "        optimizer.step()\n",
        "\n",
        "        # Accumulate loss\n",
        "        cumulative_loss += loss.item()\n",
        "\n",
        "        # Compute number of correct predictions\n",
        "        _, predicted_classes = torch.max(predictions, 1)\n",
        "        total_correct += (predicted_classes == batch_labels).sum().item()\n",
        "        total_samples += batch_labels.size(0)\n",
        "\n",
        "    # Compute average loss and accuracy\n",
        "    avg_loss = cumulative_loss / len(train_loader)\n",
        "    train_accuracy = 100 * total_correct / total_samples\n",
        "\n",
        "    return avg_loss, train_accuracy\n"
      ],
      "metadata": {
        "trusted": true,
        "execution": {
          "iopub.status.busy": "2025-04-19T14:05:23.855418Z",
          "iopub.execute_input": "2025-04-19T14:05:23.855704Z",
          "iopub.status.idle": "2025-04-19T14:05:23.86173Z",
          "shell.execute_reply.started": "2025-04-19T14:05:23.855683Z",
          "shell.execute_reply": "2025-04-19T14:05:23.860935Z"
        },
        "id": "GNt0N073tMED"
      },
      "outputs": [],
      "execution_count": null
    },
    {
      "cell_type": "code",
      "source": [
        "import torch\n",
        "import torch.nn as nn\n",
        "\n",
        "def evaluate_model_on_validation(model, validation_loader):\n",
        "    \"\"\"\n",
        "    Evaluate the model on the validation set.\n",
        "\n",
        "    Args:\n",
        "        model (nn.Module): The trained model.\n",
        "        validation_loader (DataLoader): DataLoader for the validation set.\n",
        "\n",
        "    Returns:\n",
        "        avg_val_loss (float): Average loss on the validation set.\n",
        "        validation_accuracy (float): Accuracy on the validation set as a percentage.\n",
        "    \"\"\"\n",
        "\n",
        "    # Set model to evaluation mode (disables dropout, batchnorm updates, etc.)\n",
        "    model.eval()\n",
        "\n",
        "    # Define loss function\n",
        "    loss_function = nn.CrossEntropyLoss()\n",
        "\n",
        "    # Initialize counters for loss and accuracy\n",
        "    cumulative_val_loss = 0.0\n",
        "    correct_predictions = 0\n",
        "    total_samples = 0\n",
        "\n",
        "    # Disable gradient computation during evaluation\n",
        "    with torch.no_grad():\n",
        "        for batch_images, batch_labels in validation_loader:\n",
        "            # Move data to GPU if available\n",
        "            batch_images, batch_labels = batch_images.to(device), batch_labels.to(device)\n",
        "\n",
        "            # Forward pass\n",
        "            outputs = model(batch_images)\n",
        "            loss = loss_function(outputs, batch_labels)\n",
        "            cumulative_val_loss += loss.item()\n",
        "\n",
        "            # Calculate accuracy\n",
        "            _, predicted_classes = torch.max(outputs, 1)\n",
        "            correct_predictions += (predicted_classes == batch_labels).sum().item()\n",
        "            total_samples += batch_labels.size(0)\n",
        "\n",
        "    # Compute average loss and accuracy\n",
        "    avg_val_loss = cumulative_val_loss / len(validation_loader)\n",
        "    validation_accuracy = 100 * correct_predictions / total_samples\n",
        "\n",
        "    return avg_val_loss, validation_accuracy\n"
      ],
      "metadata": {
        "trusted": true,
        "execution": {
          "iopub.status.busy": "2025-04-19T14:05:27.298106Z",
          "iopub.execute_input": "2025-04-19T14:05:27.29867Z",
          "iopub.status.idle": "2025-04-19T14:05:27.304141Z",
          "shell.execute_reply.started": "2025-04-19T14:05:27.298644Z",
          "shell.execute_reply": "2025-04-19T14:05:27.303351Z"
        },
        "id": "Hu8kLeV1tMEE"
      },
      "outputs": [],
      "execution_count": null
    },
    {
      "cell_type": "code",
      "source": [
        "# Function to train and validate the model\n",
        "def train_and_validate_model(model, train_loader, val_loader, num_epochs):\n",
        "    \"\"\"\n",
        "    Trains the given model and evaluates on the validation set for each epoch.\n",
        "\n",
        "    Args:\n",
        "        model (nn.Module): The neural network to train.\n",
        "        train_loader (DataLoader): DataLoader for training data.\n",
        "        val_loader (DataLoader): DataLoader for validation data.\n",
        "        num_epochs (int): Number of training epochs.\n",
        "    \"\"\"\n",
        "\n",
        "    # Define the loss function and optimizer\n",
        "    loss_function = nn.CrossEntropyLoss()\n",
        "    optimizer = optim.Adam(model.parameters(), lr=0.001)\n",
        "\n",
        "    for epoch in range(num_epochs):\n",
        "        # Training phase\n",
        "        avg_train_loss, train_accuracy = train_model_on_data(model, train_loader)\n",
        "        print(f'Epoch {epoch+1}/{num_epochs}, Train Loss: {avg_train_loss:.4f}, Train Accuracy: {train_accuracy:.2f}%')\n",
        "\n",
        "        # Log training metrics to wandb\n",
        "        wandb.log({'Train Loss': avg_train_loss})\n",
        "        wandb.log({'Train Accuracy': train_accuracy})\n",
        "\n",
        "        # Validation phase\n",
        "        avg_val_loss, val_accuracy = evaluate_model_on_validation(model, val_loader)\n",
        "        print(f'Epoch {epoch+1}/{num_epochs}, Validation Loss: {avg_val_loss:.4f}, Validation Accuracy: {val_accuracy:.2f}%')\n",
        "\n",
        "        # Log validation metrics to wandb\n",
        "        wandb.log({'Validation Loss': avg_val_loss})\n",
        "        wandb.log({'Validation Accuracy': val_accuracy})\n",
        "        wandb.log({'Epoch': epoch + 1})\n",
        "\n",
        "    print('Training complete!')\n"
      ],
      "metadata": {
        "trusted": true,
        "execution": {
          "iopub.status.busy": "2025-04-19T14:05:35.99955Z",
          "iopub.execute_input": "2025-04-19T14:05:35.999829Z",
          "iopub.status.idle": "2025-04-19T14:05:36.005596Z",
          "shell.execute_reply.started": "2025-04-19T14:05:35.999808Z",
          "shell.execute_reply": "2025-04-19T14:05:36.004832Z"
        },
        "id": "DINDuPPqtMEE"
      },
      "outputs": [],
      "execution_count": null
    },
    {
      "cell_type": "code",
      "source": [
        "# Sweep configuration dictionary\n",
        "sweep_config = {\n",
        "    'method': 'bayes',  # 'bayes' will use Bayesian optimization to find optimal hyperparameters, other options are 'grid' or 'random'\n",
        "\n",
        "    'metric': {\n",
        "        'name': 'Validation Accuracy',  # Metric to optimize during the sweep\n",
        "        'goal': 'maximize'  # Goal is to maximize the validation accuracy\n",
        "    },\n",
        "\n",
        "    'parameters': {\n",
        "\n",
        "        'freeze_percent': {\n",
        "            'values': [0.0, 0.25, 0.5, 0.75]  # Different percentages of layers to freeze during fine-tuning\n",
        "        },\n",
        "\n",
        "        'model_name': {\n",
        "            'values': ['resnet', 'googlenet']  # Pre-trained model options for fine-tuning\n",
        "        },\n",
        "\n",
        "        'freeze_all_except_last_layer': {\n",
        "            'values': ['Yes', 'No']  # Option to freeze all layers except the last one or not\n",
        "        },\n",
        "\n",
        "        'epochs': {\n",
        "            'value': 5  # Number of epochs for each training run\n",
        "        }\n",
        "    }\n",
        "}\n",
        "\n",
        "# Initialize the W&B sweep using the config\n",
        "sweep_id = wandb.sweep(sweep_config, project=\"DA6401_A-2_Part-B\")  # Initialize sweep in the project \"DA6401_A-2_Part-B\"\n"
      ],
      "metadata": {
        "trusted": true,
        "execution": {
          "iopub.status.busy": "2025-04-17T13:41:13.239134Z",
          "iopub.execute_input": "2025-04-17T13:41:13.239404Z",
          "iopub.status.idle": "2025-04-17T13:41:13.526507Z",
          "shell.execute_reply.started": "2025-04-17T13:41:13.239387Z",
          "shell.execute_reply": "2025-04-17T13:41:13.525774Z"
        },
        "id": "ET-N9mNMtMEF",
        "outputId": "794fd6aa-6aed-4f78-b293-c8f35e8b1efa"
      },
      "outputs": [
        {
          "name": "stdout",
          "text": "Create sweep with ID: jilrfsdr\nSweep URL: https://wandb.ai/ma23m013-iit-madras/DA6401_A-2_Part-B/sweeps/jilrfsdr\n",
          "output_type": "stream"
        }
      ],
      "execution_count": null
    },
    {
      "cell_type": "code",
      "source": [
        "def main():\n",
        "    '''\n",
        "    WandB calls the main function each time with a different combination of hyperparameters.\n",
        "    We can retrieve the configuration values from `wandb.config` and use them in our model training.\n",
        "\n",
        "    This function initializes the W&B run, loads the pre-trained model with specified hyperparameters,\n",
        "    prepares the dataset, and starts the training process.\n",
        "    '''\n",
        "\n",
        "    # Initialize W&B run\n",
        "    with wandb.init() as run:\n",
        "        # Define the run name based on hyperparameters for better tracking\n",
        "        run_name = \"ep\" + str(wandb.config.epochs) + \"_fp-\" + str(wandb.config.freeze_percent) + \"_model-\" + str(wandb.config.model_name)\n",
        "        wandb.run.name = run_name  # Set the name for this run in W&B\n",
        "\n",
        "        # Load the pre-trained model based on configuration\n",
        "        model = pretrain_model(\n",
        "            model_name=wandb.config.model_name,\n",
        "            freeze_percent=wandb.config.freeze_percent,\n",
        "            freeze_all_except_last_layer=wandb.config.freeze_all_except_last_layer\n",
        "        )\n",
        "\n",
        "        # Move the model to the appropriate device (CPU or GPU)\n",
        "        model = model.to(device)\n",
        "\n",
        "        # Define the directory where the training data is located\n",
        "        data_dir = '/kaggle/input/inaturalist-dataset/inaturalist_12K/train'\n",
        "\n",
        "        # Load the training and validation data with or without data augmentation\n",
        "        train_data, val_data = load_dataset(data_dir, apply_augmentation='No')\n",
        "\n",
        "        # Train the model with the loaded data and configurations\n",
        "        train_and_validate_model(model, train_data, val_data, num_epochs=wandb.config.epochs)\n",
        "\n",
        "\n",
        "# Start the W&B sweep, calling the main function for the specified number of times\n",
        "wandb.agent(sweep_id, function=main, count=10)  # Number of runs = 1 in this case, but can be increased\n",
        "wandb.finish()  # Finish the W&B run after the sweep is complete\n"
      ],
      "metadata": {
        "trusted": true,
        "execution": {
          "iopub.status.busy": "2025-04-17T13:41:15.418019Z",
          "iopub.execute_input": "2025-04-17T13:41:15.418517Z",
          "iopub.status.idle": "2025-04-17T15:24:59.433436Z",
          "shell.execute_reply.started": "2025-04-17T13:41:15.418498Z",
          "shell.execute_reply": "2025-04-17T15:24:59.432913Z"
        },
        "id": "sE_3oEmptMEF",
        "outputId": "6d859a47-c503-4ef0-d134-867828cf7f2c"
      },
      "outputs": [
        {
          "name": "stderr",
          "text": "\u001b[34m\u001b[1mwandb\u001b[0m: Agent Starting Run: m92ku3du with config:\n\u001b[34m\u001b[1mwandb\u001b[0m: \tepochs: 5\n\u001b[34m\u001b[1mwandb\u001b[0m: \tfreeze_all_except_last_layer: Yes\n\u001b[34m\u001b[1mwandb\u001b[0m: \tfreeze_percent: 0\n\u001b[34m\u001b[1mwandb\u001b[0m: \tmodel_name: resnet\n\u001b[34m\u001b[1mwandb\u001b[0m: Using wandb-core as the SDK backend.  Please refer to https://wandb.me/wandb-core for more information.\n",
          "output_type": "stream"
        },
        {
          "output_type": "display_data",
          "data": {
            "text/plain": "<IPython.core.display.HTML object>",
            "text/html": "Tracking run with wandb version 0.19.6"
          },
          "metadata": {}
        },
        {
          "output_type": "display_data",
          "data": {
            "text/plain": "<IPython.core.display.HTML object>",
            "text/html": "Run data is saved locally in <code>/kaggle/working/wandb/run-20250417_134121-m92ku3du</code>"
          },
          "metadata": {}
        },
        {
          "output_type": "display_data",
          "data": {
            "text/plain": "<IPython.core.display.HTML object>",
            "text/html": "Syncing run <strong><a href='https://wandb.ai/ma23m013-iit-madras/DA6401_A-2_Part-B/runs/m92ku3du' target=\"_blank\">genial-sweep-1</a></strong> to <a href='https://wandb.ai/ma23m013-iit-madras/DA6401_A-2_Part-B' target=\"_blank\">Weights & Biases</a> (<a href='https://wandb.me/developer-guide' target=\"_blank\">docs</a>)<br>Sweep page: <a href='https://wandb.ai/ma23m013-iit-madras/DA6401_A-2_Part-B/sweeps/jilrfsdr' target=\"_blank\">https://wandb.ai/ma23m013-iit-madras/DA6401_A-2_Part-B/sweeps/jilrfsdr</a>"
          },
          "metadata": {}
        },
        {
          "output_type": "display_data",
          "data": {
            "text/plain": "<IPython.core.display.HTML object>",
            "text/html": " View project at <a href='https://wandb.ai/ma23m013-iit-madras/DA6401_A-2_Part-B' target=\"_blank\">https://wandb.ai/ma23m013-iit-madras/DA6401_A-2_Part-B</a>"
          },
          "metadata": {}
        },
        {
          "output_type": "display_data",
          "data": {
            "text/plain": "<IPython.core.display.HTML object>",
            "text/html": " View sweep at <a href='https://wandb.ai/ma23m013-iit-madras/DA6401_A-2_Part-B/sweeps/jilrfsdr' target=\"_blank\">https://wandb.ai/ma23m013-iit-madras/DA6401_A-2_Part-B/sweeps/jilrfsdr</a>"
          },
          "metadata": {}
        },
        {
          "output_type": "display_data",
          "data": {
            "text/plain": "<IPython.core.display.HTML object>",
            "text/html": " View run at <a href='https://wandb.ai/ma23m013-iit-madras/DA6401_A-2_Part-B/runs/m92ku3du' target=\"_blank\">https://wandb.ai/ma23m013-iit-madras/DA6401_A-2_Part-B/runs/m92ku3du</a>"
          },
          "metadata": {}
        },
        {
          "name": "stdout",
          "text": "Epoch 1/5, Train Loss: 1.1326, Train Accuracy: 63.26%\nEpoch 1/5, Validation Loss: 0.8604, Validation Accuracy: 72.95%\nEpoch 2/5, Train Loss: 0.8336, Train Accuracy: 72.92%\nEpoch 2/5, Validation Loss: 0.7892, Validation Accuracy: 73.95%\nEpoch 3/5, Train Loss: 0.7901, Train Accuracy: 73.91%\nEpoch 3/5, Validation Loss: 0.8360, Validation Accuracy: 73.00%\nEpoch 4/5, Train Loss: 0.7579, Train Accuracy: 74.80%\nEpoch 4/5, Validation Loss: 0.7916, Validation Accuracy: 74.10%\nEpoch 5/5, Train Loss: 0.7246, Train Accuracy: 75.81%\nEpoch 5/5, Validation Loss: 0.8096, Validation Accuracy: 73.75%\nTraining complete!\n",
          "output_type": "stream"
        },
        {
          "output_type": "display_data",
          "data": {
            "text/plain": "<IPython.core.display.HTML object>",
            "text/html": ""
          },
          "metadata": {}
        },
        {
          "output_type": "display_data",
          "data": {
            "text/plain": "<IPython.core.display.HTML object>",
            "text/html": "<br>    <style><br>        .wandb-row {<br>            display: flex;<br>            flex-direction: row;<br>            flex-wrap: wrap;<br>            justify-content: flex-start;<br>            width: 100%;<br>        }<br>        .wandb-col {<br>            display: flex;<br>            flex-direction: column;<br>            flex-basis: 100%;<br>            flex: 1;<br>            padding: 10px;<br>        }<br>    </style><br><div class=\"wandb-row\"><div class=\"wandb-col\"><h3>Run history:</h3><br/><table class=\"wandb\"><tr><td>Epoch</td><td>▁▃▅▆█</td></tr><tr><td>Train Accuracy</td><td>▁▆▇▇█</td></tr><tr><td>Train Loss</td><td>█▃▂▂▁</td></tr><tr><td>Validation Accuracy</td><td>▁▇▁█▆</td></tr><tr><td>Validation Loss</td><td>█▁▆▁▃</td></tr></table><br/></div><div class=\"wandb-col\"><h3>Run summary:</h3><br/><table class=\"wandb\"><tr><td>Epoch</td><td>5</td></tr><tr><td>Train Accuracy</td><td>75.80948</td></tr><tr><td>Train Loss</td><td>0.72465</td></tr><tr><td>Validation Accuracy</td><td>73.75</td></tr><tr><td>Validation Loss</td><td>0.80959</td></tr></table><br/></div></div>"
          },
          "metadata": {}
        },
        {
          "output_type": "display_data",
          "data": {
            "text/plain": "<IPython.core.display.HTML object>",
            "text/html": " View run <strong style=\"color:#cdcd00\">ep5_fp-0_model-resnet</strong> at: <a href='https://wandb.ai/ma23m013-iit-madras/DA6401_A-2_Part-B/runs/m92ku3du' target=\"_blank\">https://wandb.ai/ma23m013-iit-madras/DA6401_A-2_Part-B/runs/m92ku3du</a><br> View project at: <a href='https://wandb.ai/ma23m013-iit-madras/DA6401_A-2_Part-B' target=\"_blank\">https://wandb.ai/ma23m013-iit-madras/DA6401_A-2_Part-B</a><br>Synced 5 W&B file(s), 0 media file(s), 0 artifact file(s) and 0 other file(s)"
          },
          "metadata": {}
        },
        {
          "output_type": "display_data",
          "data": {
            "text/plain": "<IPython.core.display.HTML object>",
            "text/html": "Find logs at: <code>./wandb/run-20250417_134121-m92ku3du/logs</code>"
          },
          "metadata": {}
        },
        {
          "name": "stderr",
          "text": "\u001b[34m\u001b[1mwandb\u001b[0m: Agent Starting Run: 5lrmqu76 with config:\n\u001b[34m\u001b[1mwandb\u001b[0m: \tepochs: 5\n\u001b[34m\u001b[1mwandb\u001b[0m: \tfreeze_all_except_last_layer: Yes\n\u001b[34m\u001b[1mwandb\u001b[0m: \tfreeze_percent: 0\n\u001b[34m\u001b[1mwandb\u001b[0m: \tmodel_name: googlenet\n",
          "output_type": "stream"
        },
        {
          "output_type": "display_data",
          "data": {
            "text/plain": "<IPython.core.display.HTML object>",
            "text/html": "Tracking run with wandb version 0.19.6"
          },
          "metadata": {}
        },
        {
          "output_type": "display_data",
          "data": {
            "text/plain": "<IPython.core.display.HTML object>",
            "text/html": "Run data is saved locally in <code>/kaggle/working/wandb/run-20250417_135221-5lrmqu76</code>"
          },
          "metadata": {}
        },
        {
          "output_type": "display_data",
          "data": {
            "text/plain": "<IPython.core.display.HTML object>",
            "text/html": "Syncing run <strong><a href='https://wandb.ai/ma23m013-iit-madras/DA6401_A-2_Part-B/runs/5lrmqu76' target=\"_blank\">snowy-sweep-2</a></strong> to <a href='https://wandb.ai/ma23m013-iit-madras/DA6401_A-2_Part-B' target=\"_blank\">Weights & Biases</a> (<a href='https://wandb.me/developer-guide' target=\"_blank\">docs</a>)<br>Sweep page: <a href='https://wandb.ai/ma23m013-iit-madras/DA6401_A-2_Part-B/sweeps/jilrfsdr' target=\"_blank\">https://wandb.ai/ma23m013-iit-madras/DA6401_A-2_Part-B/sweeps/jilrfsdr</a>"
          },
          "metadata": {}
        },
        {
          "output_type": "display_data",
          "data": {
            "text/plain": "<IPython.core.display.HTML object>",
            "text/html": " View project at <a href='https://wandb.ai/ma23m013-iit-madras/DA6401_A-2_Part-B' target=\"_blank\">https://wandb.ai/ma23m013-iit-madras/DA6401_A-2_Part-B</a>"
          },
          "metadata": {}
        },
        {
          "output_type": "display_data",
          "data": {
            "text/plain": "<IPython.core.display.HTML object>",
            "text/html": " View sweep at <a href='https://wandb.ai/ma23m013-iit-madras/DA6401_A-2_Part-B/sweeps/jilrfsdr' target=\"_blank\">https://wandb.ai/ma23m013-iit-madras/DA6401_A-2_Part-B/sweeps/jilrfsdr</a>"
          },
          "metadata": {}
        },
        {
          "output_type": "display_data",
          "data": {
            "text/plain": "<IPython.core.display.HTML object>",
            "text/html": " View run at <a href='https://wandb.ai/ma23m013-iit-madras/DA6401_A-2_Part-B/runs/5lrmqu76' target=\"_blank\">https://wandb.ai/ma23m013-iit-madras/DA6401_A-2_Part-B/runs/5lrmqu76</a>"
          },
          "metadata": {}
        },
        {
          "name": "stdout",
          "text": "Epoch 1/5, Train Loss: 1.4553, Train Accuracy: 55.03%\nEpoch 1/5, Validation Loss: 1.1061, Validation Accuracy: 65.15%\nEpoch 2/5, Train Loss: 1.0713, Train Accuracy: 65.36%\nEpoch 2/5, Validation Loss: 0.9998, Validation Accuracy: 67.55%\nEpoch 3/5, Train Loss: 0.9985, Train Accuracy: 67.36%\nEpoch 3/5, Validation Loss: 0.9973, Validation Accuracy: 68.25%\nEpoch 4/5, Train Loss: 0.9669, Train Accuracy: 68.15%\nEpoch 4/5, Validation Loss: 0.9684, Validation Accuracy: 67.55%\nEpoch 5/5, Train Loss: 0.9437, Train Accuracy: 68.00%\nEpoch 5/5, Validation Loss: 0.9623, Validation Accuracy: 67.50%\nTraining complete!\n",
          "output_type": "stream"
        },
        {
          "output_type": "display_data",
          "data": {
            "text/plain": "<IPython.core.display.HTML object>",
            "text/html": ""
          },
          "metadata": {}
        },
        {
          "output_type": "display_data",
          "data": {
            "text/plain": "<IPython.core.display.HTML object>",
            "text/html": "<br>    <style><br>        .wandb-row {<br>            display: flex;<br>            flex-direction: row;<br>            flex-wrap: wrap;<br>            justify-content: flex-start;<br>            width: 100%;<br>        }<br>        .wandb-col {<br>            display: flex;<br>            flex-direction: column;<br>            flex-basis: 100%;<br>            flex: 1;<br>            padding: 10px;<br>        }<br>    </style><br><div class=\"wandb-row\"><div class=\"wandb-col\"><h3>Run history:</h3><br/><table class=\"wandb\"><tr><td>Epoch</td><td>▁▃▅▆█</td></tr><tr><td>Train Accuracy</td><td>▁▇███</td></tr><tr><td>Train Loss</td><td>█▃▂▁▁</td></tr><tr><td>Validation Accuracy</td><td>▁▆█▆▆</td></tr><tr><td>Validation Loss</td><td>█▃▃▁▁</td></tr></table><br/></div><div class=\"wandb-col\"><h3>Run summary:</h3><br/><table class=\"wandb\"><tr><td>Epoch</td><td>5</td></tr><tr><td>Train Accuracy</td><td>67.996</td></tr><tr><td>Train Loss</td><td>0.94366</td></tr><tr><td>Validation Accuracy</td><td>67.5</td></tr><tr><td>Validation Loss</td><td>0.96229</td></tr></table><br/></div></div>"
          },
          "metadata": {}
        },
        {
          "output_type": "display_data",
          "data": {
            "text/plain": "<IPython.core.display.HTML object>",
            "text/html": " View run <strong style=\"color:#cdcd00\">ep5_fp-0_model-googlenet</strong> at: <a href='https://wandb.ai/ma23m013-iit-madras/DA6401_A-2_Part-B/runs/5lrmqu76' target=\"_blank\">https://wandb.ai/ma23m013-iit-madras/DA6401_A-2_Part-B/runs/5lrmqu76</a><br> View project at: <a href='https://wandb.ai/ma23m013-iit-madras/DA6401_A-2_Part-B' target=\"_blank\">https://wandb.ai/ma23m013-iit-madras/DA6401_A-2_Part-B</a><br>Synced 5 W&B file(s), 0 media file(s), 0 artifact file(s) and 0 other file(s)"
          },
          "metadata": {}
        },
        {
          "output_type": "display_data",
          "data": {
            "text/plain": "<IPython.core.display.HTML object>",
            "text/html": "Find logs at: <code>./wandb/run-20250417_135221-5lrmqu76/logs</code>"
          },
          "metadata": {}
        },
        {
          "name": "stderr",
          "text": "\u001b[34m\u001b[1mwandb\u001b[0m: Agent Starting Run: rzt5ogoi with config:\n\u001b[34m\u001b[1mwandb\u001b[0m: \tepochs: 5\n\u001b[34m\u001b[1mwandb\u001b[0m: \tfreeze_all_except_last_layer: Yes\n\u001b[34m\u001b[1mwandb\u001b[0m: \tfreeze_percent: 0.75\n\u001b[34m\u001b[1mwandb\u001b[0m: \tmodel_name: resnet\n",
          "output_type": "stream"
        },
        {
          "output_type": "display_data",
          "data": {
            "text/plain": "<IPython.core.display.HTML object>",
            "text/html": "Tracking run with wandb version 0.19.6"
          },
          "metadata": {}
        },
        {
          "output_type": "display_data",
          "data": {
            "text/plain": "<IPython.core.display.HTML object>",
            "text/html": "Run data is saved locally in <code>/kaggle/working/wandb/run-20250417_140145-rzt5ogoi</code>"
          },
          "metadata": {}
        },
        {
          "output_type": "display_data",
          "data": {
            "text/plain": "<IPython.core.display.HTML object>",
            "text/html": "Syncing run <strong><a href='https://wandb.ai/ma23m013-iit-madras/DA6401_A-2_Part-B/runs/rzt5ogoi' target=\"_blank\">comic-sweep-3</a></strong> to <a href='https://wandb.ai/ma23m013-iit-madras/DA6401_A-2_Part-B' target=\"_blank\">Weights & Biases</a> (<a href='https://wandb.me/developer-guide' target=\"_blank\">docs</a>)<br>Sweep page: <a href='https://wandb.ai/ma23m013-iit-madras/DA6401_A-2_Part-B/sweeps/jilrfsdr' target=\"_blank\">https://wandb.ai/ma23m013-iit-madras/DA6401_A-2_Part-B/sweeps/jilrfsdr</a>"
          },
          "metadata": {}
        },
        {
          "output_type": "display_data",
          "data": {
            "text/plain": "<IPython.core.display.HTML object>",
            "text/html": " View project at <a href='https://wandb.ai/ma23m013-iit-madras/DA6401_A-2_Part-B' target=\"_blank\">https://wandb.ai/ma23m013-iit-madras/DA6401_A-2_Part-B</a>"
          },
          "metadata": {}
        },
        {
          "output_type": "display_data",
          "data": {
            "text/plain": "<IPython.core.display.HTML object>",
            "text/html": " View sweep at <a href='https://wandb.ai/ma23m013-iit-madras/DA6401_A-2_Part-B/sweeps/jilrfsdr' target=\"_blank\">https://wandb.ai/ma23m013-iit-madras/DA6401_A-2_Part-B/sweeps/jilrfsdr</a>"
          },
          "metadata": {}
        },
        {
          "output_type": "display_data",
          "data": {
            "text/plain": "<IPython.core.display.HTML object>",
            "text/html": " View run at <a href='https://wandb.ai/ma23m013-iit-madras/DA6401_A-2_Part-B/runs/rzt5ogoi' target=\"_blank\">https://wandb.ai/ma23m013-iit-madras/DA6401_A-2_Part-B/runs/rzt5ogoi</a>"
          },
          "metadata": {}
        },
        {
          "name": "stdout",
          "text": "Epoch 1/5, Validation Loss: 0.8810, Validation Accuracy: 70.55%\nEpoch 2/5, Train Loss: 0.8397, Train Accuracy: 72.61%\nEpoch 2/5, Validation Loss: 0.7896, Validation Accuracy: 74.75%\nEpoch 3/5, Train Loss: 0.7862, Train Accuracy: 74.47%\nEpoch 3/5, Validation Loss: 0.8217, Validation Accuracy: 73.70%\nEpoch 4/5, Train Loss: 0.7600, Train Accuracy: 74.88%\nEpoch 4/5, Validation Loss: 0.8329, Validation Accuracy: 72.60%\nEpoch 5/5, Train Loss: 0.7395, Train Accuracy: 75.28%\nEpoch 5/5, Validation Loss: 0.8229, Validation Accuracy: 72.75%\nTraining complete!\n",
          "output_type": "stream"
        },
        {
          "output_type": "display_data",
          "data": {
            "text/plain": "<IPython.core.display.HTML object>",
            "text/html": ""
          },
          "metadata": {}
        },
        {
          "output_type": "display_data",
          "data": {
            "text/plain": "<IPython.core.display.HTML object>",
            "text/html": "<br>    <style><br>        .wandb-row {<br>            display: flex;<br>            flex-direction: row;<br>            flex-wrap: wrap;<br>            justify-content: flex-start;<br>            width: 100%;<br>        }<br>        .wandb-col {<br>            display: flex;<br>            flex-direction: column;<br>            flex-basis: 100%;<br>            flex: 1;<br>            padding: 10px;<br>        }<br>    </style><br><div class=\"wandb-row\"><div class=\"wandb-col\"><h3>Run history:</h3><br/><table class=\"wandb\"><tr><td>Epoch</td><td>▁▃▅▆█</td></tr><tr><td>Train Accuracy</td><td>▁▆███</td></tr><tr><td>Train Loss</td><td>█▃▂▁▁</td></tr><tr><td>Validation Accuracy</td><td>▁█▆▄▅</td></tr><tr><td>Validation Loss</td><td>█▁▃▄▄</td></tr></table><br/></div><div class=\"wandb-col\"><h3>Run summary:</h3><br/><table class=\"wandb\"><tr><td>Epoch</td><td>5</td></tr><tr><td>Train Accuracy</td><td>75.28441</td></tr><tr><td>Train Loss</td><td>0.73948</td></tr><tr><td>Validation Accuracy</td><td>72.75</td></tr><tr><td>Validation Loss</td><td>0.82294</td></tr></table><br/></div></div>"
          },
          "metadata": {}
        },
        {
          "output_type": "display_data",
          "data": {
            "text/plain": "<IPython.core.display.HTML object>",
            "text/html": " View run <strong style=\"color:#cdcd00\">ep5_fp-0.75_model-resnet</strong> at: <a href='https://wandb.ai/ma23m013-iit-madras/DA6401_A-2_Part-B/runs/rzt5ogoi' target=\"_blank\">https://wandb.ai/ma23m013-iit-madras/DA6401_A-2_Part-B/runs/rzt5ogoi</a><br> View project at: <a href='https://wandb.ai/ma23m013-iit-madras/DA6401_A-2_Part-B' target=\"_blank\">https://wandb.ai/ma23m013-iit-madras/DA6401_A-2_Part-B</a><br>Synced 5 W&B file(s), 0 media file(s), 0 artifact file(s) and 0 other file(s)"
          },
          "metadata": {}
        },
        {
          "output_type": "display_data",
          "data": {
            "text/plain": "<IPython.core.display.HTML object>",
            "text/html": "Find logs at: <code>./wandb/run-20250417_140145-rzt5ogoi/logs</code>"
          },
          "metadata": {}
        },
        {
          "name": "stderr",
          "text": "\u001b[34m\u001b[1mwandb\u001b[0m: Agent Starting Run: cm1jltlm with config:\n\u001b[34m\u001b[1mwandb\u001b[0m: \tepochs: 5\n\u001b[34m\u001b[1mwandb\u001b[0m: \tfreeze_all_except_last_layer: Yes\n\u001b[34m\u001b[1mwandb\u001b[0m: \tfreeze_percent: 0.25\n\u001b[34m\u001b[1mwandb\u001b[0m: \tmodel_name: resnet\n",
          "output_type": "stream"
        },
        {
          "output_type": "display_data",
          "data": {
            "text/plain": "<IPython.core.display.HTML object>",
            "text/html": "Tracking run with wandb version 0.19.6"
          },
          "metadata": {}
        },
        {
          "output_type": "display_data",
          "data": {
            "text/plain": "<IPython.core.display.HTML object>",
            "text/html": "Run data is saved locally in <code>/kaggle/working/wandb/run-20250417_141145-cm1jltlm</code>"
          },
          "metadata": {}
        },
        {
          "output_type": "display_data",
          "data": {
            "text/plain": "<IPython.core.display.HTML object>",
            "text/html": "Syncing run <strong><a href='https://wandb.ai/ma23m013-iit-madras/DA6401_A-2_Part-B/runs/cm1jltlm' target=\"_blank\">deft-sweep-4</a></strong> to <a href='https://wandb.ai/ma23m013-iit-madras/DA6401_A-2_Part-B' target=\"_blank\">Weights & Biases</a> (<a href='https://wandb.me/developer-guide' target=\"_blank\">docs</a>)<br>Sweep page: <a href='https://wandb.ai/ma23m013-iit-madras/DA6401_A-2_Part-B/sweeps/jilrfsdr' target=\"_blank\">https://wandb.ai/ma23m013-iit-madras/DA6401_A-2_Part-B/sweeps/jilrfsdr</a>"
          },
          "metadata": {}
        },
        {
          "output_type": "display_data",
          "data": {
            "text/plain": "<IPython.core.display.HTML object>",
            "text/html": " View project at <a href='https://wandb.ai/ma23m013-iit-madras/DA6401_A-2_Part-B' target=\"_blank\">https://wandb.ai/ma23m013-iit-madras/DA6401_A-2_Part-B</a>"
          },
          "metadata": {}
        },
        {
          "output_type": "display_data",
          "data": {
            "text/plain": "<IPython.core.display.HTML object>",
            "text/html": " View sweep at <a href='https://wandb.ai/ma23m013-iit-madras/DA6401_A-2_Part-B/sweeps/jilrfsdr' target=\"_blank\">https://wandb.ai/ma23m013-iit-madras/DA6401_A-2_Part-B/sweeps/jilrfsdr</a>"
          },
          "metadata": {}
        },
        {
          "output_type": "display_data",
          "data": {
            "text/plain": "<IPython.core.display.HTML object>",
            "text/html": " View run at <a href='https://wandb.ai/ma23m013-iit-madras/DA6401_A-2_Part-B/runs/cm1jltlm' target=\"_blank\">https://wandb.ai/ma23m013-iit-madras/DA6401_A-2_Part-B/runs/cm1jltlm</a>"
          },
          "metadata": {}
        },
        {
          "name": "stdout",
          "text": "Epoch 1/5, Train Loss: 1.1258, Train Accuracy: 63.50%\nEpoch 1/5, Validation Loss: 0.8282, Validation Accuracy: 73.20%\nEpoch 2/5, Train Loss: 0.8346, Train Accuracy: 72.57%\nEpoch 2/5, Validation Loss: 0.7891, Validation Accuracy: 74.50%\nEpoch 3/5, Train Loss: 0.7828, Train Accuracy: 74.48%\nEpoch 3/5, Validation Loss: 0.7937, Validation Accuracy: 73.80%\nEpoch 4/5, Train Loss: 0.7505, Train Accuracy: 75.20%\nEpoch 4/5, Validation Loss: 0.8138, Validation Accuracy: 73.45%\nEpoch 5/5, Train Loss: 0.7313, Train Accuracy: 75.86%\nEpoch 5/5, Validation Loss: 0.7848, Validation Accuracy: 74.60%\nTraining complete!\n",
          "output_type": "stream"
        },
        {
          "output_type": "display_data",
          "data": {
            "text/plain": "<IPython.core.display.HTML object>",
            "text/html": ""
          },
          "metadata": {}
        },
        {
          "output_type": "display_data",
          "data": {
            "text/plain": "<IPython.core.display.HTML object>",
            "text/html": "<br>    <style><br>        .wandb-row {<br>            display: flex;<br>            flex-direction: row;<br>            flex-wrap: wrap;<br>            justify-content: flex-start;<br>            width: 100%;<br>        }<br>        .wandb-col {<br>            display: flex;<br>            flex-direction: column;<br>            flex-basis: 100%;<br>            flex: 1;<br>            padding: 10px;<br>        }<br>    </style><br><div class=\"wandb-row\"><div class=\"wandb-col\"><h3>Run history:</h3><br/><table class=\"wandb\"><tr><td>Epoch</td><td>▁▃▅▆█</td></tr><tr><td>Train Accuracy</td><td>▁▆▇██</td></tr><tr><td>Train Loss</td><td>█▃▂▁▁</td></tr><tr><td>Validation Accuracy</td><td>▁█▄▂█</td></tr><tr><td>Validation Loss</td><td>█▂▂▆▁</td></tr></table><br/></div><div class=\"wandb-col\"><h3>Run summary:</h3><br/><table class=\"wandb\"><tr><td>Epoch</td><td>5</td></tr><tr><td>Train Accuracy</td><td>75.85948</td></tr><tr><td>Train Loss</td><td>0.73133</td></tr><tr><td>Validation Accuracy</td><td>74.6</td></tr><tr><td>Validation Loss</td><td>0.7848</td></tr></table><br/></div></div>"
          },
          "metadata": {}
        },
        {
          "output_type": "display_data",
          "data": {
            "text/plain": "<IPython.core.display.HTML object>",
            "text/html": " View run <strong style=\"color:#cdcd00\">ep5_fp-0.25_model-resnet</strong> at: <a href='https://wandb.ai/ma23m013-iit-madras/DA6401_A-2_Part-B/runs/cm1jltlm' target=\"_blank\">https://wandb.ai/ma23m013-iit-madras/DA6401_A-2_Part-B/runs/cm1jltlm</a><br> View project at: <a href='https://wandb.ai/ma23m013-iit-madras/DA6401_A-2_Part-B' target=\"_blank\">https://wandb.ai/ma23m013-iit-madras/DA6401_A-2_Part-B</a><br>Synced 5 W&B file(s), 0 media file(s), 0 artifact file(s) and 0 other file(s)"
          },
          "metadata": {}
        },
        {
          "output_type": "display_data",
          "data": {
            "text/plain": "<IPython.core.display.HTML object>",
            "text/html": "Find logs at: <code>./wandb/run-20250417_141145-cm1jltlm/logs</code>"
          },
          "metadata": {}
        },
        {
          "name": "stderr",
          "text": "\u001b[34m\u001b[1mwandb\u001b[0m: Agent Starting Run: stptbup9 with config:\n\u001b[34m\u001b[1mwandb\u001b[0m: \tepochs: 5\n\u001b[34m\u001b[1mwandb\u001b[0m: \tfreeze_all_except_last_layer: No\n\u001b[34m\u001b[1mwandb\u001b[0m: \tfreeze_percent: 0.25\n\u001b[34m\u001b[1mwandb\u001b[0m: \tmodel_name: resnet\n",
          "output_type": "stream"
        },
        {
          "output_type": "display_data",
          "data": {
            "text/plain": "<IPython.core.display.HTML object>",
            "text/html": "Tracking run with wandb version 0.19.6"
          },
          "metadata": {}
        },
        {
          "output_type": "display_data",
          "data": {
            "text/plain": "<IPython.core.display.HTML object>",
            "text/html": "Run data is saved locally in <code>/kaggle/working/wandb/run-20250417_142148-stptbup9</code>"
          },
          "metadata": {}
        },
        {
          "output_type": "display_data",
          "data": {
            "text/plain": "<IPython.core.display.HTML object>",
            "text/html": "Syncing run <strong><a href='https://wandb.ai/ma23m013-iit-madras/DA6401_A-2_Part-B/runs/stptbup9' target=\"_blank\">hardy-sweep-5</a></strong> to <a href='https://wandb.ai/ma23m013-iit-madras/DA6401_A-2_Part-B' target=\"_blank\">Weights & Biases</a> (<a href='https://wandb.me/developer-guide' target=\"_blank\">docs</a>)<br>Sweep page: <a href='https://wandb.ai/ma23m013-iit-madras/DA6401_A-2_Part-B/sweeps/jilrfsdr' target=\"_blank\">https://wandb.ai/ma23m013-iit-madras/DA6401_A-2_Part-B/sweeps/jilrfsdr</a>"
          },
          "metadata": {}
        },
        {
          "output_type": "display_data",
          "data": {
            "text/plain": "<IPython.core.display.HTML object>",
            "text/html": " View project at <a href='https://wandb.ai/ma23m013-iit-madras/DA6401_A-2_Part-B' target=\"_blank\">https://wandb.ai/ma23m013-iit-madras/DA6401_A-2_Part-B</a>"
          },
          "metadata": {}
        },
        {
          "output_type": "display_data",
          "data": {
            "text/plain": "<IPython.core.display.HTML object>",
            "text/html": " View sweep at <a href='https://wandb.ai/ma23m013-iit-madras/DA6401_A-2_Part-B/sweeps/jilrfsdr' target=\"_blank\">https://wandb.ai/ma23m013-iit-madras/DA6401_A-2_Part-B/sweeps/jilrfsdr</a>"
          },
          "metadata": {}
        },
        {
          "output_type": "display_data",
          "data": {
            "text/plain": "<IPython.core.display.HTML object>",
            "text/html": " View run at <a href='https://wandb.ai/ma23m013-iit-madras/DA6401_A-2_Part-B/runs/stptbup9' target=\"_blank\">https://wandb.ai/ma23m013-iit-madras/DA6401_A-2_Part-B/runs/stptbup9</a>"
          },
          "metadata": {}
        },
        {
          "name": "stdout",
          "text": "Epoch 1/5, Train Loss: 1.9589, Train Accuracy: 31.64%\nEpoch 1/5, Validation Loss: 2.8046, Validation Accuracy: 30.65%\nEpoch 2/5, Train Loss: 1.8180, Train Accuracy: 35.94%\nEpoch 2/5, Validation Loss: 1.9246, Validation Accuracy: 35.35%\nEpoch 3/5, Train Loss: 1.6752, Train Accuracy: 40.97%\nEpoch 3/5, Validation Loss: 1.7164, Validation Accuracy: 39.30%\nEpoch 4/5, Train Loss: 1.5191, Train Accuracy: 47.29%\nEpoch 4/5, Validation Loss: 1.7979, Validation Accuracy: 39.95%\nEpoch 5/5, Train Loss: 1.3527, Train Accuracy: 52.72%\nEpoch 5/5, Validation Loss: 1.5711, Validation Accuracy: 47.05%\nTraining complete!\n",
          "output_type": "stream"
        },
        {
          "output_type": "display_data",
          "data": {
            "text/plain": "<IPython.core.display.HTML object>",
            "text/html": ""
          },
          "metadata": {}
        },
        {
          "output_type": "display_data",
          "data": {
            "text/plain": "<IPython.core.display.HTML object>",
            "text/html": "<br>    <style><br>        .wandb-row {<br>            display: flex;<br>            flex-direction: row;<br>            flex-wrap: wrap;<br>            justify-content: flex-start;<br>            width: 100%;<br>        }<br>        .wandb-col {<br>            display: flex;<br>            flex-direction: column;<br>            flex-basis: 100%;<br>            flex: 1;<br>            padding: 10px;<br>        }<br>    </style><br><div class=\"wandb-row\"><div class=\"wandb-col\"><h3>Run history:</h3><br/><table class=\"wandb\"><tr><td>Epoch</td><td>▁▃▅▆█</td></tr><tr><td>Train Accuracy</td><td>▁▂▄▆█</td></tr><tr><td>Train Loss</td><td>█▆▅▃▁</td></tr><tr><td>Validation Accuracy</td><td>▁▃▅▅█</td></tr><tr><td>Validation Loss</td><td>█▃▂▂▁</td></tr></table><br/></div><div class=\"wandb-col\"><h3>Run summary:</h3><br/><table class=\"wandb\"><tr><td>Epoch</td><td>5</td></tr><tr><td>Train Accuracy</td><td>52.71909</td></tr><tr><td>Train Loss</td><td>1.3527</td></tr><tr><td>Validation Accuracy</td><td>47.05</td></tr><tr><td>Validation Loss</td><td>1.5711</td></tr></table><br/></div></div>"
          },
          "metadata": {}
        },
        {
          "output_type": "display_data",
          "data": {
            "text/plain": "<IPython.core.display.HTML object>",
            "text/html": " View run <strong style=\"color:#cdcd00\">ep5_fp-0.25_model-resnet</strong> at: <a href='https://wandb.ai/ma23m013-iit-madras/DA6401_A-2_Part-B/runs/stptbup9' target=\"_blank\">https://wandb.ai/ma23m013-iit-madras/DA6401_A-2_Part-B/runs/stptbup9</a><br> View project at: <a href='https://wandb.ai/ma23m013-iit-madras/DA6401_A-2_Part-B' target=\"_blank\">https://wandb.ai/ma23m013-iit-madras/DA6401_A-2_Part-B</a><br>Synced 5 W&B file(s), 0 media file(s), 0 artifact file(s) and 0 other file(s)"
          },
          "metadata": {}
        },
        {
          "output_type": "display_data",
          "data": {
            "text/plain": "<IPython.core.display.HTML object>",
            "text/html": "Find logs at: <code>./wandb/run-20250417_142148-stptbup9/logs</code>"
          },
          "metadata": {}
        },
        {
          "name": "stderr",
          "text": "\u001b[34m\u001b[1mwandb\u001b[0m: Agent Starting Run: dh7atonf with config:\n\u001b[34m\u001b[1mwandb\u001b[0m: \tepochs: 5\n\u001b[34m\u001b[1mwandb\u001b[0m: \tfreeze_all_except_last_layer: Yes\n\u001b[34m\u001b[1mwandb\u001b[0m: \tfreeze_percent: 0.25\n\u001b[34m\u001b[1mwandb\u001b[0m: \tmodel_name: googlenet\n",
          "output_type": "stream"
        },
        {
          "output_type": "display_data",
          "data": {
            "text/plain": "<IPython.core.display.HTML object>",
            "text/html": "Tracking run with wandb version 0.19.6"
          },
          "metadata": {}
        },
        {
          "output_type": "display_data",
          "data": {
            "text/plain": "<IPython.core.display.HTML object>",
            "text/html": "Run data is saved locally in <code>/kaggle/working/wandb/run-20250417_143403-dh7atonf</code>"
          },
          "metadata": {}
        },
        {
          "output_type": "display_data",
          "data": {
            "text/plain": "<IPython.core.display.HTML object>",
            "text/html": "Syncing run <strong><a href='https://wandb.ai/ma23m013-iit-madras/DA6401_A-2_Part-B/runs/dh7atonf' target=\"_blank\">resilient-sweep-6</a></strong> to <a href='https://wandb.ai/ma23m013-iit-madras/DA6401_A-2_Part-B' target=\"_blank\">Weights & Biases</a> (<a href='https://wandb.me/developer-guide' target=\"_blank\">docs</a>)<br>Sweep page: <a href='https://wandb.ai/ma23m013-iit-madras/DA6401_A-2_Part-B/sweeps/jilrfsdr' target=\"_blank\">https://wandb.ai/ma23m013-iit-madras/DA6401_A-2_Part-B/sweeps/jilrfsdr</a>"
          },
          "metadata": {}
        },
        {
          "output_type": "display_data",
          "data": {
            "text/plain": "<IPython.core.display.HTML object>",
            "text/html": " View project at <a href='https://wandb.ai/ma23m013-iit-madras/DA6401_A-2_Part-B' target=\"_blank\">https://wandb.ai/ma23m013-iit-madras/DA6401_A-2_Part-B</a>"
          },
          "metadata": {}
        },
        {
          "output_type": "display_data",
          "data": {
            "text/plain": "<IPython.core.display.HTML object>",
            "text/html": " View sweep at <a href='https://wandb.ai/ma23m013-iit-madras/DA6401_A-2_Part-B/sweeps/jilrfsdr' target=\"_blank\">https://wandb.ai/ma23m013-iit-madras/DA6401_A-2_Part-B/sweeps/jilrfsdr</a>"
          },
          "metadata": {}
        },
        {
          "output_type": "display_data",
          "data": {
            "text/plain": "<IPython.core.display.HTML object>",
            "text/html": " View run at <a href='https://wandb.ai/ma23m013-iit-madras/DA6401_A-2_Part-B/runs/dh7atonf' target=\"_blank\">https://wandb.ai/ma23m013-iit-madras/DA6401_A-2_Part-B/runs/dh7atonf</a>"
          },
          "metadata": {}
        },
        {
          "name": "stdout",
          "text": "Epoch 1/5, Train Loss: 1.4453, Train Accuracy: 55.83%\nEpoch 1/5, Validation Loss: 1.0976, Validation Accuracy: 65.55%\nEpoch 2/5, Train Loss: 1.0711, Train Accuracy: 65.86%\nEpoch 2/5, Validation Loss: 1.0206, Validation Accuracy: 67.00%\nEpoch 3/5, Train Loss: 0.9920, Train Accuracy: 67.77%\nEpoch 3/5, Validation Loss: 0.9806, Validation Accuracy: 68.50%\nEpoch 4/5, Train Loss: 0.9758, Train Accuracy: 67.85%\nEpoch 4/5, Validation Loss: 0.9620, Validation Accuracy: 68.60%\nEpoch 5/5, Train Loss: 0.9576, Train Accuracy: 68.67%\nEpoch 5/5, Validation Loss: 0.9400, Validation Accuracy: 68.50%\nTraining complete!\n",
          "output_type": "stream"
        },
        {
          "output_type": "display_data",
          "data": {
            "text/plain": "<IPython.core.display.HTML object>",
            "text/html": ""
          },
          "metadata": {}
        },
        {
          "output_type": "display_data",
          "data": {
            "text/plain": "<IPython.core.display.HTML object>",
            "text/html": "<br>    <style><br>        .wandb-row {<br>            display: flex;<br>            flex-direction: row;<br>            flex-wrap: wrap;<br>            justify-content: flex-start;<br>            width: 100%;<br>        }<br>        .wandb-col {<br>            display: flex;<br>            flex-direction: column;<br>            flex-basis: 100%;<br>            flex: 1;<br>            padding: 10px;<br>        }<br>    </style><br><div class=\"wandb-row\"><div class=\"wandb-col\"><h3>Run history:</h3><br/><table class=\"wandb\"><tr><td>Epoch</td><td>▁▃▅▆█</td></tr><tr><td>Train Accuracy</td><td>▁▆███</td></tr><tr><td>Train Loss</td><td>█▃▁▁▁</td></tr><tr><td>Validation Accuracy</td><td>▁▄███</td></tr><tr><td>Validation Loss</td><td>█▅▃▂▁</td></tr></table><br/></div><div class=\"wandb-col\"><h3>Run summary:</h3><br/><table class=\"wandb\"><tr><td>Epoch</td><td>5</td></tr><tr><td>Train Accuracy</td><td>68.67108</td></tr><tr><td>Train Loss</td><td>0.95763</td></tr><tr><td>Validation Accuracy</td><td>68.5</td></tr><tr><td>Validation Loss</td><td>0.93998</td></tr></table><br/></div></div>"
          },
          "metadata": {}
        },
        {
          "output_type": "display_data",
          "data": {
            "text/plain": "<IPython.core.display.HTML object>",
            "text/html": " View run <strong style=\"color:#cdcd00\">ep5_fp-0.25_model-googlenet</strong> at: <a href='https://wandb.ai/ma23m013-iit-madras/DA6401_A-2_Part-B/runs/dh7atonf' target=\"_blank\">https://wandb.ai/ma23m013-iit-madras/DA6401_A-2_Part-B/runs/dh7atonf</a><br> View project at: <a href='https://wandb.ai/ma23m013-iit-madras/DA6401_A-2_Part-B' target=\"_blank\">https://wandb.ai/ma23m013-iit-madras/DA6401_A-2_Part-B</a><br>Synced 5 W&B file(s), 0 media file(s), 0 artifact file(s) and 0 other file(s)"
          },
          "metadata": {}
        },
        {
          "output_type": "display_data",
          "data": {
            "text/plain": "<IPython.core.display.HTML object>",
            "text/html": "Find logs at: <code>./wandb/run-20250417_143403-dh7atonf/logs</code>"
          },
          "metadata": {}
        },
        {
          "name": "stderr",
          "text": "\u001b[34m\u001b[1mwandb\u001b[0m: Sweep Agent: Waiting for job.\n\u001b[34m\u001b[1mwandb\u001b[0m: Job received.\n\u001b[34m\u001b[1mwandb\u001b[0m: Agent Starting Run: lxve67ed with config:\n\u001b[34m\u001b[1mwandb\u001b[0m: \tepochs: 5\n\u001b[34m\u001b[1mwandb\u001b[0m: \tfreeze_all_except_last_layer: Yes\n\u001b[34m\u001b[1mwandb\u001b[0m: \tfreeze_percent: 0.25\n\u001b[34m\u001b[1mwandb\u001b[0m: \tmodel_name: resnet\n",
          "output_type": "stream"
        },
        {
          "output_type": "display_data",
          "data": {
            "text/plain": "<IPython.core.display.HTML object>",
            "text/html": "Tracking run with wandb version 0.19.6"
          },
          "metadata": {}
        },
        {
          "output_type": "display_data",
          "data": {
            "text/plain": "<IPython.core.display.HTML object>",
            "text/html": "Run data is saved locally in <code>/kaggle/working/wandb/run-20250417_144352-lxve67ed</code>"
          },
          "metadata": {}
        },
        {
          "output_type": "display_data",
          "data": {
            "text/plain": "<IPython.core.display.HTML object>",
            "text/html": "Syncing run <strong><a href='https://wandb.ai/ma23m013-iit-madras/DA6401_A-2_Part-B/runs/lxve67ed' target=\"_blank\">wobbly-sweep-7</a></strong> to <a href='https://wandb.ai/ma23m013-iit-madras/DA6401_A-2_Part-B' target=\"_blank\">Weights & Biases</a> (<a href='https://wandb.me/developer-guide' target=\"_blank\">docs</a>)<br>Sweep page: <a href='https://wandb.ai/ma23m013-iit-madras/DA6401_A-2_Part-B/sweeps/jilrfsdr' target=\"_blank\">https://wandb.ai/ma23m013-iit-madras/DA6401_A-2_Part-B/sweeps/jilrfsdr</a>"
          },
          "metadata": {}
        },
        {
          "output_type": "display_data",
          "data": {
            "text/plain": "<IPython.core.display.HTML object>",
            "text/html": " View project at <a href='https://wandb.ai/ma23m013-iit-madras/DA6401_A-2_Part-B' target=\"_blank\">https://wandb.ai/ma23m013-iit-madras/DA6401_A-2_Part-B</a>"
          },
          "metadata": {}
        },
        {
          "output_type": "display_data",
          "data": {
            "text/plain": "<IPython.core.display.HTML object>",
            "text/html": " View sweep at <a href='https://wandb.ai/ma23m013-iit-madras/DA6401_A-2_Part-B/sweeps/jilrfsdr' target=\"_blank\">https://wandb.ai/ma23m013-iit-madras/DA6401_A-2_Part-B/sweeps/jilrfsdr</a>"
          },
          "metadata": {}
        },
        {
          "output_type": "display_data",
          "data": {
            "text/plain": "<IPython.core.display.HTML object>",
            "text/html": " View run at <a href='https://wandb.ai/ma23m013-iit-madras/DA6401_A-2_Part-B/runs/lxve67ed' target=\"_blank\">https://wandb.ai/ma23m013-iit-madras/DA6401_A-2_Part-B/runs/lxve67ed</a>"
          },
          "metadata": {}
        },
        {
          "name": "stdout",
          "text": "Epoch 1/5, Train Loss: 1.1408, Train Accuracy: 63.28%\nEpoch 1/5, Validation Loss: 0.8615, Validation Accuracy: 71.95%\nEpoch 2/5, Train Loss: 0.8527, Train Accuracy: 72.08%\nEpoch 2/5, Validation Loss: 0.8085, Validation Accuracy: 72.60%\nEpoch 3/5, Train Loss: 0.7886, Train Accuracy: 73.98%\nEpoch 3/5, Validation Loss: 0.7782, Validation Accuracy: 74.90%\nEpoch 4/5, Train Loss: 0.7627, Train Accuracy: 74.82%\nEpoch 4/5, Validation Loss: 0.8095, Validation Accuracy: 74.20%\nEpoch 5/5, Train Loss: 0.7505, Train Accuracy: 75.55%\nEpoch 5/5, Validation Loss: 0.8489, Validation Accuracy: 71.60%\nTraining complete!\n",
          "output_type": "stream"
        },
        {
          "output_type": "display_data",
          "data": {
            "text/plain": "<IPython.core.display.HTML object>",
            "text/html": ""
          },
          "metadata": {}
        },
        {
          "output_type": "display_data",
          "data": {
            "text/plain": "<IPython.core.display.HTML object>",
            "text/html": "<br>    <style><br>        .wandb-row {<br>            display: flex;<br>            flex-direction: row;<br>            flex-wrap: wrap;<br>            justify-content: flex-start;<br>            width: 100%;<br>        }<br>        .wandb-col {<br>            display: flex;<br>            flex-direction: column;<br>            flex-basis: 100%;<br>            flex: 1;<br>            padding: 10px;<br>        }<br>    </style><br><div class=\"wandb-row\"><div class=\"wandb-col\"><h3>Run history:</h3><br/><table class=\"wandb\"><tr><td>Epoch</td><td>▁▃▅▆█</td></tr><tr><td>Train Accuracy</td><td>▁▆▇██</td></tr><tr><td>Train Loss</td><td>█▃▂▁▁</td></tr><tr><td>Validation Accuracy</td><td>▂▃█▇▁</td></tr><tr><td>Validation Loss</td><td>█▄▁▄▇</td></tr></table><br/></div><div class=\"wandb-col\"><h3>Run summary:</h3><br/><table class=\"wandb\"><tr><td>Epoch</td><td>5</td></tr><tr><td>Train Accuracy</td><td>75.54694</td></tr><tr><td>Train Loss</td><td>0.75055</td></tr><tr><td>Validation Accuracy</td><td>71.6</td></tr><tr><td>Validation Loss</td><td>0.84893</td></tr></table><br/></div></div>"
          },
          "metadata": {}
        },
        {
          "output_type": "display_data",
          "data": {
            "text/plain": "<IPython.core.display.HTML object>",
            "text/html": " View run <strong style=\"color:#cdcd00\">ep5_fp-0.25_model-resnet</strong> at: <a href='https://wandb.ai/ma23m013-iit-madras/DA6401_A-2_Part-B/runs/lxve67ed' target=\"_blank\">https://wandb.ai/ma23m013-iit-madras/DA6401_A-2_Part-B/runs/lxve67ed</a><br> View project at: <a href='https://wandb.ai/ma23m013-iit-madras/DA6401_A-2_Part-B' target=\"_blank\">https://wandb.ai/ma23m013-iit-madras/DA6401_A-2_Part-B</a><br>Synced 5 W&B file(s), 0 media file(s), 0 artifact file(s) and 0 other file(s)"
          },
          "metadata": {}
        },
        {
          "output_type": "display_data",
          "data": {
            "text/plain": "<IPython.core.display.HTML object>",
            "text/html": "Find logs at: <code>./wandb/run-20250417_144352-lxve67ed/logs</code>"
          },
          "metadata": {}
        },
        {
          "name": "stderr",
          "text": "\u001b[34m\u001b[1mwandb\u001b[0m: Agent Starting Run: aj516vhx with config:\n\u001b[34m\u001b[1mwandb\u001b[0m: \tepochs: 5\n\u001b[34m\u001b[1mwandb\u001b[0m: \tfreeze_all_except_last_layer: Yes\n\u001b[34m\u001b[1mwandb\u001b[0m: \tfreeze_percent: 0.25\n\u001b[34m\u001b[1mwandb\u001b[0m: \tmodel_name: resnet\n",
          "output_type": "stream"
        },
        {
          "output_type": "display_data",
          "data": {
            "text/plain": "<IPython.core.display.HTML object>",
            "text/html": "Tracking run with wandb version 0.19.6"
          },
          "metadata": {}
        },
        {
          "output_type": "display_data",
          "data": {
            "text/plain": "<IPython.core.display.HTML object>",
            "text/html": "Run data is saved locally in <code>/kaggle/working/wandb/run-20250417_145406-aj516vhx</code>"
          },
          "metadata": {}
        },
        {
          "output_type": "display_data",
          "data": {
            "text/plain": "<IPython.core.display.HTML object>",
            "text/html": "Syncing run <strong><a href='https://wandb.ai/ma23m013-iit-madras/DA6401_A-2_Part-B/runs/aj516vhx' target=\"_blank\">proud-sweep-8</a></strong> to <a href='https://wandb.ai/ma23m013-iit-madras/DA6401_A-2_Part-B' target=\"_blank\">Weights & Biases</a> (<a href='https://wandb.me/developer-guide' target=\"_blank\">docs</a>)<br>Sweep page: <a href='https://wandb.ai/ma23m013-iit-madras/DA6401_A-2_Part-B/sweeps/jilrfsdr' target=\"_blank\">https://wandb.ai/ma23m013-iit-madras/DA6401_A-2_Part-B/sweeps/jilrfsdr</a>"
          },
          "metadata": {}
        },
        {
          "output_type": "display_data",
          "data": {
            "text/plain": "<IPython.core.display.HTML object>",
            "text/html": " View project at <a href='https://wandb.ai/ma23m013-iit-madras/DA6401_A-2_Part-B' target=\"_blank\">https://wandb.ai/ma23m013-iit-madras/DA6401_A-2_Part-B</a>"
          },
          "metadata": {}
        },
        {
          "output_type": "display_data",
          "data": {
            "text/plain": "<IPython.core.display.HTML object>",
            "text/html": " View sweep at <a href='https://wandb.ai/ma23m013-iit-madras/DA6401_A-2_Part-B/sweeps/jilrfsdr' target=\"_blank\">https://wandb.ai/ma23m013-iit-madras/DA6401_A-2_Part-B/sweeps/jilrfsdr</a>"
          },
          "metadata": {}
        },
        {
          "output_type": "display_data",
          "data": {
            "text/plain": "<IPython.core.display.HTML object>",
            "text/html": " View run at <a href='https://wandb.ai/ma23m013-iit-madras/DA6401_A-2_Part-B/runs/aj516vhx' target=\"_blank\">https://wandb.ai/ma23m013-iit-madras/DA6401_A-2_Part-B/runs/aj516vhx</a>"
          },
          "metadata": {}
        },
        {
          "name": "stdout",
          "text": "Epoch 1/5, Train Loss: 1.1111, Train Accuracy: 64.16%\nEpoch 1/5, Validation Loss: 0.8534, Validation Accuracy: 71.70%\nEpoch 2/5, Train Loss: 0.8413, Train Accuracy: 72.15%\nEpoch 2/5, Validation Loss: 0.8203, Validation Accuracy: 72.70%\nEpoch 3/5, Train Loss: 0.7908, Train Accuracy: 73.81%\nEpoch 3/5, Validation Loss: 0.8269, Validation Accuracy: 73.65%\nEpoch 4/5, Train Loss: 0.7636, Train Accuracy: 74.62%\nEpoch 4/5, Validation Loss: 0.8761, Validation Accuracy: 71.95%\nEpoch 5/5, Train Loss: 0.7392, Train Accuracy: 75.53%\nEpoch 5/5, Validation Loss: 0.7805, Validation Accuracy: 75.05%\nTraining complete!\n",
          "output_type": "stream"
        },
        {
          "output_type": "display_data",
          "data": {
            "text/plain": "<IPython.core.display.HTML object>",
            "text/html": ""
          },
          "metadata": {}
        },
        {
          "output_type": "display_data",
          "data": {
            "text/plain": "<IPython.core.display.HTML object>",
            "text/html": "<br>    <style><br>        .wandb-row {<br>            display: flex;<br>            flex-direction: row;<br>            flex-wrap: wrap;<br>            justify-content: flex-start;<br>            width: 100%;<br>        }<br>        .wandb-col {<br>            display: flex;<br>            flex-direction: column;<br>            flex-basis: 100%;<br>            flex: 1;<br>            padding: 10px;<br>        }<br>    </style><br><div class=\"wandb-row\"><div class=\"wandb-col\"><h3>Run history:</h3><br/><table class=\"wandb\"><tr><td>Epoch</td><td>▁▃▅▆█</td></tr><tr><td>Train Accuracy</td><td>▁▆▇▇█</td></tr><tr><td>Train Loss</td><td>█▃▂▁▁</td></tr><tr><td>Validation Accuracy</td><td>▁▃▅▂█</td></tr><tr><td>Validation Loss</td><td>▆▄▄█▁</td></tr></table><br/></div><div class=\"wandb-col\"><h3>Run summary:</h3><br/><table class=\"wandb\"><tr><td>Epoch</td><td>5</td></tr><tr><td>Train Accuracy</td><td>75.53444</td></tr><tr><td>Train Loss</td><td>0.73919</td></tr><tr><td>Validation Accuracy</td><td>75.05</td></tr><tr><td>Validation Loss</td><td>0.7805</td></tr></table><br/></div></div>"
          },
          "metadata": {}
        },
        {
          "output_type": "display_data",
          "data": {
            "text/plain": "<IPython.core.display.HTML object>",
            "text/html": " View run <strong style=\"color:#cdcd00\">ep5_fp-0.25_model-resnet</strong> at: <a href='https://wandb.ai/ma23m013-iit-madras/DA6401_A-2_Part-B/runs/aj516vhx' target=\"_blank\">https://wandb.ai/ma23m013-iit-madras/DA6401_A-2_Part-B/runs/aj516vhx</a><br> View project at: <a href='https://wandb.ai/ma23m013-iit-madras/DA6401_A-2_Part-B' target=\"_blank\">https://wandb.ai/ma23m013-iit-madras/DA6401_A-2_Part-B</a><br>Synced 5 W&B file(s), 0 media file(s), 0 artifact file(s) and 0 other file(s)"
          },
          "metadata": {}
        },
        {
          "output_type": "display_data",
          "data": {
            "text/plain": "<IPython.core.display.HTML object>",
            "text/html": "Find logs at: <code>./wandb/run-20250417_145406-aj516vhx/logs</code>"
          },
          "metadata": {}
        },
        {
          "name": "stderr",
          "text": "\u001b[34m\u001b[1mwandb\u001b[0m: Sweep Agent: Waiting for job.\n\u001b[34m\u001b[1mwandb\u001b[0m: Job received.\n\u001b[34m\u001b[1mwandb\u001b[0m: Agent Starting Run: de5zzebz with config:\n\u001b[34m\u001b[1mwandb\u001b[0m: \tepochs: 5\n\u001b[34m\u001b[1mwandb\u001b[0m: \tfreeze_all_except_last_layer: Yes\n\u001b[34m\u001b[1mwandb\u001b[0m: \tfreeze_percent: 0.25\n\u001b[34m\u001b[1mwandb\u001b[0m: \tmodel_name: resnet\n",
          "output_type": "stream"
        },
        {
          "output_type": "display_data",
          "data": {
            "text/plain": "<IPython.core.display.HTML object>",
            "text/html": "Tracking run with wandb version 0.19.6"
          },
          "metadata": {}
        },
        {
          "output_type": "display_data",
          "data": {
            "text/plain": "<IPython.core.display.HTML object>",
            "text/html": "Run data is saved locally in <code>/kaggle/working/wandb/run-20250417_150450-de5zzebz</code>"
          },
          "metadata": {}
        },
        {
          "output_type": "display_data",
          "data": {
            "text/plain": "<IPython.core.display.HTML object>",
            "text/html": "Syncing run <strong><a href='https://wandb.ai/ma23m013-iit-madras/DA6401_A-2_Part-B/runs/de5zzebz' target=\"_blank\">misunderstood-sweep-9</a></strong> to <a href='https://wandb.ai/ma23m013-iit-madras/DA6401_A-2_Part-B' target=\"_blank\">Weights & Biases</a> (<a href='https://wandb.me/developer-guide' target=\"_blank\">docs</a>)<br>Sweep page: <a href='https://wandb.ai/ma23m013-iit-madras/DA6401_A-2_Part-B/sweeps/jilrfsdr' target=\"_blank\">https://wandb.ai/ma23m013-iit-madras/DA6401_A-2_Part-B/sweeps/jilrfsdr</a>"
          },
          "metadata": {}
        },
        {
          "output_type": "display_data",
          "data": {
            "text/plain": "<IPython.core.display.HTML object>",
            "text/html": " View project at <a href='https://wandb.ai/ma23m013-iit-madras/DA6401_A-2_Part-B' target=\"_blank\">https://wandb.ai/ma23m013-iit-madras/DA6401_A-2_Part-B</a>"
          },
          "metadata": {}
        },
        {
          "output_type": "display_data",
          "data": {
            "text/plain": "<IPython.core.display.HTML object>",
            "text/html": " View sweep at <a href='https://wandb.ai/ma23m013-iit-madras/DA6401_A-2_Part-B/sweeps/jilrfsdr' target=\"_blank\">https://wandb.ai/ma23m013-iit-madras/DA6401_A-2_Part-B/sweeps/jilrfsdr</a>"
          },
          "metadata": {}
        },
        {
          "output_type": "display_data",
          "data": {
            "text/plain": "<IPython.core.display.HTML object>",
            "text/html": " View run at <a href='https://wandb.ai/ma23m013-iit-madras/DA6401_A-2_Part-B/runs/de5zzebz' target=\"_blank\">https://wandb.ai/ma23m013-iit-madras/DA6401_A-2_Part-B/runs/de5zzebz</a>"
          },
          "metadata": {}
        },
        {
          "name": "stdout",
          "text": "Epoch 1/5, Train Loss: 1.1337, Train Accuracy: 64.25%\nEpoch 1/5, Validation Loss: 0.8534, Validation Accuracy: 72.75%\nEpoch 2/5, Train Loss: 0.8432, Train Accuracy: 72.53%\nEpoch 2/5, Validation Loss: 0.7935, Validation Accuracy: 73.65%\nEpoch 3/5, Train Loss: 0.7837, Train Accuracy: 74.63%\nEpoch 3/5, Validation Loss: 0.8190, Validation Accuracy: 72.70%\nEpoch 4/5, Train Loss: 0.7764, Train Accuracy: 74.47%\nEpoch 4/5, Validation Loss: 0.8951, Validation Accuracy: 71.50%\nEpoch 5/5, Train Loss: 0.7310, Train Accuracy: 75.53%\nEpoch 5/5, Validation Loss: 0.8354, Validation Accuracy: 73.90%\nTraining complete!\n",
          "output_type": "stream"
        },
        {
          "output_type": "display_data",
          "data": {
            "text/plain": "<IPython.core.display.HTML object>",
            "text/html": ""
          },
          "metadata": {}
        },
        {
          "output_type": "display_data",
          "data": {
            "text/plain": "<IPython.core.display.HTML object>",
            "text/html": "<br>    <style><br>        .wandb-row {<br>            display: flex;<br>            flex-direction: row;<br>            flex-wrap: wrap;<br>            justify-content: flex-start;<br>            width: 100%;<br>        }<br>        .wandb-col {<br>            display: flex;<br>            flex-direction: column;<br>            flex-basis: 100%;<br>            flex: 1;<br>            padding: 10px;<br>        }<br>    </style><br><div class=\"wandb-row\"><div class=\"wandb-col\"><h3>Run history:</h3><br/><table class=\"wandb\"><tr><td>Epoch</td><td>▁▃▅▆█</td></tr><tr><td>Train Accuracy</td><td>▁▆▇▇█</td></tr><tr><td>Train Loss</td><td>█▃▂▂▁</td></tr><tr><td>Validation Accuracy</td><td>▅▇▄▁█</td></tr><tr><td>Validation Loss</td><td>▅▁▃█▄</td></tr></table><br/></div><div class=\"wandb-col\"><h3>Run summary:</h3><br/><table class=\"wandb\"><tr><td>Epoch</td><td>5</td></tr><tr><td>Train Accuracy</td><td>75.53444</td></tr><tr><td>Train Loss</td><td>0.73105</td></tr><tr><td>Validation Accuracy</td><td>73.9</td></tr><tr><td>Validation Loss</td><td>0.83539</td></tr></table><br/></div></div>"
          },
          "metadata": {}
        },
        {
          "output_type": "display_data",
          "data": {
            "text/plain": "<IPython.core.display.HTML object>",
            "text/html": " View run <strong style=\"color:#cdcd00\">ep5_fp-0.25_model-resnet</strong> at: <a href='https://wandb.ai/ma23m013-iit-madras/DA6401_A-2_Part-B/runs/de5zzebz' target=\"_blank\">https://wandb.ai/ma23m013-iit-madras/DA6401_A-2_Part-B/runs/de5zzebz</a><br> View project at: <a href='https://wandb.ai/ma23m013-iit-madras/DA6401_A-2_Part-B' target=\"_blank\">https://wandb.ai/ma23m013-iit-madras/DA6401_A-2_Part-B</a><br>Synced 5 W&B file(s), 0 media file(s), 0 artifact file(s) and 0 other file(s)"
          },
          "metadata": {}
        },
        {
          "output_type": "display_data",
          "data": {
            "text/plain": "<IPython.core.display.HTML object>",
            "text/html": "Find logs at: <code>./wandb/run-20250417_150450-de5zzebz/logs</code>"
          },
          "metadata": {}
        },
        {
          "name": "stderr",
          "text": "\u001b[34m\u001b[1mwandb\u001b[0m: Agent Starting Run: i9z07opa with config:\n\u001b[34m\u001b[1mwandb\u001b[0m: \tepochs: 5\n\u001b[34m\u001b[1mwandb\u001b[0m: \tfreeze_all_except_last_layer: Yes\n\u001b[34m\u001b[1mwandb\u001b[0m: \tfreeze_percent: 0.25\n\u001b[34m\u001b[1mwandb\u001b[0m: \tmodel_name: resnet\n",
          "output_type": "stream"
        },
        {
          "output_type": "display_data",
          "data": {
            "text/plain": "<IPython.core.display.HTML object>",
            "text/html": "Tracking run with wandb version 0.19.6"
          },
          "metadata": {}
        },
        {
          "output_type": "display_data",
          "data": {
            "text/plain": "<IPython.core.display.HTML object>",
            "text/html": "Run data is saved locally in <code>/kaggle/working/wandb/run-20250417_151505-i9z07opa</code>"
          },
          "metadata": {}
        },
        {
          "output_type": "display_data",
          "data": {
            "text/plain": "<IPython.core.display.HTML object>",
            "text/html": "Syncing run <strong><a href='https://wandb.ai/ma23m013-iit-madras/DA6401_A-2_Part-B/runs/i9z07opa' target=\"_blank\">lunar-sweep-10</a></strong> to <a href='https://wandb.ai/ma23m013-iit-madras/DA6401_A-2_Part-B' target=\"_blank\">Weights & Biases</a> (<a href='https://wandb.me/developer-guide' target=\"_blank\">docs</a>)<br>Sweep page: <a href='https://wandb.ai/ma23m013-iit-madras/DA6401_A-2_Part-B/sweeps/jilrfsdr' target=\"_blank\">https://wandb.ai/ma23m013-iit-madras/DA6401_A-2_Part-B/sweeps/jilrfsdr</a>"
          },
          "metadata": {}
        },
        {
          "output_type": "display_data",
          "data": {
            "text/plain": "<IPython.core.display.HTML object>",
            "text/html": " View project at <a href='https://wandb.ai/ma23m013-iit-madras/DA6401_A-2_Part-B' target=\"_blank\">https://wandb.ai/ma23m013-iit-madras/DA6401_A-2_Part-B</a>"
          },
          "metadata": {}
        },
        {
          "output_type": "display_data",
          "data": {
            "text/plain": "<IPython.core.display.HTML object>",
            "text/html": " View sweep at <a href='https://wandb.ai/ma23m013-iit-madras/DA6401_A-2_Part-B/sweeps/jilrfsdr' target=\"_blank\">https://wandb.ai/ma23m013-iit-madras/DA6401_A-2_Part-B/sweeps/jilrfsdr</a>"
          },
          "metadata": {}
        },
        {
          "output_type": "display_data",
          "data": {
            "text/plain": "<IPython.core.display.HTML object>",
            "text/html": " View run at <a href='https://wandb.ai/ma23m013-iit-madras/DA6401_A-2_Part-B/runs/i9z07opa' target=\"_blank\">https://wandb.ai/ma23m013-iit-madras/DA6401_A-2_Part-B/runs/i9z07opa</a>"
          },
          "metadata": {}
        },
        {
          "name": "stdout",
          "text": "Epoch 1/5, Train Loss: 1.1304, Train Accuracy: 63.32%\nEpoch 1/5, Validation Loss: 0.8743, Validation Accuracy: 71.10%\nEpoch 2/5, Train Loss: 0.8297, Train Accuracy: 72.61%\nEpoch 2/5, Validation Loss: 0.8203, Validation Accuracy: 72.20%\nEpoch 3/5, Train Loss: 0.7800, Train Accuracy: 74.30%\nEpoch 3/5, Validation Loss: 0.8960, Validation Accuracy: 70.90%\nEpoch 4/5, Train Loss: 0.7620, Train Accuracy: 74.71%\nEpoch 4/5, Validation Loss: 0.8130, Validation Accuracy: 74.00%\nEpoch 5/5, Train Loss: 0.7287, Train Accuracy: 75.65%\nEpoch 5/5, Validation Loss: 0.8214, Validation Accuracy: 74.15%\nTraining complete!\n",
          "output_type": "stream"
        },
        {
          "output_type": "display_data",
          "data": {
            "text/plain": "<IPython.core.display.HTML object>",
            "text/html": ""
          },
          "metadata": {}
        },
        {
          "output_type": "display_data",
          "data": {
            "text/plain": "<IPython.core.display.HTML object>",
            "text/html": "<br>    <style><br>        .wandb-row {<br>            display: flex;<br>            flex-direction: row;<br>            flex-wrap: wrap;<br>            justify-content: flex-start;<br>            width: 100%;<br>        }<br>        .wandb-col {<br>            display: flex;<br>            flex-direction: column;<br>            flex-basis: 100%;<br>            flex: 1;<br>            padding: 10px;<br>        }<br>    </style><br><div class=\"wandb-row\"><div class=\"wandb-col\"><h3>Run history:</h3><br/><table class=\"wandb\"><tr><td>Epoch</td><td>▁▃▅▆█</td></tr><tr><td>Train Accuracy</td><td>▁▆▇▇█</td></tr><tr><td>Train Loss</td><td>█▃▂▂▁</td></tr><tr><td>Validation Accuracy</td><td>▁▄▁██</td></tr><tr><td>Validation Loss</td><td>▆▂█▁▂</td></tr></table><br/></div><div class=\"wandb-col\"><h3>Run summary:</h3><br/><table class=\"wandb\"><tr><td>Epoch</td><td>5</td></tr><tr><td>Train Accuracy</td><td>75.64696</td></tr><tr><td>Train Loss</td><td>0.72868</td></tr><tr><td>Validation Accuracy</td><td>74.15</td></tr><tr><td>Validation Loss</td><td>0.82139</td></tr></table><br/></div></div>"
          },
          "metadata": {}
        },
        {
          "output_type": "display_data",
          "data": {
            "text/plain": "<IPython.core.display.HTML object>",
            "text/html": " View run <strong style=\"color:#cdcd00\">ep5_fp-0.25_model-resnet</strong> at: <a href='https://wandb.ai/ma23m013-iit-madras/DA6401_A-2_Part-B/runs/i9z07opa' target=\"_blank\">https://wandb.ai/ma23m013-iit-madras/DA6401_A-2_Part-B/runs/i9z07opa</a><br> View project at: <a href='https://wandb.ai/ma23m013-iit-madras/DA6401_A-2_Part-B' target=\"_blank\">https://wandb.ai/ma23m013-iit-madras/DA6401_A-2_Part-B</a><br>Synced 5 W&B file(s), 0 media file(s), 0 artifact file(s) and 0 other file(s)"
          },
          "metadata": {}
        },
        {
          "output_type": "display_data",
          "data": {
            "text/plain": "<IPython.core.display.HTML object>",
            "text/html": "Find logs at: <code>./wandb/run-20250417_151505-i9z07opa/logs</code>"
          },
          "metadata": {}
        }
      ],
      "execution_count": null
    },
    {
      "cell_type": "code",
      "source": [
        "# Sweep configuration dictionary\n",
        "sweep_config = {\n",
        "    'method': 'bayes',  # 'bayes' will use Bayesian optimization to find optimal hyperparameters, other options are 'grid' or 'random'\n",
        "\n",
        "    'metric': {\n",
        "        'name': 'Validation Accuracy',  # Metric to optimize during the sweep\n",
        "        'goal': 'maximize'  # Goal is to maximize the validation accuracy\n",
        "    },\n",
        "\n",
        "    'parameters': {\n",
        "\n",
        "        'freeze_percent': {\n",
        "            'values': [0.75]  # Different percentages of layers to freeze during fine-tuning\n",
        "        },\n",
        "\n",
        "        'model_name': {\n",
        "            'values': ['resnet']  # Pre-trained model options for fine-tuning\n",
        "        },\n",
        "\n",
        "        'freeze_all_except_last_layer': {\n",
        "            'values': ['No']  # Option to freeze all layers except the last one or not\n",
        "        },\n",
        "\n",
        "        'epochs': {\n",
        "            'value': 10  # Number of epochs for each training run\n",
        "        }\n",
        "    }\n",
        "}\n",
        "\n",
        "# Initialize the W&B sweep using the config\n",
        "sweep_id = wandb.sweep(sweep_config, project=\"DA6401_A-2_Part-B\")  # Initialize sweep in the project \"DA6401_A-2_Part-B\"\n"
      ],
      "metadata": {
        "trusted": true,
        "execution": {
          "iopub.status.busy": "2025-04-19T14:06:21.234255Z",
          "iopub.execute_input": "2025-04-19T14:06:21.234555Z",
          "iopub.status.idle": "2025-04-19T14:06:21.533196Z",
          "shell.execute_reply.started": "2025-04-19T14:06:21.234522Z",
          "shell.execute_reply": "2025-04-19T14:06:21.532484Z"
        },
        "id": "2xgthdPctMEF",
        "outputId": "0b16ebaf-8ec6-440e-d9f1-aba30d962490"
      },
      "outputs": [
        {
          "name": "stdout",
          "text": "Create sweep with ID: 70zgkera\nSweep URL: https://wandb.ai/ma23m013-iit-madras/DA6401_A-2_Part-B/sweeps/70zgkera\n",
          "output_type": "stream"
        }
      ],
      "execution_count": null
    },
    {
      "cell_type": "code",
      "source": [
        "def main():\n",
        "    '''\n",
        "    WandB calls the main function each time with a different combination of hyperparameters.\n",
        "    We can retrieve the configuration values from `wandb.config` and use them in our model training.\n",
        "\n",
        "    This function initializes the W&B run, loads the pre-trained model with specified hyperparameters,\n",
        "    prepares the dataset, and starts the training process.\n",
        "    '''\n",
        "\n",
        "    # Initialize W&B run\n",
        "    with wandb.init() as run:\n",
        "        # Define the run name based on hyperparameters for better tracking\n",
        "        run_name = \"ep\" + str(wandb.config.epochs) + \"_fp-\" + str(wandb.config.freeze_percent) + \"_model-\" + str(wandb.config.model_name)\n",
        "        wandb.run.name = run_name  # Set the name for this run in W&B\n",
        "\n",
        "        # Load the pre-trained model based on configuration\n",
        "        model = pretrain_model(\n",
        "            model_name=wandb.config.model_name,\n",
        "            freeze_percent=wandb.config.freeze_percent,\n",
        "            freeze_all_except_last_layer=wandb.config.freeze_all_except_last_layer\n",
        "        )\n",
        "\n",
        "        # Move the model to the appropriate device (CPU or GPU)\n",
        "        model = model.to(device)\n",
        "\n",
        "        # Define the directory where the training data is located\n",
        "        data_dir = '/kaggle/input/inaturalist-dataset/inaturalist_12K/train'\n",
        "\n",
        "        # Load the training and validation data with or without data augmentation\n",
        "        train_data, val_data = load_dataset(data_dir, apply_augmentation='No')\n",
        "\n",
        "        # Train the model with the loaded data and configurations\n",
        "        train_and_validate_model(model, train_data, val_data, num_epochs=wandb.config.epochs)\n",
        "\n",
        "\n",
        "# Start the W&B sweep, calling the main function for the specified number of times\n",
        "wandb.agent(sweep_id, function=main, count=1)  # Number of runs = 1 in this case, but can be increased\n",
        "wandb.finish()  # Finish the W&B run after the sweep is complete\n"
      ],
      "metadata": {
        "trusted": true,
        "execution": {
          "iopub.status.busy": "2025-04-19T14:06:37.019591Z",
          "iopub.execute_input": "2025-04-19T14:06:37.019864Z",
          "iopub.status.idle": "2025-04-19T14:27:46.681162Z",
          "shell.execute_reply.started": "2025-04-19T14:06:37.019844Z",
          "shell.execute_reply": "2025-04-19T14:27:46.680626Z"
        },
        "id": "_Kt0MzQhtMEG",
        "outputId": "601364b3-8397-4727-a215-581dc0859078"
      },
      "outputs": [
        {
          "name": "stderr",
          "text": "\u001b[34m\u001b[1mwandb\u001b[0m: Agent Starting Run: cp5zbg5v with config:\n\u001b[34m\u001b[1mwandb\u001b[0m: \tepochs: 10\n\u001b[34m\u001b[1mwandb\u001b[0m: \tfreeze_all_except_last_layer: No\n\u001b[34m\u001b[1mwandb\u001b[0m: \tfreeze_percent: 0.75\n\u001b[34m\u001b[1mwandb\u001b[0m: \tmodel_name: resnet\n\u001b[34m\u001b[1mwandb\u001b[0m: Using wandb-core as the SDK backend.  Please refer to https://wandb.me/wandb-core for more information.\n",
          "output_type": "stream"
        },
        {
          "output_type": "display_data",
          "data": {
            "text/plain": "<IPython.core.display.HTML object>",
            "text/html": "Tracking run with wandb version 0.19.6"
          },
          "metadata": {}
        },
        {
          "output_type": "display_data",
          "data": {
            "text/plain": "<IPython.core.display.HTML object>",
            "text/html": "Run data is saved locally in <code>/kaggle/working/wandb/run-20250419_140643-cp5zbg5v</code>"
          },
          "metadata": {}
        },
        {
          "output_type": "display_data",
          "data": {
            "text/plain": "<IPython.core.display.HTML object>",
            "text/html": "Syncing run <strong><a href='https://wandb.ai/ma23m013-iit-madras/DA6401_A-2_Part-B/runs/cp5zbg5v' target=\"_blank\">zany-sweep-1</a></strong> to <a href='https://wandb.ai/ma23m013-iit-madras/DA6401_A-2_Part-B' target=\"_blank\">Weights & Biases</a> (<a href='https://wandb.me/developer-guide' target=\"_blank\">docs</a>)<br>Sweep page: <a href='https://wandb.ai/ma23m013-iit-madras/DA6401_A-2_Part-B/sweeps/70zgkera' target=\"_blank\">https://wandb.ai/ma23m013-iit-madras/DA6401_A-2_Part-B/sweeps/70zgkera</a>"
          },
          "metadata": {}
        },
        {
          "output_type": "display_data",
          "data": {
            "text/plain": "<IPython.core.display.HTML object>",
            "text/html": " View project at <a href='https://wandb.ai/ma23m013-iit-madras/DA6401_A-2_Part-B' target=\"_blank\">https://wandb.ai/ma23m013-iit-madras/DA6401_A-2_Part-B</a>"
          },
          "metadata": {}
        },
        {
          "output_type": "display_data",
          "data": {
            "text/plain": "<IPython.core.display.HTML object>",
            "text/html": " View sweep at <a href='https://wandb.ai/ma23m013-iit-madras/DA6401_A-2_Part-B/sweeps/70zgkera' target=\"_blank\">https://wandb.ai/ma23m013-iit-madras/DA6401_A-2_Part-B/sweeps/70zgkera</a>"
          },
          "metadata": {}
        },
        {
          "output_type": "display_data",
          "data": {
            "text/plain": "<IPython.core.display.HTML object>",
            "text/html": " View run at <a href='https://wandb.ai/ma23m013-iit-madras/DA6401_A-2_Part-B/runs/cp5zbg5v' target=\"_blank\">https://wandb.ai/ma23m013-iit-madras/DA6401_A-2_Part-B/runs/cp5zbg5v</a>"
          },
          "metadata": {}
        },
        {
          "name": "stdout",
          "text": "Epoch 1/10, Train Loss: 1.1749, Train Accuracy: 61.20%\nEpoch 1/10, Validation Loss: 1.0393, Validation Accuracy: 66.75%\nEpoch 2/10, Train Loss: 0.8470, Train Accuracy: 71.93%\nEpoch 2/10, Validation Loss: 0.9769, Validation Accuracy: 69.40%\nEpoch 3/10, Train Loss: 0.5938, Train Accuracy: 80.55%\nEpoch 3/10, Validation Loss: 0.9794, Validation Accuracy: 70.55%\nEpoch 4/10, Train Loss: 0.3862, Train Accuracy: 87.52%\nEpoch 4/10, Validation Loss: 1.0189, Validation Accuracy: 72.85%\nEpoch 5/10, Train Loss: 0.2810, Train Accuracy: 90.91%\nEpoch 5/10, Validation Loss: 1.1863, Validation Accuracy: 70.05%\nEpoch 6/10, Train Loss: 0.2020, Train Accuracy: 93.44%\nEpoch 6/10, Validation Loss: 1.3151, Validation Accuracy: 69.35%\nEpoch 7/10, Train Loss: 0.1607, Train Accuracy: 95.20%\nEpoch 7/10, Validation Loss: 1.2994, Validation Accuracy: 71.20%\nEpoch 8/10, Train Loss: 0.1259, Train Accuracy: 95.95%\nEpoch 8/10, Validation Loss: 1.4203, Validation Accuracy: 70.60%\nEpoch 9/10, Train Loss: 0.1076, Train Accuracy: 96.82%\nEpoch 9/10, Validation Loss: 1.6177, Validation Accuracy: 70.40%\nEpoch 10/10, Train Loss: 0.1030, Train Accuracy: 96.89%\nEpoch 10/10, Validation Loss: 1.3957, Validation Accuracy: 71.35%\nTraining complete!\n",
          "output_type": "stream"
        },
        {
          "output_type": "display_data",
          "data": {
            "text/plain": "<IPython.core.display.HTML object>",
            "text/html": ""
          },
          "metadata": {}
        },
        {
          "output_type": "display_data",
          "data": {
            "text/plain": "<IPython.core.display.HTML object>",
            "text/html": "<br>    <style><br>        .wandb-row {<br>            display: flex;<br>            flex-direction: row;<br>            flex-wrap: wrap;<br>            justify-content: flex-start;<br>            width: 100%;<br>        }<br>        .wandb-col {<br>            display: flex;<br>            flex-direction: column;<br>            flex-basis: 100%;<br>            flex: 1;<br>            padding: 10px;<br>        }<br>    </style><br><div class=\"wandb-row\"><div class=\"wandb-col\"><h3>Run history:</h3><br/><table class=\"wandb\"><tr><td>Epoch</td><td>▁▂▃▃▄▅▆▆▇█</td></tr><tr><td>Train Accuracy</td><td>▁▃▅▆▇▇████</td></tr><tr><td>Train Loss</td><td>█▆▄▃▂▂▁▁▁▁</td></tr><tr><td>Validation Accuracy</td><td>▁▄▅█▅▄▆▅▅▆</td></tr><tr><td>Validation Loss</td><td>▂▁▁▁▃▅▅▆█▆</td></tr></table><br/></div><div class=\"wandb-col\"><h3>Run summary:</h3><br/><table class=\"wandb\"><tr><td>Epoch</td><td>10</td></tr><tr><td>Train Accuracy</td><td>96.88711</td></tr><tr><td>Train Loss</td><td>0.10297</td></tr><tr><td>Validation Accuracy</td><td>71.35</td></tr><tr><td>Validation Loss</td><td>1.39574</td></tr></table><br/></div></div>"
          },
          "metadata": {}
        },
        {
          "output_type": "display_data",
          "data": {
            "text/plain": "<IPython.core.display.HTML object>",
            "text/html": " View run <strong style=\"color:#cdcd00\">ep10_fp-0.75_model-resnet</strong> at: <a href='https://wandb.ai/ma23m013-iit-madras/DA6401_A-2_Part-B/runs/cp5zbg5v' target=\"_blank\">https://wandb.ai/ma23m013-iit-madras/DA6401_A-2_Part-B/runs/cp5zbg5v</a><br> View project at: <a href='https://wandb.ai/ma23m013-iit-madras/DA6401_A-2_Part-B' target=\"_blank\">https://wandb.ai/ma23m013-iit-madras/DA6401_A-2_Part-B</a><br>Synced 5 W&B file(s), 0 media file(s), 0 artifact file(s) and 0 other file(s)"
          },
          "metadata": {}
        },
        {
          "output_type": "display_data",
          "data": {
            "text/plain": "<IPython.core.display.HTML object>",
            "text/html": "Find logs at: <code>./wandb/run-20250419_140643-cp5zbg5v/logs</code>"
          },
          "metadata": {}
        }
      ],
      "execution_count": null
    },
    {
      "cell_type": "code",
      "source": [
        "# Sweep configuration dictionary\n",
        "sweep_config = {\n",
        "    'method': 'bayes',  # 'bayes' will use Bayesian optimization to find optimal hyperparameters, other options are 'grid' or 'random'\n",
        "\n",
        "    'metric': {\n",
        "        'name': 'Validation Accuracy',  # Metric to optimize during the sweep\n",
        "        'goal': 'maximize'  # Goal is to maximize the validation accuracy\n",
        "    },\n",
        "\n",
        "    'parameters': {\n",
        "\n",
        "        'freeze_percent': {\n",
        "            'values': [0]  # Different percentages of layers to freeze during fine-tuning\n",
        "        },\n",
        "\n",
        "        'model_name': {\n",
        "            'values': ['resnet']  # Pre-trained model options for fine-tuning\n",
        "        },\n",
        "\n",
        "        'freeze_all_except_last_layer': {\n",
        "            'values': ['Yes']  # Option to freeze all layers except the last one or not\n",
        "        },\n",
        "\n",
        "        'epochs': {\n",
        "            'value': 10  # Number of epochs for each training run\n",
        "        }\n",
        "    }\n",
        "}\n",
        "\n",
        "# Initialize the W&B sweep using the config\n",
        "sweep_id = wandb.sweep(sweep_config, project=\"DA6401_A-2_Part-B\")  # Initialize sweep in the project \"DA6401_A-2_Part-B\"\n"
      ],
      "metadata": {
        "trusted": true,
        "execution": {
          "iopub.status.busy": "2025-04-19T14:35:29.73812Z",
          "iopub.execute_input": "2025-04-19T14:35:29.738628Z",
          "iopub.status.idle": "2025-04-19T14:35:30.172404Z",
          "shell.execute_reply.started": "2025-04-19T14:35:29.738607Z",
          "shell.execute_reply": "2025-04-19T14:35:30.171817Z"
        },
        "id": "REkvKklPtMEG",
        "outputId": "ff68e0f0-2b52-4058-ebd1-f9251c94dc0f"
      },
      "outputs": [
        {
          "name": "stdout",
          "text": "Create sweep with ID: wjj1q6iz\nSweep URL: https://wandb.ai/ma23m013-iit-madras/DA6401_A-2_Part-B/sweeps/wjj1q6iz\n",
          "output_type": "stream"
        }
      ],
      "execution_count": null
    },
    {
      "cell_type": "code",
      "source": [
        "def main():\n",
        "    '''\n",
        "    WandB calls the main function each time with a different combination of hyperparameters.\n",
        "    We can retrieve the configuration values from `wandb.config` and use them in our model training.\n",
        "\n",
        "    This function initializes the W&B run, loads the pre-trained model with specified hyperparameters,\n",
        "    prepares the dataset, and starts the training process.\n",
        "    '''\n",
        "\n",
        "    # Initialize W&B run\n",
        "    with wandb.init() as run:\n",
        "        # Define the run name based on hyperparameters for better tracking\n",
        "        run_name = \"ep\" + str(wandb.config.epochs) + \"_fp-\" + str(wandb.config.freeze_percent) + \"_model-\" + str(wandb.config.model_name)\n",
        "        wandb.run.name = run_name  # Set the name for this run in W&B\n",
        "\n",
        "        # Load the pre-trained model based on configuration\n",
        "        model = pretrain_model(\n",
        "            model_name=wandb.config.model_name,\n",
        "            freeze_percent=wandb.config.freeze_percent,\n",
        "            freeze_all_except_last_layer=wandb.config.freeze_all_except_last_layer\n",
        "        )\n",
        "\n",
        "        # Move the model to the appropriate device (CPU or GPU)\n",
        "        model = model.to(device)\n",
        "\n",
        "        # Define the directory where the training data is located\n",
        "        data_dir = '/kaggle/input/inaturalist-dataset/inaturalist_12K/train'\n",
        "\n",
        "        # Load the training and validation data with or without data augmentation\n",
        "        train_data, val_data = load_dataset(data_dir, apply_augmentation='No')\n",
        "\n",
        "        # Train the model with the loaded data and configurations\n",
        "        train_and_validate_model(model, train_data, val_data, num_epochs=wandb.config.epochs)\n",
        "\n",
        "\n",
        "# Start the W&B sweep, calling the main function for the specified number of times\n",
        "wandb.agent(sweep_id, function=main, count=1)  # Number of runs = 1 in this case, but can be increased\n",
        "wandb.finish()  # Finish the W&B run after the sweep is complete\n"
      ],
      "metadata": {
        "trusted": true,
        "execution": {
          "iopub.status.busy": "2025-04-19T14:35:41.642458Z",
          "iopub.execute_input": "2025-04-19T14:35:41.643114Z",
          "iopub.status.idle": "2025-04-19T14:55:23.687295Z",
          "shell.execute_reply.started": "2025-04-19T14:35:41.643094Z",
          "shell.execute_reply": "2025-04-19T14:55:23.686606Z"
        },
        "id": "cw97CBOstMEG",
        "outputId": "6534b215-b404-4e78-ae22-3ed99f17b99e"
      },
      "outputs": [
        {
          "name": "stderr",
          "text": "\u001b[34m\u001b[1mwandb\u001b[0m: Agent Starting Run: k2zxudmi with config:\n\u001b[34m\u001b[1mwandb\u001b[0m: \tepochs: 10\n\u001b[34m\u001b[1mwandb\u001b[0m: \tfreeze_all_except_last_layer: Yes\n\u001b[34m\u001b[1mwandb\u001b[0m: \tfreeze_percent: 0\n\u001b[34m\u001b[1mwandb\u001b[0m: \tmodel_name: resnet\n",
          "output_type": "stream"
        },
        {
          "output_type": "display_data",
          "data": {
            "text/plain": "<IPython.core.display.HTML object>",
            "text/html": "Tracking run with wandb version 0.19.6"
          },
          "metadata": {}
        },
        {
          "output_type": "display_data",
          "data": {
            "text/plain": "<IPython.core.display.HTML object>",
            "text/html": "Run data is saved locally in <code>/kaggle/working/wandb/run-20250419_143547-k2zxudmi</code>"
          },
          "metadata": {}
        },
        {
          "output_type": "display_data",
          "data": {
            "text/plain": "<IPython.core.display.HTML object>",
            "text/html": "Syncing run <strong><a href='https://wandb.ai/ma23m013-iit-madras/DA6401_A-2_Part-B/runs/k2zxudmi' target=\"_blank\">easy-sweep-1</a></strong> to <a href='https://wandb.ai/ma23m013-iit-madras/DA6401_A-2_Part-B' target=\"_blank\">Weights & Biases</a> (<a href='https://wandb.me/developer-guide' target=\"_blank\">docs</a>)<br>Sweep page: <a href='https://wandb.ai/ma23m013-iit-madras/DA6401_A-2_Part-B/sweeps/wjj1q6iz' target=\"_blank\">https://wandb.ai/ma23m013-iit-madras/DA6401_A-2_Part-B/sweeps/wjj1q6iz</a>"
          },
          "metadata": {}
        },
        {
          "output_type": "display_data",
          "data": {
            "text/plain": "<IPython.core.display.HTML object>",
            "text/html": " View project at <a href='https://wandb.ai/ma23m013-iit-madras/DA6401_A-2_Part-B' target=\"_blank\">https://wandb.ai/ma23m013-iit-madras/DA6401_A-2_Part-B</a>"
          },
          "metadata": {}
        },
        {
          "output_type": "display_data",
          "data": {
            "text/plain": "<IPython.core.display.HTML object>",
            "text/html": " View sweep at <a href='https://wandb.ai/ma23m013-iit-madras/DA6401_A-2_Part-B/sweeps/wjj1q6iz' target=\"_blank\">https://wandb.ai/ma23m013-iit-madras/DA6401_A-2_Part-B/sweeps/wjj1q6iz</a>"
          },
          "metadata": {}
        },
        {
          "output_type": "display_data",
          "data": {
            "text/plain": "<IPython.core.display.HTML object>",
            "text/html": " View run at <a href='https://wandb.ai/ma23m013-iit-madras/DA6401_A-2_Part-B/runs/k2zxudmi' target=\"_blank\">https://wandb.ai/ma23m013-iit-madras/DA6401_A-2_Part-B/runs/k2zxudmi</a>"
          },
          "metadata": {}
        },
        {
          "name": "stdout",
          "text": "Epoch 1/10, Train Loss: 1.1334, Train Accuracy: 63.43%\nEpoch 1/10, Validation Loss: 0.8995, Validation Accuracy: 71.55%\nEpoch 2/10, Train Loss: 0.8396, Train Accuracy: 72.63%\nEpoch 2/10, Validation Loss: 0.8347, Validation Accuracy: 73.10%\nEpoch 3/10, Train Loss: 0.7925, Train Accuracy: 74.15%\nEpoch 3/10, Validation Loss: 0.8056, Validation Accuracy: 73.50%\nEpoch 4/10, Train Loss: 0.7573, Train Accuracy: 74.62%\nEpoch 4/10, Validation Loss: 0.8252, Validation Accuracy: 73.80%\nEpoch 5/10, Train Loss: 0.7313, Train Accuracy: 75.87%\nEpoch 5/10, Validation Loss: 0.8029, Validation Accuracy: 74.20%\nEpoch 6/10, Train Loss: 0.7177, Train Accuracy: 76.71%\nEpoch 6/10, Validation Loss: 0.7951, Validation Accuracy: 74.35%\nEpoch 7/10, Train Loss: 0.7055, Train Accuracy: 76.80%\nEpoch 7/10, Validation Loss: 0.8429, Validation Accuracy: 73.05%\nEpoch 8/10, Train Loss: 0.6812, Train Accuracy: 77.17%\nEpoch 8/10, Validation Loss: 0.7961, Validation Accuracy: 74.70%\nEpoch 9/10, Train Loss: 0.6627, Train Accuracy: 78.22%\nEpoch 9/10, Validation Loss: 0.8757, Validation Accuracy: 72.25%\nEpoch 10/10, Train Loss: 0.6655, Train Accuracy: 77.66%\nEpoch 10/10, Validation Loss: 0.8732, Validation Accuracy: 73.00%\nTraining complete!\n",
          "output_type": "stream"
        },
        {
          "output_type": "display_data",
          "data": {
            "text/plain": "<IPython.core.display.HTML object>",
            "text/html": ""
          },
          "metadata": {}
        },
        {
          "output_type": "display_data",
          "data": {
            "text/plain": "<IPython.core.display.HTML object>",
            "text/html": "<br>    <style><br>        .wandb-row {<br>            display: flex;<br>            flex-direction: row;<br>            flex-wrap: wrap;<br>            justify-content: flex-start;<br>            width: 100%;<br>        }<br>        .wandb-col {<br>            display: flex;<br>            flex-direction: column;<br>            flex-basis: 100%;<br>            flex: 1;<br>            padding: 10px;<br>        }<br>    </style><br><div class=\"wandb-row\"><div class=\"wandb-col\"><h3>Run history:</h3><br/><table class=\"wandb\"><tr><td>Epoch</td><td>▁▂▃▃▄▅▆▆▇█</td></tr><tr><td>Train Accuracy</td><td>▁▅▆▆▇▇▇███</td></tr><tr><td>Train Loss</td><td>█▄▃▂▂▂▂▁▁▁</td></tr><tr><td>Validation Accuracy</td><td>▁▄▅▆▇▇▄█▃▄</td></tr><tr><td>Validation Loss</td><td>█▄▂▃▂▁▄▁▆▆</td></tr></table><br/></div><div class=\"wandb-col\"><h3>Run summary:</h3><br/><table class=\"wandb\"><tr><td>Epoch</td><td>10</td></tr><tr><td>Train Accuracy</td><td>77.65971</td></tr><tr><td>Train Loss</td><td>0.66546</td></tr><tr><td>Validation Accuracy</td><td>73</td></tr><tr><td>Validation Loss</td><td>0.87315</td></tr></table><br/></div></div>"
          },
          "metadata": {}
        },
        {
          "output_type": "display_data",
          "data": {
            "text/plain": "<IPython.core.display.HTML object>",
            "text/html": " View run <strong style=\"color:#cdcd00\">ep10_fp-0_model-resnet</strong> at: <a href='https://wandb.ai/ma23m013-iit-madras/DA6401_A-2_Part-B/runs/k2zxudmi' target=\"_blank\">https://wandb.ai/ma23m013-iit-madras/DA6401_A-2_Part-B/runs/k2zxudmi</a><br> View project at: <a href='https://wandb.ai/ma23m013-iit-madras/DA6401_A-2_Part-B' target=\"_blank\">https://wandb.ai/ma23m013-iit-madras/DA6401_A-2_Part-B</a><br>Synced 5 W&B file(s), 0 media file(s), 0 artifact file(s) and 0 other file(s)"
          },
          "metadata": {}
        },
        {
          "output_type": "display_data",
          "data": {
            "text/plain": "<IPython.core.display.HTML object>",
            "text/html": "Find logs at: <code>./wandb/run-20250419_143547-k2zxudmi/logs</code>"
          },
          "metadata": {}
        }
      ],
      "execution_count": null
    },
    {
      "cell_type": "code",
      "source": [],
      "metadata": {
        "trusted": true,
        "id": "Y4MBhoJ4tMEG"
      },
      "outputs": [],
      "execution_count": null
    }
  ]
}