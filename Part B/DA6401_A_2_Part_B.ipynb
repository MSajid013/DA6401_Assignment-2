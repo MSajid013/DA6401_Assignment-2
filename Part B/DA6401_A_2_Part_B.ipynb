{
  "metadata": {
    "kernelspec": {
      "language": "python",
      "display_name": "Python 3",
      "name": "python3"
    },
    "language_info": {
      "name": "python",
      "version": "3.11.11",
      "mimetype": "text/x-python",
      "codemirror_mode": {
        "name": "ipython",
        "version": 3
      },
      "pygments_lexer": "ipython3",
      "nbconvert_exporter": "python",
      "file_extension": ".py"
    },
    "kaggle": {
      "accelerator": "none",
      "dataSources": [
        {
          "sourceId": 11435433,
          "sourceType": "datasetVersion",
          "datasetId": 7162711
        }
      ],
      "dockerImageVersionId": 31011,
      "isInternetEnabled": true,
      "language": "python",
      "sourceType": "notebook",
      "isGpuEnabled": false
    },
    "colab": {
      "name": "DA6401_A-2_Part-B",
      "provenance": []
    }
  },
  "nbformat_minor": 0,
  "nbformat": 4,
  "cells": [
    {
      "source": [
        "# IMPORTANT: SOME KAGGLE DATA SOURCES ARE PRIVATE\n",
        "# RUN THIS CELL IN ORDER TO IMPORT YOUR KAGGLE DATA SOURCES.\n",
        "import kagglehub\n",
        "kagglehub.login()\n"
      ],
      "metadata": {
        "id": "iyrNx31AumIz"
      },
      "cell_type": "code",
      "outputs": [],
      "execution_count": null
    },
    {
      "source": [
        "# IMPORTANT: RUN THIS CELL IN ORDER TO IMPORT YOUR KAGGLE DATA SOURCES,\n",
        "# THEN FEEL FREE TO DELETE THIS CELL.\n",
        "# NOTE: THIS NOTEBOOK ENVIRONMENT DIFFERS FROM KAGGLE'S PYTHON\n",
        "# ENVIRONMENT SO THERE MAY BE MISSING LIBRARIES USED BY YOUR\n",
        "# NOTEBOOK.\n",
        "\n",
        "sajidma23m013_inaturalist_dataset_path = kagglehub.dataset_download('sajidma23m013/inaturalist-dataset')\n",
        "\n",
        "print('Data source import complete.')\n"
      ],
      "metadata": {
        "id": "MPPR_MEaumI1"
      },
      "cell_type": "code",
      "outputs": [],
      "execution_count": null
    },
    {
      "cell_type": "code",
      "source": [
        "!pip install wandb"
      ],
      "metadata": {
        "trusted": true,
        "execution": {
          "iopub.status.busy": "2025-04-18T09:04:16.99543Z",
          "iopub.execute_input": "2025-04-18T09:04:16.995984Z",
          "iopub.status.idle": "2025-04-18T09:04:20.743785Z",
          "shell.execute_reply.started": "2025-04-18T09:04:16.995959Z",
          "shell.execute_reply": "2025-04-18T09:04:20.743007Z"
        },
        "id": "jf1_rCjDumI2",
        "outputId": "079e55a5-3742-40b7-bef1-e8d76c19eb67"
      },
      "outputs": [
        {
          "name": "stdout",
          "text": "Requirement already satisfied: wandb in /usr/local/lib/python3.11/dist-packages (0.19.6)\nRequirement already satisfied: click!=8.0.0,>=7.1 in /usr/local/lib/python3.11/dist-packages (from wandb) (8.1.8)\nRequirement already satisfied: docker-pycreds>=0.4.0 in /usr/local/lib/python3.11/dist-packages (from wandb) (0.4.0)\nRequirement already satisfied: gitpython!=3.1.29,>=1.0.0 in /usr/local/lib/python3.11/dist-packages (from wandb) (3.1.44)\nRequirement already satisfied: platformdirs in /usr/local/lib/python3.11/dist-packages (from wandb) (4.3.7)\nRequirement already satisfied: protobuf!=4.21.0,!=5.28.0,<6,>=3.19.0 in /usr/local/lib/python3.11/dist-packages (from wandb) (3.20.3)\nRequirement already satisfied: psutil>=5.0.0 in /usr/local/lib/python3.11/dist-packages (from wandb) (7.0.0)\nRequirement already satisfied: pydantic<3,>=2.6 in /usr/local/lib/python3.11/dist-packages (from wandb) (2.11.3)\nRequirement already satisfied: pyyaml in /usr/local/lib/python3.11/dist-packages (from wandb) (6.0.2)\nRequirement already satisfied: requests<3,>=2.0.0 in /usr/local/lib/python3.11/dist-packages (from wandb) (2.32.3)\nRequirement already satisfied: sentry-sdk>=2.0.0 in /usr/local/lib/python3.11/dist-packages (from wandb) (2.21.0)\nRequirement already satisfied: setproctitle in /usr/local/lib/python3.11/dist-packages (from wandb) (1.3.4)\nRequirement already satisfied: setuptools in /usr/local/lib/python3.11/dist-packages (from wandb) (75.1.0)\nRequirement already satisfied: typing-extensions<5,>=4.4 in /usr/local/lib/python3.11/dist-packages (from wandb) (4.13.1)\nRequirement already satisfied: six>=1.4.0 in /usr/local/lib/python3.11/dist-packages (from docker-pycreds>=0.4.0->wandb) (1.17.0)\nRequirement already satisfied: gitdb<5,>=4.0.1 in /usr/local/lib/python3.11/dist-packages (from gitpython!=3.1.29,>=1.0.0->wandb) (4.0.12)\nRequirement already satisfied: annotated-types>=0.6.0 in /usr/local/lib/python3.11/dist-packages (from pydantic<3,>=2.6->wandb) (0.7.0)\nRequirement already satisfied: pydantic-core==2.33.1 in /usr/local/lib/python3.11/dist-packages (from pydantic<3,>=2.6->wandb) (2.33.1)\nRequirement already satisfied: typing-inspection>=0.4.0 in /usr/local/lib/python3.11/dist-packages (from pydantic<3,>=2.6->wandb) (0.4.0)\nRequirement already satisfied: charset-normalizer<4,>=2 in /usr/local/lib/python3.11/dist-packages (from requests<3,>=2.0.0->wandb) (3.4.1)\nRequirement already satisfied: idna<4,>=2.5 in /usr/local/lib/python3.11/dist-packages (from requests<3,>=2.0.0->wandb) (3.10)\nRequirement already satisfied: urllib3<3,>=1.21.1 in /usr/local/lib/python3.11/dist-packages (from requests<3,>=2.0.0->wandb) (2.3.0)\nRequirement already satisfied: certifi>=2017.4.17 in /usr/local/lib/python3.11/dist-packages (from requests<3,>=2.0.0->wandb) (2025.1.31)\nRequirement already satisfied: smmap<6,>=3.0.1 in /usr/local/lib/python3.11/dist-packages (from gitdb<5,>=4.0.1->gitpython!=3.1.29,>=1.0.0->wandb) (5.0.2)\n",
          "output_type": "stream"
        }
      ],
      "execution_count": null
    },
    {
      "cell_type": "code",
      "source": [
        "import wandb\n",
        "wandb.login(key='53b259076c07d0811d73bf26bfef7437e04dbf66')"
      ],
      "metadata": {
        "trusted": true,
        "execution": {
          "iopub.status.busy": "2025-04-18T18:09:04.437508Z",
          "iopub.execute_input": "2025-04-18T18:09:04.437753Z",
          "iopub.status.idle": "2025-04-18T18:09:12.777911Z",
          "shell.execute_reply.started": "2025-04-18T18:09:04.437732Z",
          "shell.execute_reply": "2025-04-18T18:09:12.777226Z"
        },
        "id": "IdM6Q-iXumI2",
        "outputId": "b2acc362-68aa-4c8f-941b-2c8daa0798f3"
      },
      "outputs": [
        {
          "name": "stderr",
          "text": "\u001b[34m\u001b[1mwandb\u001b[0m: \u001b[33mWARNING\u001b[0m If you're specifying your api key in code, ensure this code is not shared publicly.\n\u001b[34m\u001b[1mwandb\u001b[0m: \u001b[33mWARNING\u001b[0m Consider setting the WANDB_API_KEY environment variable, or running `wandb login` from the command line.\n\u001b[34m\u001b[1mwandb\u001b[0m: Appending key for api.wandb.ai to your netrc file: /root/.netrc\n\u001b[34m\u001b[1mwandb\u001b[0m: Currently logged in as: \u001b[33mma23m013\u001b[0m (\u001b[33mma23m013-iit-madras\u001b[0m) to \u001b[32mhttps://api.wandb.ai\u001b[0m. Use \u001b[1m`wandb login --relogin`\u001b[0m to force relogin\n",
          "output_type": "stream"
        },
        {
          "execution_count": 1,
          "output_type": "execute_result",
          "data": {
            "text/plain": "True"
          },
          "metadata": {}
        }
      ],
      "execution_count": null
    },
    {
      "cell_type": "code",
      "source": [
        "import torch\n",
        "import torch.nn as nn\n",
        "import torch.optim as optim\n",
        "from torchvision.datasets import ImageFolder\n",
        "from torchvision.transforms import transforms\n",
        "from torch.utils.data import DataLoader, SubsetRandomSampler\n",
        "from sklearn.model_selection import train_test_split\n",
        "from torchvision import models\n",
        "\n",
        "# Check if CUDA is available\n",
        "device = torch.device('cuda' if torch.cuda.is_available() else 'cpu')\n",
        "\n",
        "# Define function for pretraining a model\n",
        "def pretrain_model(model_name, freeze_percent, freeze_all_except_last_layer):\n",
        "    '''\n",
        "    This function initializes a pre-trained model based on the model_name argument,\n",
        "    freezes layers based on the freeze_percent, and optionally freezes all layers except\n",
        "    the last fully connected layer.\n",
        "\n",
        "    Parameters:\n",
        "    - model_name (str): The name of the model to load (e.g., 'resnet', 'googlenet')\n",
        "    - freeze_percent (float): Percentage of layers to freeze (e.g., 0.25 for 25%)\n",
        "    - freeze_all_except_last_layer (str): If 'Yes', only the last layer is trainable. If 'No', freeze layers based on freeze_percent.\n",
        "\n",
        "    Returns:\n",
        "    - pretrained_model (torch.nn.Module): The model with modified layers and frozen parameters.\n",
        "    '''\n",
        "\n",
        "    # Load pre-trained model based on the provided model name\n",
        "    if model_name == 'resnet':\n",
        "        pretrained_model = models.resnet50(pretrained=True)\n",
        "    elif model_name == 'googlenet':\n",
        "        pretrained_model = models.googlenet(pretrained=True)\n",
        "\n",
        "    # Modify the final fully connected layer to match the number of classes (10 in this case)\n",
        "    nodes_fc = pretrained_model.fc.in_features  # Get the input features of the last fully connected layer\n",
        "    pretrained_model.fc = nn.Linear(nodes_fc, 10)  # Change to 10 classes (modify if necessary)\n",
        "\n",
        "    # Calculate the number of layers to freeze based on the freeze_percent\n",
        "    total_layers = sum(1 for _ in pretrained_model.children())\n",
        "    num_freeze = int(total_layers * freeze_percent)\n",
        "\n",
        "    # Freeze layers based on the 'freeze_all_except_last_layer' flag\n",
        "    if freeze_all_except_last_layer == 'Yes':\n",
        "        for name, parameter in pretrained_model.named_parameters():\n",
        "            if not name.startswith('fc'):  # Exclude the last layer named 'fc'\n",
        "                parameter.requires_grad = False  # Freeze this layer\n",
        "\n",
        "    if freeze_all_except_last_layer == 'No':\n",
        "        count = 0\n",
        "        # Freeze layers based on the 'freeze_percent' argument\n",
        "        for name, child in pretrained_model.named_children():\n",
        "            if count < num_freeze:\n",
        "                for parameter in child.parameters():\n",
        "                    parameter.requires_grad = False  # Freeze the layer\n",
        "            else:\n",
        "                for parameter in child.parameters():\n",
        "                    parameter.requires_grad = True  # Make the layer trainable\n",
        "            count += 1\n",
        "\n",
        "    return pretrained_model\n",
        "\n",
        "# Example usage\n",
        "freeze_percent = 0.25  # Freeze 25% of layers\n",
        "freeze_all_except_last_layer = 'No'\n",
        "model_name = 'googlenet'  # Using GoogLeNet\n",
        "model = pretrain_model(model_name, freeze_percent, freeze_all_except_last_layer)\n",
        "print(model)  # Print the model architecture\n"
      ],
      "metadata": {
        "trusted": true,
        "execution": {
          "iopub.status.busy": "2025-04-18T18:09:13.872762Z",
          "iopub.execute_input": "2025-04-18T18:09:13.873429Z",
          "iopub.status.idle": "2025-04-18T18:09:21.811894Z",
          "shell.execute_reply.started": "2025-04-18T18:09:13.873405Z",
          "shell.execute_reply": "2025-04-18T18:09:21.811155Z"
        },
        "id": "0RQem3RTumI2",
        "outputId": "6c781336-b685-4ce2-b51f-a2af31e92497"
      },
      "outputs": [
        {
          "name": "stderr",
          "text": "/usr/local/lib/python3.11/dist-packages/torchvision/models/_utils.py:208: UserWarning: The parameter 'pretrained' is deprecated since 0.13 and may be removed in the future, please use 'weights' instead.\n  warnings.warn(\n/usr/local/lib/python3.11/dist-packages/torchvision/models/_utils.py:223: UserWarning: Arguments other than a weight enum or `None` for 'weights' are deprecated since 0.13 and may be removed in the future. The current behavior is equivalent to passing `weights=GoogLeNet_Weights.IMAGENET1K_V1`. You can also use `weights=GoogLeNet_Weights.DEFAULT` to get the most up-to-date weights.\n  warnings.warn(msg)\nDownloading: \"https://download.pytorch.org/models/googlenet-1378be20.pth\" to /root/.cache/torch/hub/checkpoints/googlenet-1378be20.pth\n100%|██████████| 49.7M/49.7M [00:00<00:00, 190MB/s]\n",
          "output_type": "stream"
        },
        {
          "name": "stdout",
          "text": "GoogLeNet(\n  (conv1): BasicConv2d(\n    (conv): Conv2d(3, 64, kernel_size=(7, 7), stride=(2, 2), padding=(3, 3), bias=False)\n    (bn): BatchNorm2d(64, eps=0.001, momentum=0.1, affine=True, track_running_stats=True)\n  )\n  (maxpool1): MaxPool2d(kernel_size=3, stride=2, padding=0, dilation=1, ceil_mode=True)\n  (conv2): BasicConv2d(\n    (conv): Conv2d(64, 64, kernel_size=(1, 1), stride=(1, 1), bias=False)\n    (bn): BatchNorm2d(64, eps=0.001, momentum=0.1, affine=True, track_running_stats=True)\n  )\n  (conv3): BasicConv2d(\n    (conv): Conv2d(64, 192, kernel_size=(3, 3), stride=(1, 1), padding=(1, 1), bias=False)\n    (bn): BatchNorm2d(192, eps=0.001, momentum=0.1, affine=True, track_running_stats=True)\n  )\n  (maxpool2): MaxPool2d(kernel_size=3, stride=2, padding=0, dilation=1, ceil_mode=True)\n  (inception3a): Inception(\n    (branch1): BasicConv2d(\n      (conv): Conv2d(192, 64, kernel_size=(1, 1), stride=(1, 1), bias=False)\n      (bn): BatchNorm2d(64, eps=0.001, momentum=0.1, affine=True, track_running_stats=True)\n    )\n    (branch2): Sequential(\n      (0): BasicConv2d(\n        (conv): Conv2d(192, 96, kernel_size=(1, 1), stride=(1, 1), bias=False)\n        (bn): BatchNorm2d(96, eps=0.001, momentum=0.1, affine=True, track_running_stats=True)\n      )\n      (1): BasicConv2d(\n        (conv): Conv2d(96, 128, kernel_size=(3, 3), stride=(1, 1), padding=(1, 1), bias=False)\n        (bn): BatchNorm2d(128, eps=0.001, momentum=0.1, affine=True, track_running_stats=True)\n      )\n    )\n    (branch3): Sequential(\n      (0): BasicConv2d(\n        (conv): Conv2d(192, 16, kernel_size=(1, 1), stride=(1, 1), bias=False)\n        (bn): BatchNorm2d(16, eps=0.001, momentum=0.1, affine=True, track_running_stats=True)\n      )\n      (1): BasicConv2d(\n        (conv): Conv2d(16, 32, kernel_size=(3, 3), stride=(1, 1), padding=(1, 1), bias=False)\n        (bn): BatchNorm2d(32, eps=0.001, momentum=0.1, affine=True, track_running_stats=True)\n      )\n    )\n    (branch4): Sequential(\n      (0): MaxPool2d(kernel_size=3, stride=1, padding=1, dilation=1, ceil_mode=True)\n      (1): BasicConv2d(\n        (conv): Conv2d(192, 32, kernel_size=(1, 1), stride=(1, 1), bias=False)\n        (bn): BatchNorm2d(32, eps=0.001, momentum=0.1, affine=True, track_running_stats=True)\n      )\n    )\n  )\n  (inception3b): Inception(\n    (branch1): BasicConv2d(\n      (conv): Conv2d(256, 128, kernel_size=(1, 1), stride=(1, 1), bias=False)\n      (bn): BatchNorm2d(128, eps=0.001, momentum=0.1, affine=True, track_running_stats=True)\n    )\n    (branch2): Sequential(\n      (0): BasicConv2d(\n        (conv): Conv2d(256, 128, kernel_size=(1, 1), stride=(1, 1), bias=False)\n        (bn): BatchNorm2d(128, eps=0.001, momentum=0.1, affine=True, track_running_stats=True)\n      )\n      (1): BasicConv2d(\n        (conv): Conv2d(128, 192, kernel_size=(3, 3), stride=(1, 1), padding=(1, 1), bias=False)\n        (bn): BatchNorm2d(192, eps=0.001, momentum=0.1, affine=True, track_running_stats=True)\n      )\n    )\n    (branch3): Sequential(\n      (0): BasicConv2d(\n        (conv): Conv2d(256, 32, kernel_size=(1, 1), stride=(1, 1), bias=False)\n        (bn): BatchNorm2d(32, eps=0.001, momentum=0.1, affine=True, track_running_stats=True)\n      )\n      (1): BasicConv2d(\n        (conv): Conv2d(32, 96, kernel_size=(3, 3), stride=(1, 1), padding=(1, 1), bias=False)\n        (bn): BatchNorm2d(96, eps=0.001, momentum=0.1, affine=True, track_running_stats=True)\n      )\n    )\n    (branch4): Sequential(\n      (0): MaxPool2d(kernel_size=3, stride=1, padding=1, dilation=1, ceil_mode=True)\n      (1): BasicConv2d(\n        (conv): Conv2d(256, 64, kernel_size=(1, 1), stride=(1, 1), bias=False)\n        (bn): BatchNorm2d(64, eps=0.001, momentum=0.1, affine=True, track_running_stats=True)\n      )\n    )\n  )\n  (maxpool3): MaxPool2d(kernel_size=3, stride=2, padding=0, dilation=1, ceil_mode=True)\n  (inception4a): Inception(\n    (branch1): BasicConv2d(\n      (conv): Conv2d(480, 192, kernel_size=(1, 1), stride=(1, 1), bias=False)\n      (bn): BatchNorm2d(192, eps=0.001, momentum=0.1, affine=True, track_running_stats=True)\n    )\n    (branch2): Sequential(\n      (0): BasicConv2d(\n        (conv): Conv2d(480, 96, kernel_size=(1, 1), stride=(1, 1), bias=False)\n        (bn): BatchNorm2d(96, eps=0.001, momentum=0.1, affine=True, track_running_stats=True)\n      )\n      (1): BasicConv2d(\n        (conv): Conv2d(96, 208, kernel_size=(3, 3), stride=(1, 1), padding=(1, 1), bias=False)\n        (bn): BatchNorm2d(208, eps=0.001, momentum=0.1, affine=True, track_running_stats=True)\n      )\n    )\n    (branch3): Sequential(\n      (0): BasicConv2d(\n        (conv): Conv2d(480, 16, kernel_size=(1, 1), stride=(1, 1), bias=False)\n        (bn): BatchNorm2d(16, eps=0.001, momentum=0.1, affine=True, track_running_stats=True)\n      )\n      (1): BasicConv2d(\n        (conv): Conv2d(16, 48, kernel_size=(3, 3), stride=(1, 1), padding=(1, 1), bias=False)\n        (bn): BatchNorm2d(48, eps=0.001, momentum=0.1, affine=True, track_running_stats=True)\n      )\n    )\n    (branch4): Sequential(\n      (0): MaxPool2d(kernel_size=3, stride=1, padding=1, dilation=1, ceil_mode=True)\n      (1): BasicConv2d(\n        (conv): Conv2d(480, 64, kernel_size=(1, 1), stride=(1, 1), bias=False)\n        (bn): BatchNorm2d(64, eps=0.001, momentum=0.1, affine=True, track_running_stats=True)\n      )\n    )\n  )\n  (inception4b): Inception(\n    (branch1): BasicConv2d(\n      (conv): Conv2d(512, 160, kernel_size=(1, 1), stride=(1, 1), bias=False)\n      (bn): BatchNorm2d(160, eps=0.001, momentum=0.1, affine=True, track_running_stats=True)\n    )\n    (branch2): Sequential(\n      (0): BasicConv2d(\n        (conv): Conv2d(512, 112, kernel_size=(1, 1), stride=(1, 1), bias=False)\n        (bn): BatchNorm2d(112, eps=0.001, momentum=0.1, affine=True, track_running_stats=True)\n      )\n      (1): BasicConv2d(\n        (conv): Conv2d(112, 224, kernel_size=(3, 3), stride=(1, 1), padding=(1, 1), bias=False)\n        (bn): BatchNorm2d(224, eps=0.001, momentum=0.1, affine=True, track_running_stats=True)\n      )\n    )\n    (branch3): Sequential(\n      (0): BasicConv2d(\n        (conv): Conv2d(512, 24, kernel_size=(1, 1), stride=(1, 1), bias=False)\n        (bn): BatchNorm2d(24, eps=0.001, momentum=0.1, affine=True, track_running_stats=True)\n      )\n      (1): BasicConv2d(\n        (conv): Conv2d(24, 64, kernel_size=(3, 3), stride=(1, 1), padding=(1, 1), bias=False)\n        (bn): BatchNorm2d(64, eps=0.001, momentum=0.1, affine=True, track_running_stats=True)\n      )\n    )\n    (branch4): Sequential(\n      (0): MaxPool2d(kernel_size=3, stride=1, padding=1, dilation=1, ceil_mode=True)\n      (1): BasicConv2d(\n        (conv): Conv2d(512, 64, kernel_size=(1, 1), stride=(1, 1), bias=False)\n        (bn): BatchNorm2d(64, eps=0.001, momentum=0.1, affine=True, track_running_stats=True)\n      )\n    )\n  )\n  (inception4c): Inception(\n    (branch1): BasicConv2d(\n      (conv): Conv2d(512, 128, kernel_size=(1, 1), stride=(1, 1), bias=False)\n      (bn): BatchNorm2d(128, eps=0.001, momentum=0.1, affine=True, track_running_stats=True)\n    )\n    (branch2): Sequential(\n      (0): BasicConv2d(\n        (conv): Conv2d(512, 128, kernel_size=(1, 1), stride=(1, 1), bias=False)\n        (bn): BatchNorm2d(128, eps=0.001, momentum=0.1, affine=True, track_running_stats=True)\n      )\n      (1): BasicConv2d(\n        (conv): Conv2d(128, 256, kernel_size=(3, 3), stride=(1, 1), padding=(1, 1), bias=False)\n        (bn): BatchNorm2d(256, eps=0.001, momentum=0.1, affine=True, track_running_stats=True)\n      )\n    )\n    (branch3): Sequential(\n      (0): BasicConv2d(\n        (conv): Conv2d(512, 24, kernel_size=(1, 1), stride=(1, 1), bias=False)\n        (bn): BatchNorm2d(24, eps=0.001, momentum=0.1, affine=True, track_running_stats=True)\n      )\n      (1): BasicConv2d(\n        (conv): Conv2d(24, 64, kernel_size=(3, 3), stride=(1, 1), padding=(1, 1), bias=False)\n        (bn): BatchNorm2d(64, eps=0.001, momentum=0.1, affine=True, track_running_stats=True)\n      )\n    )\n    (branch4): Sequential(\n      (0): MaxPool2d(kernel_size=3, stride=1, padding=1, dilation=1, ceil_mode=True)\n      (1): BasicConv2d(\n        (conv): Conv2d(512, 64, kernel_size=(1, 1), stride=(1, 1), bias=False)\n        (bn): BatchNorm2d(64, eps=0.001, momentum=0.1, affine=True, track_running_stats=True)\n      )\n    )\n  )\n  (inception4d): Inception(\n    (branch1): BasicConv2d(\n      (conv): Conv2d(512, 112, kernel_size=(1, 1), stride=(1, 1), bias=False)\n      (bn): BatchNorm2d(112, eps=0.001, momentum=0.1, affine=True, track_running_stats=True)\n    )\n    (branch2): Sequential(\n      (0): BasicConv2d(\n        (conv): Conv2d(512, 144, kernel_size=(1, 1), stride=(1, 1), bias=False)\n        (bn): BatchNorm2d(144, eps=0.001, momentum=0.1, affine=True, track_running_stats=True)\n      )\n      (1): BasicConv2d(\n        (conv): Conv2d(144, 288, kernel_size=(3, 3), stride=(1, 1), padding=(1, 1), bias=False)\n        (bn): BatchNorm2d(288, eps=0.001, momentum=0.1, affine=True, track_running_stats=True)\n      )\n    )\n    (branch3): Sequential(\n      (0): BasicConv2d(\n        (conv): Conv2d(512, 32, kernel_size=(1, 1), stride=(1, 1), bias=False)\n        (bn): BatchNorm2d(32, eps=0.001, momentum=0.1, affine=True, track_running_stats=True)\n      )\n      (1): BasicConv2d(\n        (conv): Conv2d(32, 64, kernel_size=(3, 3), stride=(1, 1), padding=(1, 1), bias=False)\n        (bn): BatchNorm2d(64, eps=0.001, momentum=0.1, affine=True, track_running_stats=True)\n      )\n    )\n    (branch4): Sequential(\n      (0): MaxPool2d(kernel_size=3, stride=1, padding=1, dilation=1, ceil_mode=True)\n      (1): BasicConv2d(\n        (conv): Conv2d(512, 64, kernel_size=(1, 1), stride=(1, 1), bias=False)\n        (bn): BatchNorm2d(64, eps=0.001, momentum=0.1, affine=True, track_running_stats=True)\n      )\n    )\n  )\n  (inception4e): Inception(\n    (branch1): BasicConv2d(\n      (conv): Conv2d(528, 256, kernel_size=(1, 1), stride=(1, 1), bias=False)\n      (bn): BatchNorm2d(256, eps=0.001, momentum=0.1, affine=True, track_running_stats=True)\n    )\n    (branch2): Sequential(\n      (0): BasicConv2d(\n        (conv): Conv2d(528, 160, kernel_size=(1, 1), stride=(1, 1), bias=False)\n        (bn): BatchNorm2d(160, eps=0.001, momentum=0.1, affine=True, track_running_stats=True)\n      )\n      (1): BasicConv2d(\n        (conv): Conv2d(160, 320, kernel_size=(3, 3), stride=(1, 1), padding=(1, 1), bias=False)\n        (bn): BatchNorm2d(320, eps=0.001, momentum=0.1, affine=True, track_running_stats=True)\n      )\n    )\n    (branch3): Sequential(\n      (0): BasicConv2d(\n        (conv): Conv2d(528, 32, kernel_size=(1, 1), stride=(1, 1), bias=False)\n        (bn): BatchNorm2d(32, eps=0.001, momentum=0.1, affine=True, track_running_stats=True)\n      )\n      (1): BasicConv2d(\n        (conv): Conv2d(32, 128, kernel_size=(3, 3), stride=(1, 1), padding=(1, 1), bias=False)\n        (bn): BatchNorm2d(128, eps=0.001, momentum=0.1, affine=True, track_running_stats=True)\n      )\n    )\n    (branch4): Sequential(\n      (0): MaxPool2d(kernel_size=3, stride=1, padding=1, dilation=1, ceil_mode=True)\n      (1): BasicConv2d(\n        (conv): Conv2d(528, 128, kernel_size=(1, 1), stride=(1, 1), bias=False)\n        (bn): BatchNorm2d(128, eps=0.001, momentum=0.1, affine=True, track_running_stats=True)\n      )\n    )\n  )\n  (maxpool4): MaxPool2d(kernel_size=2, stride=2, padding=0, dilation=1, ceil_mode=True)\n  (inception5a): Inception(\n    (branch1): BasicConv2d(\n      (conv): Conv2d(832, 256, kernel_size=(1, 1), stride=(1, 1), bias=False)\n      (bn): BatchNorm2d(256, eps=0.001, momentum=0.1, affine=True, track_running_stats=True)\n    )\n    (branch2): Sequential(\n      (0): BasicConv2d(\n        (conv): Conv2d(832, 160, kernel_size=(1, 1), stride=(1, 1), bias=False)\n        (bn): BatchNorm2d(160, eps=0.001, momentum=0.1, affine=True, track_running_stats=True)\n      )\n      (1): BasicConv2d(\n        (conv): Conv2d(160, 320, kernel_size=(3, 3), stride=(1, 1), padding=(1, 1), bias=False)\n        (bn): BatchNorm2d(320, eps=0.001, momentum=0.1, affine=True, track_running_stats=True)\n      )\n    )\n    (branch3): Sequential(\n      (0): BasicConv2d(\n        (conv): Conv2d(832, 32, kernel_size=(1, 1), stride=(1, 1), bias=False)\n        (bn): BatchNorm2d(32, eps=0.001, momentum=0.1, affine=True, track_running_stats=True)\n      )\n      (1): BasicConv2d(\n        (conv): Conv2d(32, 128, kernel_size=(3, 3), stride=(1, 1), padding=(1, 1), bias=False)\n        (bn): BatchNorm2d(128, eps=0.001, momentum=0.1, affine=True, track_running_stats=True)\n      )\n    )\n    (branch4): Sequential(\n      (0): MaxPool2d(kernel_size=3, stride=1, padding=1, dilation=1, ceil_mode=True)\n      (1): BasicConv2d(\n        (conv): Conv2d(832, 128, kernel_size=(1, 1), stride=(1, 1), bias=False)\n        (bn): BatchNorm2d(128, eps=0.001, momentum=0.1, affine=True, track_running_stats=True)\n      )\n    )\n  )\n  (inception5b): Inception(\n    (branch1): BasicConv2d(\n      (conv): Conv2d(832, 384, kernel_size=(1, 1), stride=(1, 1), bias=False)\n      (bn): BatchNorm2d(384, eps=0.001, momentum=0.1, affine=True, track_running_stats=True)\n    )\n    (branch2): Sequential(\n      (0): BasicConv2d(\n        (conv): Conv2d(832, 192, kernel_size=(1, 1), stride=(1, 1), bias=False)\n        (bn): BatchNorm2d(192, eps=0.001, momentum=0.1, affine=True, track_running_stats=True)\n      )\n      (1): BasicConv2d(\n        (conv): Conv2d(192, 384, kernel_size=(3, 3), stride=(1, 1), padding=(1, 1), bias=False)\n        (bn): BatchNorm2d(384, eps=0.001, momentum=0.1, affine=True, track_running_stats=True)\n      )\n    )\n    (branch3): Sequential(\n      (0): BasicConv2d(\n        (conv): Conv2d(832, 48, kernel_size=(1, 1), stride=(1, 1), bias=False)\n        (bn): BatchNorm2d(48, eps=0.001, momentum=0.1, affine=True, track_running_stats=True)\n      )\n      (1): BasicConv2d(\n        (conv): Conv2d(48, 128, kernel_size=(3, 3), stride=(1, 1), padding=(1, 1), bias=False)\n        (bn): BatchNorm2d(128, eps=0.001, momentum=0.1, affine=True, track_running_stats=True)\n      )\n    )\n    (branch4): Sequential(\n      (0): MaxPool2d(kernel_size=3, stride=1, padding=1, dilation=1, ceil_mode=True)\n      (1): BasicConv2d(\n        (conv): Conv2d(832, 128, kernel_size=(1, 1), stride=(1, 1), bias=False)\n        (bn): BatchNorm2d(128, eps=0.001, momentum=0.1, affine=True, track_running_stats=True)\n      )\n    )\n  )\n  (aux1): None\n  (aux2): None\n  (avgpool): AdaptiveAvgPool2d(output_size=(1, 1))\n  (dropout): Dropout(p=0.2, inplace=False)\n  (fc): Linear(in_features=1024, out_features=10, bias=True)\n)\n",
          "output_type": "stream"
        }
      ],
      "execution_count": null
    },
    {
      "cell_type": "code",
      "source": [
        "# Example usage\n",
        "freeze_percent = 0.25  # Freeze 25% of layers\n",
        "freeze_all_except_last_layer = 'No'\n",
        "model_name = 'resnet'  # Using ResNet\n",
        "model = pretrain_model(model_name, freeze_percent, freeze_all_except_last_layer)\n",
        "print(model)  # Print the model architecture\n"
      ],
      "metadata": {
        "trusted": true,
        "execution": {
          "iopub.status.busy": "2025-04-18T18:09:24.457238Z",
          "iopub.execute_input": "2025-04-18T18:09:24.457649Z",
          "iopub.status.idle": "2025-04-18T18:09:25.495131Z",
          "shell.execute_reply.started": "2025-04-18T18:09:24.457626Z",
          "shell.execute_reply": "2025-04-18T18:09:25.494334Z"
        },
        "id": "omNhT064umI3",
        "outputId": "eb5e28bb-04b4-41d4-8dda-b6b9a4111f2c"
      },
      "outputs": [
        {
          "name": "stderr",
          "text": "/usr/local/lib/python3.11/dist-packages/torchvision/models/_utils.py:223: UserWarning: Arguments other than a weight enum or `None` for 'weights' are deprecated since 0.13 and may be removed in the future. The current behavior is equivalent to passing `weights=ResNet50_Weights.IMAGENET1K_V1`. You can also use `weights=ResNet50_Weights.DEFAULT` to get the most up-to-date weights.\n  warnings.warn(msg)\nDownloading: \"https://download.pytorch.org/models/resnet50-0676ba61.pth\" to /root/.cache/torch/hub/checkpoints/resnet50-0676ba61.pth\n100%|██████████| 97.8M/97.8M [00:00<00:00, 213MB/s]\n",
          "output_type": "stream"
        },
        {
          "name": "stdout",
          "text": "ResNet(\n  (conv1): Conv2d(3, 64, kernel_size=(7, 7), stride=(2, 2), padding=(3, 3), bias=False)\n  (bn1): BatchNorm2d(64, eps=1e-05, momentum=0.1, affine=True, track_running_stats=True)\n  (relu): ReLU(inplace=True)\n  (maxpool): MaxPool2d(kernel_size=3, stride=2, padding=1, dilation=1, ceil_mode=False)\n  (layer1): Sequential(\n    (0): Bottleneck(\n      (conv1): Conv2d(64, 64, kernel_size=(1, 1), stride=(1, 1), bias=False)\n      (bn1): BatchNorm2d(64, eps=1e-05, momentum=0.1, affine=True, track_running_stats=True)\n      (conv2): Conv2d(64, 64, kernel_size=(3, 3), stride=(1, 1), padding=(1, 1), bias=False)\n      (bn2): BatchNorm2d(64, eps=1e-05, momentum=0.1, affine=True, track_running_stats=True)\n      (conv3): Conv2d(64, 256, kernel_size=(1, 1), stride=(1, 1), bias=False)\n      (bn3): BatchNorm2d(256, eps=1e-05, momentum=0.1, affine=True, track_running_stats=True)\n      (relu): ReLU(inplace=True)\n      (downsample): Sequential(\n        (0): Conv2d(64, 256, kernel_size=(1, 1), stride=(1, 1), bias=False)\n        (1): BatchNorm2d(256, eps=1e-05, momentum=0.1, affine=True, track_running_stats=True)\n      )\n    )\n    (1): Bottleneck(\n      (conv1): Conv2d(256, 64, kernel_size=(1, 1), stride=(1, 1), bias=False)\n      (bn1): BatchNorm2d(64, eps=1e-05, momentum=0.1, affine=True, track_running_stats=True)\n      (conv2): Conv2d(64, 64, kernel_size=(3, 3), stride=(1, 1), padding=(1, 1), bias=False)\n      (bn2): BatchNorm2d(64, eps=1e-05, momentum=0.1, affine=True, track_running_stats=True)\n      (conv3): Conv2d(64, 256, kernel_size=(1, 1), stride=(1, 1), bias=False)\n      (bn3): BatchNorm2d(256, eps=1e-05, momentum=0.1, affine=True, track_running_stats=True)\n      (relu): ReLU(inplace=True)\n    )\n    (2): Bottleneck(\n      (conv1): Conv2d(256, 64, kernel_size=(1, 1), stride=(1, 1), bias=False)\n      (bn1): BatchNorm2d(64, eps=1e-05, momentum=0.1, affine=True, track_running_stats=True)\n      (conv2): Conv2d(64, 64, kernel_size=(3, 3), stride=(1, 1), padding=(1, 1), bias=False)\n      (bn2): BatchNorm2d(64, eps=1e-05, momentum=0.1, affine=True, track_running_stats=True)\n      (conv3): Conv2d(64, 256, kernel_size=(1, 1), stride=(1, 1), bias=False)\n      (bn3): BatchNorm2d(256, eps=1e-05, momentum=0.1, affine=True, track_running_stats=True)\n      (relu): ReLU(inplace=True)\n    )\n  )\n  (layer2): Sequential(\n    (0): Bottleneck(\n      (conv1): Conv2d(256, 128, kernel_size=(1, 1), stride=(1, 1), bias=False)\n      (bn1): BatchNorm2d(128, eps=1e-05, momentum=0.1, affine=True, track_running_stats=True)\n      (conv2): Conv2d(128, 128, kernel_size=(3, 3), stride=(2, 2), padding=(1, 1), bias=False)\n      (bn2): BatchNorm2d(128, eps=1e-05, momentum=0.1, affine=True, track_running_stats=True)\n      (conv3): Conv2d(128, 512, kernel_size=(1, 1), stride=(1, 1), bias=False)\n      (bn3): BatchNorm2d(512, eps=1e-05, momentum=0.1, affine=True, track_running_stats=True)\n      (relu): ReLU(inplace=True)\n      (downsample): Sequential(\n        (0): Conv2d(256, 512, kernel_size=(1, 1), stride=(2, 2), bias=False)\n        (1): BatchNorm2d(512, eps=1e-05, momentum=0.1, affine=True, track_running_stats=True)\n      )\n    )\n    (1): Bottleneck(\n      (conv1): Conv2d(512, 128, kernel_size=(1, 1), stride=(1, 1), bias=False)\n      (bn1): BatchNorm2d(128, eps=1e-05, momentum=0.1, affine=True, track_running_stats=True)\n      (conv2): Conv2d(128, 128, kernel_size=(3, 3), stride=(1, 1), padding=(1, 1), bias=False)\n      (bn2): BatchNorm2d(128, eps=1e-05, momentum=0.1, affine=True, track_running_stats=True)\n      (conv3): Conv2d(128, 512, kernel_size=(1, 1), stride=(1, 1), bias=False)\n      (bn3): BatchNorm2d(512, eps=1e-05, momentum=0.1, affine=True, track_running_stats=True)\n      (relu): ReLU(inplace=True)\n    )\n    (2): Bottleneck(\n      (conv1): Conv2d(512, 128, kernel_size=(1, 1), stride=(1, 1), bias=False)\n      (bn1): BatchNorm2d(128, eps=1e-05, momentum=0.1, affine=True, track_running_stats=True)\n      (conv2): Conv2d(128, 128, kernel_size=(3, 3), stride=(1, 1), padding=(1, 1), bias=False)\n      (bn2): BatchNorm2d(128, eps=1e-05, momentum=0.1, affine=True, track_running_stats=True)\n      (conv3): Conv2d(128, 512, kernel_size=(1, 1), stride=(1, 1), bias=False)\n      (bn3): BatchNorm2d(512, eps=1e-05, momentum=0.1, affine=True, track_running_stats=True)\n      (relu): ReLU(inplace=True)\n    )\n    (3): Bottleneck(\n      (conv1): Conv2d(512, 128, kernel_size=(1, 1), stride=(1, 1), bias=False)\n      (bn1): BatchNorm2d(128, eps=1e-05, momentum=0.1, affine=True, track_running_stats=True)\n      (conv2): Conv2d(128, 128, kernel_size=(3, 3), stride=(1, 1), padding=(1, 1), bias=False)\n      (bn2): BatchNorm2d(128, eps=1e-05, momentum=0.1, affine=True, track_running_stats=True)\n      (conv3): Conv2d(128, 512, kernel_size=(1, 1), stride=(1, 1), bias=False)\n      (bn3): BatchNorm2d(512, eps=1e-05, momentum=0.1, affine=True, track_running_stats=True)\n      (relu): ReLU(inplace=True)\n    )\n  )\n  (layer3): Sequential(\n    (0): Bottleneck(\n      (conv1): Conv2d(512, 256, kernel_size=(1, 1), stride=(1, 1), bias=False)\n      (bn1): BatchNorm2d(256, eps=1e-05, momentum=0.1, affine=True, track_running_stats=True)\n      (conv2): Conv2d(256, 256, kernel_size=(3, 3), stride=(2, 2), padding=(1, 1), bias=False)\n      (bn2): BatchNorm2d(256, eps=1e-05, momentum=0.1, affine=True, track_running_stats=True)\n      (conv3): Conv2d(256, 1024, kernel_size=(1, 1), stride=(1, 1), bias=False)\n      (bn3): BatchNorm2d(1024, eps=1e-05, momentum=0.1, affine=True, track_running_stats=True)\n      (relu): ReLU(inplace=True)\n      (downsample): Sequential(\n        (0): Conv2d(512, 1024, kernel_size=(1, 1), stride=(2, 2), bias=False)\n        (1): BatchNorm2d(1024, eps=1e-05, momentum=0.1, affine=True, track_running_stats=True)\n      )\n    )\n    (1): Bottleneck(\n      (conv1): Conv2d(1024, 256, kernel_size=(1, 1), stride=(1, 1), bias=False)\n      (bn1): BatchNorm2d(256, eps=1e-05, momentum=0.1, affine=True, track_running_stats=True)\n      (conv2): Conv2d(256, 256, kernel_size=(3, 3), stride=(1, 1), padding=(1, 1), bias=False)\n      (bn2): BatchNorm2d(256, eps=1e-05, momentum=0.1, affine=True, track_running_stats=True)\n      (conv3): Conv2d(256, 1024, kernel_size=(1, 1), stride=(1, 1), bias=False)\n      (bn3): BatchNorm2d(1024, eps=1e-05, momentum=0.1, affine=True, track_running_stats=True)\n      (relu): ReLU(inplace=True)\n    )\n    (2): Bottleneck(\n      (conv1): Conv2d(1024, 256, kernel_size=(1, 1), stride=(1, 1), bias=False)\n      (bn1): BatchNorm2d(256, eps=1e-05, momentum=0.1, affine=True, track_running_stats=True)\n      (conv2): Conv2d(256, 256, kernel_size=(3, 3), stride=(1, 1), padding=(1, 1), bias=False)\n      (bn2): BatchNorm2d(256, eps=1e-05, momentum=0.1, affine=True, track_running_stats=True)\n      (conv3): Conv2d(256, 1024, kernel_size=(1, 1), stride=(1, 1), bias=False)\n      (bn3): BatchNorm2d(1024, eps=1e-05, momentum=0.1, affine=True, track_running_stats=True)\n      (relu): ReLU(inplace=True)\n    )\n    (3): Bottleneck(\n      (conv1): Conv2d(1024, 256, kernel_size=(1, 1), stride=(1, 1), bias=False)\n      (bn1): BatchNorm2d(256, eps=1e-05, momentum=0.1, affine=True, track_running_stats=True)\n      (conv2): Conv2d(256, 256, kernel_size=(3, 3), stride=(1, 1), padding=(1, 1), bias=False)\n      (bn2): BatchNorm2d(256, eps=1e-05, momentum=0.1, affine=True, track_running_stats=True)\n      (conv3): Conv2d(256, 1024, kernel_size=(1, 1), stride=(1, 1), bias=False)\n      (bn3): BatchNorm2d(1024, eps=1e-05, momentum=0.1, affine=True, track_running_stats=True)\n      (relu): ReLU(inplace=True)\n    )\n    (4): Bottleneck(\n      (conv1): Conv2d(1024, 256, kernel_size=(1, 1), stride=(1, 1), bias=False)\n      (bn1): BatchNorm2d(256, eps=1e-05, momentum=0.1, affine=True, track_running_stats=True)\n      (conv2): Conv2d(256, 256, kernel_size=(3, 3), stride=(1, 1), padding=(1, 1), bias=False)\n      (bn2): BatchNorm2d(256, eps=1e-05, momentum=0.1, affine=True, track_running_stats=True)\n      (conv3): Conv2d(256, 1024, kernel_size=(1, 1), stride=(1, 1), bias=False)\n      (bn3): BatchNorm2d(1024, eps=1e-05, momentum=0.1, affine=True, track_running_stats=True)\n      (relu): ReLU(inplace=True)\n    )\n    (5): Bottleneck(\n      (conv1): Conv2d(1024, 256, kernel_size=(1, 1), stride=(1, 1), bias=False)\n      (bn1): BatchNorm2d(256, eps=1e-05, momentum=0.1, affine=True, track_running_stats=True)\n      (conv2): Conv2d(256, 256, kernel_size=(3, 3), stride=(1, 1), padding=(1, 1), bias=False)\n      (bn2): BatchNorm2d(256, eps=1e-05, momentum=0.1, affine=True, track_running_stats=True)\n      (conv3): Conv2d(256, 1024, kernel_size=(1, 1), stride=(1, 1), bias=False)\n      (bn3): BatchNorm2d(1024, eps=1e-05, momentum=0.1, affine=True, track_running_stats=True)\n      (relu): ReLU(inplace=True)\n    )\n  )\n  (layer4): Sequential(\n    (0): Bottleneck(\n      (conv1): Conv2d(1024, 512, kernel_size=(1, 1), stride=(1, 1), bias=False)\n      (bn1): BatchNorm2d(512, eps=1e-05, momentum=0.1, affine=True, track_running_stats=True)\n      (conv2): Conv2d(512, 512, kernel_size=(3, 3), stride=(2, 2), padding=(1, 1), bias=False)\n      (bn2): BatchNorm2d(512, eps=1e-05, momentum=0.1, affine=True, track_running_stats=True)\n      (conv3): Conv2d(512, 2048, kernel_size=(1, 1), stride=(1, 1), bias=False)\n      (bn3): BatchNorm2d(2048, eps=1e-05, momentum=0.1, affine=True, track_running_stats=True)\n      (relu): ReLU(inplace=True)\n      (downsample): Sequential(\n        (0): Conv2d(1024, 2048, kernel_size=(1, 1), stride=(2, 2), bias=False)\n        (1): BatchNorm2d(2048, eps=1e-05, momentum=0.1, affine=True, track_running_stats=True)\n      )\n    )\n    (1): Bottleneck(\n      (conv1): Conv2d(2048, 512, kernel_size=(1, 1), stride=(1, 1), bias=False)\n      (bn1): BatchNorm2d(512, eps=1e-05, momentum=0.1, affine=True, track_running_stats=True)\n      (conv2): Conv2d(512, 512, kernel_size=(3, 3), stride=(1, 1), padding=(1, 1), bias=False)\n      (bn2): BatchNorm2d(512, eps=1e-05, momentum=0.1, affine=True, track_running_stats=True)\n      (conv3): Conv2d(512, 2048, kernel_size=(1, 1), stride=(1, 1), bias=False)\n      (bn3): BatchNorm2d(2048, eps=1e-05, momentum=0.1, affine=True, track_running_stats=True)\n      (relu): ReLU(inplace=True)\n    )\n    (2): Bottleneck(\n      (conv1): Conv2d(2048, 512, kernel_size=(1, 1), stride=(1, 1), bias=False)\n      (bn1): BatchNorm2d(512, eps=1e-05, momentum=0.1, affine=True, track_running_stats=True)\n      (conv2): Conv2d(512, 512, kernel_size=(3, 3), stride=(1, 1), padding=(1, 1), bias=False)\n      (bn2): BatchNorm2d(512, eps=1e-05, momentum=0.1, affine=True, track_running_stats=True)\n      (conv3): Conv2d(512, 2048, kernel_size=(1, 1), stride=(1, 1), bias=False)\n      (bn3): BatchNorm2d(2048, eps=1e-05, momentum=0.1, affine=True, track_running_stats=True)\n      (relu): ReLU(inplace=True)\n    )\n  )\n  (avgpool): AdaptiveAvgPool2d(output_size=(1, 1))\n  (fc): Linear(in_features=2048, out_features=10, bias=True)\n)\n",
          "output_type": "stream"
        }
      ],
      "execution_count": null
    },
    {
      "cell_type": "code",
      "source": [
        "from torchvision import transforms\n",
        "from torchvision.datasets import ImageFolder\n",
        "from torch.utils.data import DataLoader, SubsetRandomSampler\n",
        "from sklearn.model_selection import train_test_split\n",
        "\n",
        "def load_dataset(data_directory, apply_augmentation):\n",
        "    \"\"\"\n",
        "    Load and preprocess image dataset with optional data augmentation.\n",
        "\n",
        "    Args:\n",
        "        data_directory (str): Path to the dataset directory.\n",
        "        apply_augmentation (str): 'Yes' to apply data augmentation, 'No' otherwise.\n",
        "\n",
        "    Returns:\n",
        "        train_loader (DataLoader): DataLoader for the training set.\n",
        "        val_loader (DataLoader): DataLoader for the validation set.\n",
        "    \"\"\"\n",
        "\n",
        "    # Define image transformation pipeline\n",
        "    if apply_augmentation == 'Yes':\n",
        "        transform_pipeline = transforms.Compose([\n",
        "            transforms.RandomResizedCrop(224),                       # Randomly crop and resize to 224x224\n",
        "            transforms.RandomHorizontalFlip(),                       # Random horizontal flip\n",
        "            transforms.ColorJitter(brightness=0.2,\n",
        "                                   contrast=0.2,\n",
        "                                   saturation=0.2,\n",
        "                                   hue=0.1),                         # Random brightness, contrast, etc.\n",
        "            transforms.RandomRotation(20),                           # Random rotation up to 20 degrees\n",
        "            transforms.ToTensor(),                                   # Convert image to tensor\n",
        "            transforms.Normalize((0.5, 0.5, 0.5),\n",
        "                                 (0.5, 0.5, 0.5))                    # Normalize to [-1, 1] range\n",
        "        ])\n",
        "    else:\n",
        "        transform_pipeline = transforms.Compose([\n",
        "            transforms.Resize((224, 224)),                           # Resize to 224x224\n",
        "            transforms.ToTensor(),\n",
        "            transforms.Normalize((0.5, 0.5, 0.5),\n",
        "                                 (0.5, 0.5, 0.5))\n",
        "        ])\n",
        "\n",
        "    # Load dataset from directory\n",
        "    dataset = ImageFolder(root=data_directory, transform=transform_pipeline)\n",
        "\n",
        "    # Split indices for training and validation sets\n",
        "    train_indices, val_indices = train_test_split(\n",
        "        list(range(len(dataset))), test_size=0.2, random_state=42\n",
        "    )\n",
        "\n",
        "    # Create samplers for training and validation\n",
        "    train_sampler = SubsetRandomSampler(train_indices)\n",
        "    val_sampler = SubsetRandomSampler(val_indices)\n",
        "\n",
        "    # DataLoaders with batch size of 32\n",
        "    train_loader = DataLoader(dataset, batch_size=32, sampler=train_sampler)\n",
        "    val_loader = DataLoader(dataset, batch_size=32, sampler=val_sampler)\n",
        "\n",
        "    return train_loader, val_loader\n"
      ],
      "metadata": {
        "trusted": true,
        "execution": {
          "iopub.status.busy": "2025-04-18T18:09:32.673502Z",
          "iopub.execute_input": "2025-04-18T18:09:32.674305Z",
          "iopub.status.idle": "2025-04-18T18:09:32.683832Z",
          "shell.execute_reply.started": "2025-04-18T18:09:32.674274Z",
          "shell.execute_reply": "2025-04-18T18:09:32.683031Z"
        },
        "id": "MdusrTa1umI3"
      },
      "outputs": [],
      "execution_count": null
    },
    {
      "cell_type": "code",
      "source": [
        "import torch\n",
        "import torch.nn as nn\n",
        "import torch.optim as optim\n",
        "\n",
        "def train_model_on_data(model, train_loader):\n",
        "    \"\"\"\n",
        "    Train the given model on training data for one epoch.\n",
        "\n",
        "    Args:\n",
        "        model (nn.Module): The neural network to train.\n",
        "        train_loader (DataLoader): DataLoader for the training set.\n",
        "\n",
        "    Returns:\n",
        "        avg_loss (float): Average training loss over the epoch.\n",
        "        train_accuracy (float): Training accuracy as a percentage.\n",
        "    \"\"\"\n",
        "\n",
        "    # Define loss function and optimizer\n",
        "    loss_function = nn.CrossEntropyLoss()\n",
        "    optimizer = optim.Adam(model.parameters(), lr=0.001)\n",
        "\n",
        "    # Set model to training mode\n",
        "    model.train()\n",
        "\n",
        "    # Initialize counters for tracking performance\n",
        "    cumulative_loss = 0.0\n",
        "    total_correct = 0\n",
        "    total_samples = 0\n",
        "\n",
        "    # Training loop over batches\n",
        "    for batch_images, batch_labels in train_loader:\n",
        "        # Move data to device (GPU if available)\n",
        "        batch_images, batch_labels = batch_images.to(device), batch_labels.to(device)\n",
        "\n",
        "        # Forward pass\n",
        "        predictions = model(batch_images)\n",
        "        loss = loss_function(predictions, batch_labels)\n",
        "\n",
        "        # Backward pass and optimization\n",
        "        optimizer.zero_grad()\n",
        "        loss.backward()\n",
        "        optimizer.step()\n",
        "\n",
        "        # Accumulate loss\n",
        "        cumulative_loss += loss.item()\n",
        "\n",
        "        # Compute number of correct predictions\n",
        "        _, predicted_classes = torch.max(predictions, 1)\n",
        "        total_correct += (predicted_classes == batch_labels).sum().item()\n",
        "        total_samples += batch_labels.size(0)\n",
        "\n",
        "    # Compute average loss and accuracy\n",
        "    avg_loss = cumulative_loss / len(train_loader)\n",
        "    train_accuracy = 100 * total_correct / total_samples\n",
        "\n",
        "    return avg_loss, train_accuracy\n"
      ],
      "metadata": {
        "trusted": true,
        "execution": {
          "iopub.status.busy": "2025-04-18T18:09:37.369258Z",
          "iopub.execute_input": "2025-04-18T18:09:37.369911Z",
          "iopub.status.idle": "2025-04-18T18:09:37.375624Z",
          "shell.execute_reply.started": "2025-04-18T18:09:37.369889Z",
          "shell.execute_reply": "2025-04-18T18:09:37.37486Z"
        },
        "id": "RXMoE7wtumI3"
      },
      "outputs": [],
      "execution_count": null
    },
    {
      "cell_type": "code",
      "source": [
        "import torch\n",
        "import torch.nn as nn\n",
        "\n",
        "def evaluate_model_on_validation(model, validation_loader):\n",
        "    \"\"\"\n",
        "    Evaluate the model on the validation set.\n",
        "\n",
        "    Args:\n",
        "        model (nn.Module): The trained model.\n",
        "        validation_loader (DataLoader): DataLoader for the validation set.\n",
        "\n",
        "    Returns:\n",
        "        avg_val_loss (float): Average loss on the validation set.\n",
        "        validation_accuracy (float): Accuracy on the validation set as a percentage.\n",
        "    \"\"\"\n",
        "\n",
        "    # Set model to evaluation mode (disables dropout, batchnorm updates, etc.)\n",
        "    model.eval()\n",
        "\n",
        "    # Define loss function\n",
        "    loss_function = nn.CrossEntropyLoss()\n",
        "\n",
        "    # Initialize counters for loss and accuracy\n",
        "    cumulative_val_loss = 0.0\n",
        "    correct_predictions = 0\n",
        "    total_samples = 0\n",
        "\n",
        "    # Disable gradient computation during evaluation\n",
        "    with torch.no_grad():\n",
        "        for batch_images, batch_labels in validation_loader:\n",
        "            # Move data to GPU if available\n",
        "            batch_images, batch_labels = batch_images.to(device), batch_labels.to(device)\n",
        "\n",
        "            # Forward pass\n",
        "            outputs = model(batch_images)\n",
        "            loss = loss_function(outputs, batch_labels)\n",
        "            cumulative_val_loss += loss.item()\n",
        "\n",
        "            # Calculate accuracy\n",
        "            _, predicted_classes = torch.max(outputs, 1)\n",
        "            correct_predictions += (predicted_classes == batch_labels).sum().item()\n",
        "            total_samples += batch_labels.size(0)\n",
        "\n",
        "    # Compute average loss and accuracy\n",
        "    avg_val_loss = cumulative_val_loss / len(validation_loader)\n",
        "    validation_accuracy = 100 * correct_predictions / total_samples\n",
        "\n",
        "    return avg_val_loss, validation_accuracy\n"
      ],
      "metadata": {
        "trusted": true,
        "execution": {
          "iopub.status.busy": "2025-04-18T18:09:43.668338Z",
          "iopub.execute_input": "2025-04-18T18:09:43.668813Z",
          "iopub.status.idle": "2025-04-18T18:09:43.674436Z",
          "shell.execute_reply.started": "2025-04-18T18:09:43.668791Z",
          "shell.execute_reply": "2025-04-18T18:09:43.673666Z"
        },
        "id": "W89eeb9qumI4"
      },
      "outputs": [],
      "execution_count": null
    },
    {
      "cell_type": "code",
      "source": [
        "# Function to train and validate the model\n",
        "def train_and_validate_model(model, train_loader, val_loader, num_epochs):\n",
        "    \"\"\"\n",
        "    Trains the given model and evaluates on the validation set for each epoch.\n",
        "\n",
        "    Args:\n",
        "        model (nn.Module): The neural network to train.\n",
        "        train_loader (DataLoader): DataLoader for training data.\n",
        "        val_loader (DataLoader): DataLoader for validation data.\n",
        "        num_epochs (int): Number of training epochs.\n",
        "    \"\"\"\n",
        "\n",
        "    # Define the loss function and optimizer\n",
        "    loss_function = nn.CrossEntropyLoss()\n",
        "    optimizer = optim.Adam(model.parameters(), lr=0.001)\n",
        "\n",
        "    for epoch in range(num_epochs):\n",
        "        # Training phase\n",
        "        avg_train_loss, train_accuracy = train_model_on_data(model, train_loader)\n",
        "        print(f'Epoch {epoch+1}/{num_epochs}, Train Loss: {avg_train_loss:.4f}, Train Accuracy: {train_accuracy:.2f}%')\n",
        "\n",
        "        # Log training metrics to wandb\n",
        "        wandb.log({'Train Loss': avg_train_loss})\n",
        "        wandb.log({'Train Accuracy': train_accuracy})\n",
        "\n",
        "        # Validation phase\n",
        "        avg_val_loss, val_accuracy = evaluate_model_on_validation(model, val_loader)\n",
        "        print(f'Epoch {epoch+1}/{num_epochs}, Validation Loss: {avg_val_loss:.4f}, Validation Accuracy: {val_accuracy:.2f}%')\n",
        "\n",
        "        # Log validation metrics to wandb\n",
        "        wandb.log({'Validation Loss': avg_val_loss})\n",
        "        wandb.log({'Validation Accuracy': val_accuracy})\n",
        "        wandb.log({'Epoch': epoch + 1})\n",
        "\n",
        "    print('Training complete!')\n"
      ],
      "metadata": {
        "trusted": true,
        "execution": {
          "iopub.status.busy": "2025-04-18T18:09:45.893528Z",
          "iopub.execute_input": "2025-04-18T18:09:45.894093Z",
          "iopub.status.idle": "2025-04-18T18:09:45.899376Z",
          "shell.execute_reply.started": "2025-04-18T18:09:45.894066Z",
          "shell.execute_reply": "2025-04-18T18:09:45.898511Z"
        },
        "id": "GReR_DzkumI4"
      },
      "outputs": [],
      "execution_count": null
    },
    {
      "cell_type": "code",
      "source": [
        "# Sweep configuration dictionary\n",
        "sweep_config = {\n",
        "    'method': 'bayes',  # 'bayes' will use Bayesian optimization to find optimal hyperparameters, other options are 'grid' or 'random'\n",
        "\n",
        "    'metric': {\n",
        "        'name': 'Validation Accuracy',  # Metric to optimize during the sweep\n",
        "        'goal': 'maximize'  # Goal is to maximize the validation accuracy\n",
        "    },\n",
        "\n",
        "    'parameters': {\n",
        "\n",
        "        'freeze_percent': {\n",
        "            'values': [0.0, 0.25, 0.5, 0.75]  # Different percentages of layers to freeze during fine-tuning\n",
        "        },\n",
        "\n",
        "        'model_name': {\n",
        "            'values': ['resnet', 'googlenet']  # Pre-trained model options for fine-tuning\n",
        "        },\n",
        "\n",
        "        'freeze_all_except_last_layer': {\n",
        "            'values': ['Yes', 'No']  # Option to freeze all layers except the last one or not\n",
        "        },\n",
        "\n",
        "        'epochs': {\n",
        "            'value': 5  # Number of epochs for each training run\n",
        "        }\n",
        "    }\n",
        "}\n",
        "\n",
        "# Initialize the W&B sweep using the config\n",
        "sweep_id = wandb.sweep(sweep_config, project=\"DA6401_A-2_Part-B\")  # Initialize sweep in the project \"DA6401_A-2_Part-B\"\n"
      ],
      "metadata": {
        "trusted": true,
        "execution": {
          "iopub.status.busy": "2025-04-17T13:41:13.239134Z",
          "iopub.execute_input": "2025-04-17T13:41:13.239404Z",
          "iopub.status.idle": "2025-04-17T13:41:13.526507Z",
          "shell.execute_reply.started": "2025-04-17T13:41:13.239387Z",
          "shell.execute_reply": "2025-04-17T13:41:13.525774Z"
        },
        "id": "R_RNBrEuumI4",
        "outputId": "63c7a8cf-634a-43dc-e573-3b2320a9678e"
      },
      "outputs": [
        {
          "name": "stdout",
          "text": "Create sweep with ID: jilrfsdr\nSweep URL: https://wandb.ai/ma23m013-iit-madras/DA6401_A-2_Part-B/sweeps/jilrfsdr\n",
          "output_type": "stream"
        }
      ],
      "execution_count": null
    },
    {
      "cell_type": "code",
      "source": [
        "def main():\n",
        "    '''\n",
        "    WandB calls the main function each time with a different combination of hyperparameters.\n",
        "    We can retrieve the configuration values from `wandb.config` and use them in our model training.\n",
        "\n",
        "    This function initializes the W&B run, loads the pre-trained model with specified hyperparameters,\n",
        "    prepares the dataset, and starts the training process.\n",
        "    '''\n",
        "\n",
        "    # Initialize W&B run\n",
        "    with wandb.init() as run:\n",
        "        # Define the run name based on hyperparameters for better tracking\n",
        "        run_name = \"ep\" + str(wandb.config.epochs) + \"_fp-\" + str(wandb.config.freeze_percent) + \"_model-\" + str(wandb.config.model_name)\n",
        "        wandb.run.name = run_name  # Set the name for this run in W&B\n",
        "\n",
        "        # Load the pre-trained model based on configuration\n",
        "        model = pretrain_model(\n",
        "            model_name=wandb.config.model_name,\n",
        "            freeze_percent=wandb.config.freeze_percent,\n",
        "            freeze_all_except_last_layer=wandb.config.freeze_all_except_last_layer\n",
        "        )\n",
        "\n",
        "        # Move the model to the appropriate device (CPU or GPU)\n",
        "        model = model.to(device)\n",
        "\n",
        "        # Define the directory where the training data is located\n",
        "        data_dir = '/kaggle/input/inaturalist-dataset/inaturalist_12K/train'\n",
        "\n",
        "        # Load the training and validation data with or without data augmentation\n",
        "        train_data, val_data = load_dataset(data_dir, apply_augmentation='No')\n",
        "\n",
        "        # Train the model with the loaded data and configurations\n",
        "        train_and_validate_model(model, train_data, val_data, num_epochs=wandb.config.epochs)\n",
        "\n",
        "\n",
        "# Start the W&B sweep, calling the main function for the specified number of times\n",
        "wandb.agent(sweep_id, function=main, count=10)  # Number of runs = 1 in this case, but can be increased\n",
        "wandb.finish()  # Finish the W&B run after the sweep is complete\n"
      ],
      "metadata": {
        "trusted": true,
        "execution": {
          "iopub.status.busy": "2025-04-17T13:41:15.418019Z",
          "iopub.execute_input": "2025-04-17T13:41:15.418517Z",
          "iopub.status.idle": "2025-04-17T15:24:59.433436Z",
          "shell.execute_reply.started": "2025-04-17T13:41:15.418498Z",
          "shell.execute_reply": "2025-04-17T15:24:59.432913Z"
        },
        "id": "ZAvFMHglumI4",
        "outputId": "40e4da48-954e-4743-d96a-7def6199ec78"
      },
      "outputs": [
        {
          "name": "stderr",
          "text": "\u001b[34m\u001b[1mwandb\u001b[0m: Agent Starting Run: m92ku3du with config:\n\u001b[34m\u001b[1mwandb\u001b[0m: \tepochs: 5\n\u001b[34m\u001b[1mwandb\u001b[0m: \tfreeze_all_except_last_layer: Yes\n\u001b[34m\u001b[1mwandb\u001b[0m: \tfreeze_percent: 0\n\u001b[34m\u001b[1mwandb\u001b[0m: \tmodel_name: resnet\n\u001b[34m\u001b[1mwandb\u001b[0m: Using wandb-core as the SDK backend.  Please refer to https://wandb.me/wandb-core for more information.\n",
          "output_type": "stream"
        },
        {
          "output_type": "display_data",
          "data": {
            "text/plain": "<IPython.core.display.HTML object>",
            "text/html": "Tracking run with wandb version 0.19.6"
          },
          "metadata": {}
        },
        {
          "output_type": "display_data",
          "data": {
            "text/plain": "<IPython.core.display.HTML object>",
            "text/html": "Run data is saved locally in <code>/kaggle/working/wandb/run-20250417_134121-m92ku3du</code>"
          },
          "metadata": {}
        },
        {
          "output_type": "display_data",
          "data": {
            "text/plain": "<IPython.core.display.HTML object>",
            "text/html": "Syncing run <strong><a href='https://wandb.ai/ma23m013-iit-madras/DA6401_A-2_Part-B/runs/m92ku3du' target=\"_blank\">genial-sweep-1</a></strong> to <a href='https://wandb.ai/ma23m013-iit-madras/DA6401_A-2_Part-B' target=\"_blank\">Weights & Biases</a> (<a href='https://wandb.me/developer-guide' target=\"_blank\">docs</a>)<br>Sweep page: <a href='https://wandb.ai/ma23m013-iit-madras/DA6401_A-2_Part-B/sweeps/jilrfsdr' target=\"_blank\">https://wandb.ai/ma23m013-iit-madras/DA6401_A-2_Part-B/sweeps/jilrfsdr</a>"
          },
          "metadata": {}
        },
        {
          "output_type": "display_data",
          "data": {
            "text/plain": "<IPython.core.display.HTML object>",
            "text/html": " View project at <a href='https://wandb.ai/ma23m013-iit-madras/DA6401_A-2_Part-B' target=\"_blank\">https://wandb.ai/ma23m013-iit-madras/DA6401_A-2_Part-B</a>"
          },
          "metadata": {}
        },
        {
          "output_type": "display_data",
          "data": {
            "text/plain": "<IPython.core.display.HTML object>",
            "text/html": " View sweep at <a href='https://wandb.ai/ma23m013-iit-madras/DA6401_A-2_Part-B/sweeps/jilrfsdr' target=\"_blank\">https://wandb.ai/ma23m013-iit-madras/DA6401_A-2_Part-B/sweeps/jilrfsdr</a>"
          },
          "metadata": {}
        },
        {
          "output_type": "display_data",
          "data": {
            "text/plain": "<IPython.core.display.HTML object>",
            "text/html": " View run at <a href='https://wandb.ai/ma23m013-iit-madras/DA6401_A-2_Part-B/runs/m92ku3du' target=\"_blank\">https://wandb.ai/ma23m013-iit-madras/DA6401_A-2_Part-B/runs/m92ku3du</a>"
          },
          "metadata": {}
        },
        {
          "name": "stdout",
          "text": "Epoch 1/5, Train Loss: 1.1326, Train Accuracy: 63.26%\nEpoch 1/5, Validation Loss: 0.8604, Validation Accuracy: 72.95%\nEpoch 2/5, Train Loss: 0.8336, Train Accuracy: 72.92%\nEpoch 2/5, Validation Loss: 0.7892, Validation Accuracy: 73.95%\nEpoch 3/5, Train Loss: 0.7901, Train Accuracy: 73.91%\nEpoch 3/5, Validation Loss: 0.8360, Validation Accuracy: 73.00%\nEpoch 4/5, Train Loss: 0.7579, Train Accuracy: 74.80%\nEpoch 4/5, Validation Loss: 0.7916, Validation Accuracy: 74.10%\nEpoch 5/5, Train Loss: 0.7246, Train Accuracy: 75.81%\nEpoch 5/5, Validation Loss: 0.8096, Validation Accuracy: 73.75%\nTraining complete!\n",
          "output_type": "stream"
        },
        {
          "output_type": "display_data",
          "data": {
            "text/plain": "<IPython.core.display.HTML object>",
            "text/html": ""
          },
          "metadata": {}
        },
        {
          "output_type": "display_data",
          "data": {
            "text/plain": "<IPython.core.display.HTML object>",
            "text/html": "<br>    <style><br>        .wandb-row {<br>            display: flex;<br>            flex-direction: row;<br>            flex-wrap: wrap;<br>            justify-content: flex-start;<br>            width: 100%;<br>        }<br>        .wandb-col {<br>            display: flex;<br>            flex-direction: column;<br>            flex-basis: 100%;<br>            flex: 1;<br>            padding: 10px;<br>        }<br>    </style><br><div class=\"wandb-row\"><div class=\"wandb-col\"><h3>Run history:</h3><br/><table class=\"wandb\"><tr><td>Epoch</td><td>▁▃▅▆█</td></tr><tr><td>Train Accuracy</td><td>▁▆▇▇█</td></tr><tr><td>Train Loss</td><td>█▃▂▂▁</td></tr><tr><td>Validation Accuracy</td><td>▁▇▁█▆</td></tr><tr><td>Validation Loss</td><td>█▁▆▁▃</td></tr></table><br/></div><div class=\"wandb-col\"><h3>Run summary:</h3><br/><table class=\"wandb\"><tr><td>Epoch</td><td>5</td></tr><tr><td>Train Accuracy</td><td>75.80948</td></tr><tr><td>Train Loss</td><td>0.72465</td></tr><tr><td>Validation Accuracy</td><td>73.75</td></tr><tr><td>Validation Loss</td><td>0.80959</td></tr></table><br/></div></div>"
          },
          "metadata": {}
        },
        {
          "output_type": "display_data",
          "data": {
            "text/plain": "<IPython.core.display.HTML object>",
            "text/html": " View run <strong style=\"color:#cdcd00\">ep5_fp-0_model-resnet</strong> at: <a href='https://wandb.ai/ma23m013-iit-madras/DA6401_A-2_Part-B/runs/m92ku3du' target=\"_blank\">https://wandb.ai/ma23m013-iit-madras/DA6401_A-2_Part-B/runs/m92ku3du</a><br> View project at: <a href='https://wandb.ai/ma23m013-iit-madras/DA6401_A-2_Part-B' target=\"_blank\">https://wandb.ai/ma23m013-iit-madras/DA6401_A-2_Part-B</a><br>Synced 5 W&B file(s), 0 media file(s), 0 artifact file(s) and 0 other file(s)"
          },
          "metadata": {}
        },
        {
          "output_type": "display_data",
          "data": {
            "text/plain": "<IPython.core.display.HTML object>",
            "text/html": "Find logs at: <code>./wandb/run-20250417_134121-m92ku3du/logs</code>"
          },
          "metadata": {}
        },
        {
          "name": "stderr",
          "text": "\u001b[34m\u001b[1mwandb\u001b[0m: Agent Starting Run: 5lrmqu76 with config:\n\u001b[34m\u001b[1mwandb\u001b[0m: \tepochs: 5\n\u001b[34m\u001b[1mwandb\u001b[0m: \tfreeze_all_except_last_layer: Yes\n\u001b[34m\u001b[1mwandb\u001b[0m: \tfreeze_percent: 0\n\u001b[34m\u001b[1mwandb\u001b[0m: \tmodel_name: googlenet\n",
          "output_type": "stream"
        },
        {
          "output_type": "display_data",
          "data": {
            "text/plain": "<IPython.core.display.HTML object>",
            "text/html": "Tracking run with wandb version 0.19.6"
          },
          "metadata": {}
        },
        {
          "output_type": "display_data",
          "data": {
            "text/plain": "<IPython.core.display.HTML object>",
            "text/html": "Run data is saved locally in <code>/kaggle/working/wandb/run-20250417_135221-5lrmqu76</code>"
          },
          "metadata": {}
        },
        {
          "output_type": "display_data",
          "data": {
            "text/plain": "<IPython.core.display.HTML object>",
            "text/html": "Syncing run <strong><a href='https://wandb.ai/ma23m013-iit-madras/DA6401_A-2_Part-B/runs/5lrmqu76' target=\"_blank\">snowy-sweep-2</a></strong> to <a href='https://wandb.ai/ma23m013-iit-madras/DA6401_A-2_Part-B' target=\"_blank\">Weights & Biases</a> (<a href='https://wandb.me/developer-guide' target=\"_blank\">docs</a>)<br>Sweep page: <a href='https://wandb.ai/ma23m013-iit-madras/DA6401_A-2_Part-B/sweeps/jilrfsdr' target=\"_blank\">https://wandb.ai/ma23m013-iit-madras/DA6401_A-2_Part-B/sweeps/jilrfsdr</a>"
          },
          "metadata": {}
        },
        {
          "output_type": "display_data",
          "data": {
            "text/plain": "<IPython.core.display.HTML object>",
            "text/html": " View project at <a href='https://wandb.ai/ma23m013-iit-madras/DA6401_A-2_Part-B' target=\"_blank\">https://wandb.ai/ma23m013-iit-madras/DA6401_A-2_Part-B</a>"
          },
          "metadata": {}
        },
        {
          "output_type": "display_data",
          "data": {
            "text/plain": "<IPython.core.display.HTML object>",
            "text/html": " View sweep at <a href='https://wandb.ai/ma23m013-iit-madras/DA6401_A-2_Part-B/sweeps/jilrfsdr' target=\"_blank\">https://wandb.ai/ma23m013-iit-madras/DA6401_A-2_Part-B/sweeps/jilrfsdr</a>"
          },
          "metadata": {}
        },
        {
          "output_type": "display_data",
          "data": {
            "text/plain": "<IPython.core.display.HTML object>",
            "text/html": " View run at <a href='https://wandb.ai/ma23m013-iit-madras/DA6401_A-2_Part-B/runs/5lrmqu76' target=\"_blank\">https://wandb.ai/ma23m013-iit-madras/DA6401_A-2_Part-B/runs/5lrmqu76</a>"
          },
          "metadata": {}
        },
        {
          "name": "stdout",
          "text": "Epoch 1/5, Train Loss: 1.4553, Train Accuracy: 55.03%\nEpoch 1/5, Validation Loss: 1.1061, Validation Accuracy: 65.15%\nEpoch 2/5, Train Loss: 1.0713, Train Accuracy: 65.36%\nEpoch 2/5, Validation Loss: 0.9998, Validation Accuracy: 67.55%\nEpoch 3/5, Train Loss: 0.9985, Train Accuracy: 67.36%\nEpoch 3/5, Validation Loss: 0.9973, Validation Accuracy: 68.25%\nEpoch 4/5, Train Loss: 0.9669, Train Accuracy: 68.15%\nEpoch 4/5, Validation Loss: 0.9684, Validation Accuracy: 67.55%\nEpoch 5/5, Train Loss: 0.9437, Train Accuracy: 68.00%\nEpoch 5/5, Validation Loss: 0.9623, Validation Accuracy: 67.50%\nTraining complete!\n",
          "output_type": "stream"
        },
        {
          "output_type": "display_data",
          "data": {
            "text/plain": "<IPython.core.display.HTML object>",
            "text/html": ""
          },
          "metadata": {}
        },
        {
          "output_type": "display_data",
          "data": {
            "text/plain": "<IPython.core.display.HTML object>",
            "text/html": "<br>    <style><br>        .wandb-row {<br>            display: flex;<br>            flex-direction: row;<br>            flex-wrap: wrap;<br>            justify-content: flex-start;<br>            width: 100%;<br>        }<br>        .wandb-col {<br>            display: flex;<br>            flex-direction: column;<br>            flex-basis: 100%;<br>            flex: 1;<br>            padding: 10px;<br>        }<br>    </style><br><div class=\"wandb-row\"><div class=\"wandb-col\"><h3>Run history:</h3><br/><table class=\"wandb\"><tr><td>Epoch</td><td>▁▃▅▆█</td></tr><tr><td>Train Accuracy</td><td>▁▇███</td></tr><tr><td>Train Loss</td><td>█▃▂▁▁</td></tr><tr><td>Validation Accuracy</td><td>▁▆█▆▆</td></tr><tr><td>Validation Loss</td><td>█▃▃▁▁</td></tr></table><br/></div><div class=\"wandb-col\"><h3>Run summary:</h3><br/><table class=\"wandb\"><tr><td>Epoch</td><td>5</td></tr><tr><td>Train Accuracy</td><td>67.996</td></tr><tr><td>Train Loss</td><td>0.94366</td></tr><tr><td>Validation Accuracy</td><td>67.5</td></tr><tr><td>Validation Loss</td><td>0.96229</td></tr></table><br/></div></div>"
          },
          "metadata": {}
        },
        {
          "output_type": "display_data",
          "data": {
            "text/plain": "<IPython.core.display.HTML object>",
            "text/html": " View run <strong style=\"color:#cdcd00\">ep5_fp-0_model-googlenet</strong> at: <a href='https://wandb.ai/ma23m013-iit-madras/DA6401_A-2_Part-B/runs/5lrmqu76' target=\"_blank\">https://wandb.ai/ma23m013-iit-madras/DA6401_A-2_Part-B/runs/5lrmqu76</a><br> View project at: <a href='https://wandb.ai/ma23m013-iit-madras/DA6401_A-2_Part-B' target=\"_blank\">https://wandb.ai/ma23m013-iit-madras/DA6401_A-2_Part-B</a><br>Synced 5 W&B file(s), 0 media file(s), 0 artifact file(s) and 0 other file(s)"
          },
          "metadata": {}
        },
        {
          "output_type": "display_data",
          "data": {
            "text/plain": "<IPython.core.display.HTML object>",
            "text/html": "Find logs at: <code>./wandb/run-20250417_135221-5lrmqu76/logs</code>"
          },
          "metadata": {}
        },
        {
          "name": "stderr",
          "text": "\u001b[34m\u001b[1mwandb\u001b[0m: Agent Starting Run: rzt5ogoi with config:\n\u001b[34m\u001b[1mwandb\u001b[0m: \tepochs: 5\n\u001b[34m\u001b[1mwandb\u001b[0m: \tfreeze_all_except_last_layer: Yes\n\u001b[34m\u001b[1mwandb\u001b[0m: \tfreeze_percent: 0.75\n\u001b[34m\u001b[1mwandb\u001b[0m: \tmodel_name: resnet\n",
          "output_type": "stream"
        },
        {
          "output_type": "display_data",
          "data": {
            "text/plain": "<IPython.core.display.HTML object>",
            "text/html": "Tracking run with wandb version 0.19.6"
          },
          "metadata": {}
        },
        {
          "output_type": "display_data",
          "data": {
            "text/plain": "<IPython.core.display.HTML object>",
            "text/html": "Run data is saved locally in <code>/kaggle/working/wandb/run-20250417_140145-rzt5ogoi</code>"
          },
          "metadata": {}
        },
        {
          "output_type": "display_data",
          "data": {
            "text/plain": "<IPython.core.display.HTML object>",
            "text/html": "Syncing run <strong><a href='https://wandb.ai/ma23m013-iit-madras/DA6401_A-2_Part-B/runs/rzt5ogoi' target=\"_blank\">comic-sweep-3</a></strong> to <a href='https://wandb.ai/ma23m013-iit-madras/DA6401_A-2_Part-B' target=\"_blank\">Weights & Biases</a> (<a href='https://wandb.me/developer-guide' target=\"_blank\">docs</a>)<br>Sweep page: <a href='https://wandb.ai/ma23m013-iit-madras/DA6401_A-2_Part-B/sweeps/jilrfsdr' target=\"_blank\">https://wandb.ai/ma23m013-iit-madras/DA6401_A-2_Part-B/sweeps/jilrfsdr</a>"
          },
          "metadata": {}
        },
        {
          "output_type": "display_data",
          "data": {
            "text/plain": "<IPython.core.display.HTML object>",
            "text/html": " View project at <a href='https://wandb.ai/ma23m013-iit-madras/DA6401_A-2_Part-B' target=\"_blank\">https://wandb.ai/ma23m013-iit-madras/DA6401_A-2_Part-B</a>"
          },
          "metadata": {}
        },
        {
          "output_type": "display_data",
          "data": {
            "text/plain": "<IPython.core.display.HTML object>",
            "text/html": " View sweep at <a href='https://wandb.ai/ma23m013-iit-madras/DA6401_A-2_Part-B/sweeps/jilrfsdr' target=\"_blank\">https://wandb.ai/ma23m013-iit-madras/DA6401_A-2_Part-B/sweeps/jilrfsdr</a>"
          },
          "metadata": {}
        },
        {
          "output_type": "display_data",
          "data": {
            "text/plain": "<IPython.core.display.HTML object>",
            "text/html": " View run at <a href='https://wandb.ai/ma23m013-iit-madras/DA6401_A-2_Part-B/runs/rzt5ogoi' target=\"_blank\">https://wandb.ai/ma23m013-iit-madras/DA6401_A-2_Part-B/runs/rzt5ogoi</a>"
          },
          "metadata": {}
        },
        {
          "name": "stdout",
          "text": "Epoch 1/5, Validation Loss: 0.8810, Validation Accuracy: 70.55%\nEpoch 2/5, Train Loss: 0.8397, Train Accuracy: 72.61%\nEpoch 2/5, Validation Loss: 0.7896, Validation Accuracy: 74.75%\nEpoch 3/5, Train Loss: 0.7862, Train Accuracy: 74.47%\nEpoch 3/5, Validation Loss: 0.8217, Validation Accuracy: 73.70%\nEpoch 4/5, Train Loss: 0.7600, Train Accuracy: 74.88%\nEpoch 4/5, Validation Loss: 0.8329, Validation Accuracy: 72.60%\nEpoch 5/5, Train Loss: 0.7395, Train Accuracy: 75.28%\nEpoch 5/5, Validation Loss: 0.8229, Validation Accuracy: 72.75%\nTraining complete!\n",
          "output_type": "stream"
        },
        {
          "output_type": "display_data",
          "data": {
            "text/plain": "<IPython.core.display.HTML object>",
            "text/html": ""
          },
          "metadata": {}
        },
        {
          "output_type": "display_data",
          "data": {
            "text/plain": "<IPython.core.display.HTML object>",
            "text/html": "<br>    <style><br>        .wandb-row {<br>            display: flex;<br>            flex-direction: row;<br>            flex-wrap: wrap;<br>            justify-content: flex-start;<br>            width: 100%;<br>        }<br>        .wandb-col {<br>            display: flex;<br>            flex-direction: column;<br>            flex-basis: 100%;<br>            flex: 1;<br>            padding: 10px;<br>        }<br>    </style><br><div class=\"wandb-row\"><div class=\"wandb-col\"><h3>Run history:</h3><br/><table class=\"wandb\"><tr><td>Epoch</td><td>▁▃▅▆█</td></tr><tr><td>Train Accuracy</td><td>▁▆███</td></tr><tr><td>Train Loss</td><td>█▃▂▁▁</td></tr><tr><td>Validation Accuracy</td><td>▁█▆▄▅</td></tr><tr><td>Validation Loss</td><td>█▁▃▄▄</td></tr></table><br/></div><div class=\"wandb-col\"><h3>Run summary:</h3><br/><table class=\"wandb\"><tr><td>Epoch</td><td>5</td></tr><tr><td>Train Accuracy</td><td>75.28441</td></tr><tr><td>Train Loss</td><td>0.73948</td></tr><tr><td>Validation Accuracy</td><td>72.75</td></tr><tr><td>Validation Loss</td><td>0.82294</td></tr></table><br/></div></div>"
          },
          "metadata": {}
        },
        {
          "output_type": "display_data",
          "data": {
            "text/plain": "<IPython.core.display.HTML object>",
            "text/html": " View run <strong style=\"color:#cdcd00\">ep5_fp-0.75_model-resnet</strong> at: <a href='https://wandb.ai/ma23m013-iit-madras/DA6401_A-2_Part-B/runs/rzt5ogoi' target=\"_blank\">https://wandb.ai/ma23m013-iit-madras/DA6401_A-2_Part-B/runs/rzt5ogoi</a><br> View project at: <a href='https://wandb.ai/ma23m013-iit-madras/DA6401_A-2_Part-B' target=\"_blank\">https://wandb.ai/ma23m013-iit-madras/DA6401_A-2_Part-B</a><br>Synced 5 W&B file(s), 0 media file(s), 0 artifact file(s) and 0 other file(s)"
          },
          "metadata": {}
        },
        {
          "output_type": "display_data",
          "data": {
            "text/plain": "<IPython.core.display.HTML object>",
            "text/html": "Find logs at: <code>./wandb/run-20250417_140145-rzt5ogoi/logs</code>"
          },
          "metadata": {}
        },
        {
          "name": "stderr",
          "text": "\u001b[34m\u001b[1mwandb\u001b[0m: Agent Starting Run: cm1jltlm with config:\n\u001b[34m\u001b[1mwandb\u001b[0m: \tepochs: 5\n\u001b[34m\u001b[1mwandb\u001b[0m: \tfreeze_all_except_last_layer: Yes\n\u001b[34m\u001b[1mwandb\u001b[0m: \tfreeze_percent: 0.25\n\u001b[34m\u001b[1mwandb\u001b[0m: \tmodel_name: resnet\n",
          "output_type": "stream"
        },
        {
          "output_type": "display_data",
          "data": {
            "text/plain": "<IPython.core.display.HTML object>",
            "text/html": "Tracking run with wandb version 0.19.6"
          },
          "metadata": {}
        },
        {
          "output_type": "display_data",
          "data": {
            "text/plain": "<IPython.core.display.HTML object>",
            "text/html": "Run data is saved locally in <code>/kaggle/working/wandb/run-20250417_141145-cm1jltlm</code>"
          },
          "metadata": {}
        },
        {
          "output_type": "display_data",
          "data": {
            "text/plain": "<IPython.core.display.HTML object>",
            "text/html": "Syncing run <strong><a href='https://wandb.ai/ma23m013-iit-madras/DA6401_A-2_Part-B/runs/cm1jltlm' target=\"_blank\">deft-sweep-4</a></strong> to <a href='https://wandb.ai/ma23m013-iit-madras/DA6401_A-2_Part-B' target=\"_blank\">Weights & Biases</a> (<a href='https://wandb.me/developer-guide' target=\"_blank\">docs</a>)<br>Sweep page: <a href='https://wandb.ai/ma23m013-iit-madras/DA6401_A-2_Part-B/sweeps/jilrfsdr' target=\"_blank\">https://wandb.ai/ma23m013-iit-madras/DA6401_A-2_Part-B/sweeps/jilrfsdr</a>"
          },
          "metadata": {}
        },
        {
          "output_type": "display_data",
          "data": {
            "text/plain": "<IPython.core.display.HTML object>",
            "text/html": " View project at <a href='https://wandb.ai/ma23m013-iit-madras/DA6401_A-2_Part-B' target=\"_blank\">https://wandb.ai/ma23m013-iit-madras/DA6401_A-2_Part-B</a>"
          },
          "metadata": {}
        },
        {
          "output_type": "display_data",
          "data": {
            "text/plain": "<IPython.core.display.HTML object>",
            "text/html": " View sweep at <a href='https://wandb.ai/ma23m013-iit-madras/DA6401_A-2_Part-B/sweeps/jilrfsdr' target=\"_blank\">https://wandb.ai/ma23m013-iit-madras/DA6401_A-2_Part-B/sweeps/jilrfsdr</a>"
          },
          "metadata": {}
        },
        {
          "output_type": "display_data",
          "data": {
            "text/plain": "<IPython.core.display.HTML object>",
            "text/html": " View run at <a href='https://wandb.ai/ma23m013-iit-madras/DA6401_A-2_Part-B/runs/cm1jltlm' target=\"_blank\">https://wandb.ai/ma23m013-iit-madras/DA6401_A-2_Part-B/runs/cm1jltlm</a>"
          },
          "metadata": {}
        },
        {
          "name": "stdout",
          "text": "Epoch 1/5, Train Loss: 1.1258, Train Accuracy: 63.50%\nEpoch 1/5, Validation Loss: 0.8282, Validation Accuracy: 73.20%\nEpoch 2/5, Train Loss: 0.8346, Train Accuracy: 72.57%\nEpoch 2/5, Validation Loss: 0.7891, Validation Accuracy: 74.50%\nEpoch 3/5, Train Loss: 0.7828, Train Accuracy: 74.48%\nEpoch 3/5, Validation Loss: 0.7937, Validation Accuracy: 73.80%\nEpoch 4/5, Train Loss: 0.7505, Train Accuracy: 75.20%\nEpoch 4/5, Validation Loss: 0.8138, Validation Accuracy: 73.45%\nEpoch 5/5, Train Loss: 0.7313, Train Accuracy: 75.86%\nEpoch 5/5, Validation Loss: 0.7848, Validation Accuracy: 74.60%\nTraining complete!\n",
          "output_type": "stream"
        },
        {
          "output_type": "display_data",
          "data": {
            "text/plain": "<IPython.core.display.HTML object>",
            "text/html": ""
          },
          "metadata": {}
        },
        {
          "output_type": "display_data",
          "data": {
            "text/plain": "<IPython.core.display.HTML object>",
            "text/html": "<br>    <style><br>        .wandb-row {<br>            display: flex;<br>            flex-direction: row;<br>            flex-wrap: wrap;<br>            justify-content: flex-start;<br>            width: 100%;<br>        }<br>        .wandb-col {<br>            display: flex;<br>            flex-direction: column;<br>            flex-basis: 100%;<br>            flex: 1;<br>            padding: 10px;<br>        }<br>    </style><br><div class=\"wandb-row\"><div class=\"wandb-col\"><h3>Run history:</h3><br/><table class=\"wandb\"><tr><td>Epoch</td><td>▁▃▅▆█</td></tr><tr><td>Train Accuracy</td><td>▁▆▇██</td></tr><tr><td>Train Loss</td><td>█▃▂▁▁</td></tr><tr><td>Validation Accuracy</td><td>▁█▄▂█</td></tr><tr><td>Validation Loss</td><td>█▂▂▆▁</td></tr></table><br/></div><div class=\"wandb-col\"><h3>Run summary:</h3><br/><table class=\"wandb\"><tr><td>Epoch</td><td>5</td></tr><tr><td>Train Accuracy</td><td>75.85948</td></tr><tr><td>Train Loss</td><td>0.73133</td></tr><tr><td>Validation Accuracy</td><td>74.6</td></tr><tr><td>Validation Loss</td><td>0.7848</td></tr></table><br/></div></div>"
          },
          "metadata": {}
        },
        {
          "output_type": "display_data",
          "data": {
            "text/plain": "<IPython.core.display.HTML object>",
            "text/html": " View run <strong style=\"color:#cdcd00\">ep5_fp-0.25_model-resnet</strong> at: <a href='https://wandb.ai/ma23m013-iit-madras/DA6401_A-2_Part-B/runs/cm1jltlm' target=\"_blank\">https://wandb.ai/ma23m013-iit-madras/DA6401_A-2_Part-B/runs/cm1jltlm</a><br> View project at: <a href='https://wandb.ai/ma23m013-iit-madras/DA6401_A-2_Part-B' target=\"_blank\">https://wandb.ai/ma23m013-iit-madras/DA6401_A-2_Part-B</a><br>Synced 5 W&B file(s), 0 media file(s), 0 artifact file(s) and 0 other file(s)"
          },
          "metadata": {}
        },
        {
          "output_type": "display_data",
          "data": {
            "text/plain": "<IPython.core.display.HTML object>",
            "text/html": "Find logs at: <code>./wandb/run-20250417_141145-cm1jltlm/logs</code>"
          },
          "metadata": {}
        },
        {
          "name": "stderr",
          "text": "\u001b[34m\u001b[1mwandb\u001b[0m: Agent Starting Run: stptbup9 with config:\n\u001b[34m\u001b[1mwandb\u001b[0m: \tepochs: 5\n\u001b[34m\u001b[1mwandb\u001b[0m: \tfreeze_all_except_last_layer: No\n\u001b[34m\u001b[1mwandb\u001b[0m: \tfreeze_percent: 0.25\n\u001b[34m\u001b[1mwandb\u001b[0m: \tmodel_name: resnet\n",
          "output_type": "stream"
        },
        {
          "output_type": "display_data",
          "data": {
            "text/plain": "<IPython.core.display.HTML object>",
            "text/html": "Tracking run with wandb version 0.19.6"
          },
          "metadata": {}
        },
        {
          "output_type": "display_data",
          "data": {
            "text/plain": "<IPython.core.display.HTML object>",
            "text/html": "Run data is saved locally in <code>/kaggle/working/wandb/run-20250417_142148-stptbup9</code>"
          },
          "metadata": {}
        },
        {
          "output_type": "display_data",
          "data": {
            "text/plain": "<IPython.core.display.HTML object>",
            "text/html": "Syncing run <strong><a href='https://wandb.ai/ma23m013-iit-madras/DA6401_A-2_Part-B/runs/stptbup9' target=\"_blank\">hardy-sweep-5</a></strong> to <a href='https://wandb.ai/ma23m013-iit-madras/DA6401_A-2_Part-B' target=\"_blank\">Weights & Biases</a> (<a href='https://wandb.me/developer-guide' target=\"_blank\">docs</a>)<br>Sweep page: <a href='https://wandb.ai/ma23m013-iit-madras/DA6401_A-2_Part-B/sweeps/jilrfsdr' target=\"_blank\">https://wandb.ai/ma23m013-iit-madras/DA6401_A-2_Part-B/sweeps/jilrfsdr</a>"
          },
          "metadata": {}
        },
        {
          "output_type": "display_data",
          "data": {
            "text/plain": "<IPython.core.display.HTML object>",
            "text/html": " View project at <a href='https://wandb.ai/ma23m013-iit-madras/DA6401_A-2_Part-B' target=\"_blank\">https://wandb.ai/ma23m013-iit-madras/DA6401_A-2_Part-B</a>"
          },
          "metadata": {}
        },
        {
          "output_type": "display_data",
          "data": {
            "text/plain": "<IPython.core.display.HTML object>",
            "text/html": " View sweep at <a href='https://wandb.ai/ma23m013-iit-madras/DA6401_A-2_Part-B/sweeps/jilrfsdr' target=\"_blank\">https://wandb.ai/ma23m013-iit-madras/DA6401_A-2_Part-B/sweeps/jilrfsdr</a>"
          },
          "metadata": {}
        },
        {
          "output_type": "display_data",
          "data": {
            "text/plain": "<IPython.core.display.HTML object>",
            "text/html": " View run at <a href='https://wandb.ai/ma23m013-iit-madras/DA6401_A-2_Part-B/runs/stptbup9' target=\"_blank\">https://wandb.ai/ma23m013-iit-madras/DA6401_A-2_Part-B/runs/stptbup9</a>"
          },
          "metadata": {}
        },
        {
          "name": "stdout",
          "text": "Epoch 1/5, Train Loss: 1.9589, Train Accuracy: 31.64%\nEpoch 1/5, Validation Loss: 2.8046, Validation Accuracy: 30.65%\nEpoch 2/5, Train Loss: 1.8180, Train Accuracy: 35.94%\nEpoch 2/5, Validation Loss: 1.9246, Validation Accuracy: 35.35%\nEpoch 3/5, Train Loss: 1.6752, Train Accuracy: 40.97%\nEpoch 3/5, Validation Loss: 1.7164, Validation Accuracy: 39.30%\nEpoch 4/5, Train Loss: 1.5191, Train Accuracy: 47.29%\nEpoch 4/5, Validation Loss: 1.7979, Validation Accuracy: 39.95%\nEpoch 5/5, Train Loss: 1.3527, Train Accuracy: 52.72%\nEpoch 5/5, Validation Loss: 1.5711, Validation Accuracy: 47.05%\nTraining complete!\n",
          "output_type": "stream"
        },
        {
          "output_type": "display_data",
          "data": {
            "text/plain": "<IPython.core.display.HTML object>",
            "text/html": ""
          },
          "metadata": {}
        },
        {
          "output_type": "display_data",
          "data": {
            "text/plain": "<IPython.core.display.HTML object>",
            "text/html": "<br>    <style><br>        .wandb-row {<br>            display: flex;<br>            flex-direction: row;<br>            flex-wrap: wrap;<br>            justify-content: flex-start;<br>            width: 100%;<br>        }<br>        .wandb-col {<br>            display: flex;<br>            flex-direction: column;<br>            flex-basis: 100%;<br>            flex: 1;<br>            padding: 10px;<br>        }<br>    </style><br><div class=\"wandb-row\"><div class=\"wandb-col\"><h3>Run history:</h3><br/><table class=\"wandb\"><tr><td>Epoch</td><td>▁▃▅▆█</td></tr><tr><td>Train Accuracy</td><td>▁▂▄▆█</td></tr><tr><td>Train Loss</td><td>█▆▅▃▁</td></tr><tr><td>Validation Accuracy</td><td>▁▃▅▅█</td></tr><tr><td>Validation Loss</td><td>█▃▂▂▁</td></tr></table><br/></div><div class=\"wandb-col\"><h3>Run summary:</h3><br/><table class=\"wandb\"><tr><td>Epoch</td><td>5</td></tr><tr><td>Train Accuracy</td><td>52.71909</td></tr><tr><td>Train Loss</td><td>1.3527</td></tr><tr><td>Validation Accuracy</td><td>47.05</td></tr><tr><td>Validation Loss</td><td>1.5711</td></tr></table><br/></div></div>"
          },
          "metadata": {}
        },
        {
          "output_type": "display_data",
          "data": {
            "text/plain": "<IPython.core.display.HTML object>",
            "text/html": " View run <strong style=\"color:#cdcd00\">ep5_fp-0.25_model-resnet</strong> at: <a href='https://wandb.ai/ma23m013-iit-madras/DA6401_A-2_Part-B/runs/stptbup9' target=\"_blank\">https://wandb.ai/ma23m013-iit-madras/DA6401_A-2_Part-B/runs/stptbup9</a><br> View project at: <a href='https://wandb.ai/ma23m013-iit-madras/DA6401_A-2_Part-B' target=\"_blank\">https://wandb.ai/ma23m013-iit-madras/DA6401_A-2_Part-B</a><br>Synced 5 W&B file(s), 0 media file(s), 0 artifact file(s) and 0 other file(s)"
          },
          "metadata": {}
        },
        {
          "output_type": "display_data",
          "data": {
            "text/plain": "<IPython.core.display.HTML object>",
            "text/html": "Find logs at: <code>./wandb/run-20250417_142148-stptbup9/logs</code>"
          },
          "metadata": {}
        },
        {
          "name": "stderr",
          "text": "\u001b[34m\u001b[1mwandb\u001b[0m: Agent Starting Run: dh7atonf with config:\n\u001b[34m\u001b[1mwandb\u001b[0m: \tepochs: 5\n\u001b[34m\u001b[1mwandb\u001b[0m: \tfreeze_all_except_last_layer: Yes\n\u001b[34m\u001b[1mwandb\u001b[0m: \tfreeze_percent: 0.25\n\u001b[34m\u001b[1mwandb\u001b[0m: \tmodel_name: googlenet\n",
          "output_type": "stream"
        },
        {
          "output_type": "display_data",
          "data": {
            "text/plain": "<IPython.core.display.HTML object>",
            "text/html": "Tracking run with wandb version 0.19.6"
          },
          "metadata": {}
        },
        {
          "output_type": "display_data",
          "data": {
            "text/plain": "<IPython.core.display.HTML object>",
            "text/html": "Run data is saved locally in <code>/kaggle/working/wandb/run-20250417_143403-dh7atonf</code>"
          },
          "metadata": {}
        },
        {
          "output_type": "display_data",
          "data": {
            "text/plain": "<IPython.core.display.HTML object>",
            "text/html": "Syncing run <strong><a href='https://wandb.ai/ma23m013-iit-madras/DA6401_A-2_Part-B/runs/dh7atonf' target=\"_blank\">resilient-sweep-6</a></strong> to <a href='https://wandb.ai/ma23m013-iit-madras/DA6401_A-2_Part-B' target=\"_blank\">Weights & Biases</a> (<a href='https://wandb.me/developer-guide' target=\"_blank\">docs</a>)<br>Sweep page: <a href='https://wandb.ai/ma23m013-iit-madras/DA6401_A-2_Part-B/sweeps/jilrfsdr' target=\"_blank\">https://wandb.ai/ma23m013-iit-madras/DA6401_A-2_Part-B/sweeps/jilrfsdr</a>"
          },
          "metadata": {}
        },
        {
          "output_type": "display_data",
          "data": {
            "text/plain": "<IPython.core.display.HTML object>",
            "text/html": " View project at <a href='https://wandb.ai/ma23m013-iit-madras/DA6401_A-2_Part-B' target=\"_blank\">https://wandb.ai/ma23m013-iit-madras/DA6401_A-2_Part-B</a>"
          },
          "metadata": {}
        },
        {
          "output_type": "display_data",
          "data": {
            "text/plain": "<IPython.core.display.HTML object>",
            "text/html": " View sweep at <a href='https://wandb.ai/ma23m013-iit-madras/DA6401_A-2_Part-B/sweeps/jilrfsdr' target=\"_blank\">https://wandb.ai/ma23m013-iit-madras/DA6401_A-2_Part-B/sweeps/jilrfsdr</a>"
          },
          "metadata": {}
        },
        {
          "output_type": "display_data",
          "data": {
            "text/plain": "<IPython.core.display.HTML object>",
            "text/html": " View run at <a href='https://wandb.ai/ma23m013-iit-madras/DA6401_A-2_Part-B/runs/dh7atonf' target=\"_blank\">https://wandb.ai/ma23m013-iit-madras/DA6401_A-2_Part-B/runs/dh7atonf</a>"
          },
          "metadata": {}
        },
        {
          "name": "stdout",
          "text": "Epoch 1/5, Train Loss: 1.4453, Train Accuracy: 55.83%\nEpoch 1/5, Validation Loss: 1.0976, Validation Accuracy: 65.55%\nEpoch 2/5, Train Loss: 1.0711, Train Accuracy: 65.86%\nEpoch 2/5, Validation Loss: 1.0206, Validation Accuracy: 67.00%\nEpoch 3/5, Train Loss: 0.9920, Train Accuracy: 67.77%\nEpoch 3/5, Validation Loss: 0.9806, Validation Accuracy: 68.50%\nEpoch 4/5, Train Loss: 0.9758, Train Accuracy: 67.85%\nEpoch 4/5, Validation Loss: 0.9620, Validation Accuracy: 68.60%\nEpoch 5/5, Train Loss: 0.9576, Train Accuracy: 68.67%\nEpoch 5/5, Validation Loss: 0.9400, Validation Accuracy: 68.50%\nTraining complete!\n",
          "output_type": "stream"
        },
        {
          "output_type": "display_data",
          "data": {
            "text/plain": "<IPython.core.display.HTML object>",
            "text/html": ""
          },
          "metadata": {}
        },
        {
          "output_type": "display_data",
          "data": {
            "text/plain": "<IPython.core.display.HTML object>",
            "text/html": "<br>    <style><br>        .wandb-row {<br>            display: flex;<br>            flex-direction: row;<br>            flex-wrap: wrap;<br>            justify-content: flex-start;<br>            width: 100%;<br>        }<br>        .wandb-col {<br>            display: flex;<br>            flex-direction: column;<br>            flex-basis: 100%;<br>            flex: 1;<br>            padding: 10px;<br>        }<br>    </style><br><div class=\"wandb-row\"><div class=\"wandb-col\"><h3>Run history:</h3><br/><table class=\"wandb\"><tr><td>Epoch</td><td>▁▃▅▆█</td></tr><tr><td>Train Accuracy</td><td>▁▆███</td></tr><tr><td>Train Loss</td><td>█▃▁▁▁</td></tr><tr><td>Validation Accuracy</td><td>▁▄███</td></tr><tr><td>Validation Loss</td><td>█▅▃▂▁</td></tr></table><br/></div><div class=\"wandb-col\"><h3>Run summary:</h3><br/><table class=\"wandb\"><tr><td>Epoch</td><td>5</td></tr><tr><td>Train Accuracy</td><td>68.67108</td></tr><tr><td>Train Loss</td><td>0.95763</td></tr><tr><td>Validation Accuracy</td><td>68.5</td></tr><tr><td>Validation Loss</td><td>0.93998</td></tr></table><br/></div></div>"
          },
          "metadata": {}
        },
        {
          "output_type": "display_data",
          "data": {
            "text/plain": "<IPython.core.display.HTML object>",
            "text/html": " View run <strong style=\"color:#cdcd00\">ep5_fp-0.25_model-googlenet</strong> at: <a href='https://wandb.ai/ma23m013-iit-madras/DA6401_A-2_Part-B/runs/dh7atonf' target=\"_blank\">https://wandb.ai/ma23m013-iit-madras/DA6401_A-2_Part-B/runs/dh7atonf</a><br> View project at: <a href='https://wandb.ai/ma23m013-iit-madras/DA6401_A-2_Part-B' target=\"_blank\">https://wandb.ai/ma23m013-iit-madras/DA6401_A-2_Part-B</a><br>Synced 5 W&B file(s), 0 media file(s), 0 artifact file(s) and 0 other file(s)"
          },
          "metadata": {}
        },
        {
          "output_type": "display_data",
          "data": {
            "text/plain": "<IPython.core.display.HTML object>",
            "text/html": "Find logs at: <code>./wandb/run-20250417_143403-dh7atonf/logs</code>"
          },
          "metadata": {}
        },
        {
          "name": "stderr",
          "text": "\u001b[34m\u001b[1mwandb\u001b[0m: Sweep Agent: Waiting for job.\n\u001b[34m\u001b[1mwandb\u001b[0m: Job received.\n\u001b[34m\u001b[1mwandb\u001b[0m: Agent Starting Run: lxve67ed with config:\n\u001b[34m\u001b[1mwandb\u001b[0m: \tepochs: 5\n\u001b[34m\u001b[1mwandb\u001b[0m: \tfreeze_all_except_last_layer: Yes\n\u001b[34m\u001b[1mwandb\u001b[0m: \tfreeze_percent: 0.25\n\u001b[34m\u001b[1mwandb\u001b[0m: \tmodel_name: resnet\n",
          "output_type": "stream"
        },
        {
          "output_type": "display_data",
          "data": {
            "text/plain": "<IPython.core.display.HTML object>",
            "text/html": "Tracking run with wandb version 0.19.6"
          },
          "metadata": {}
        },
        {
          "output_type": "display_data",
          "data": {
            "text/plain": "<IPython.core.display.HTML object>",
            "text/html": "Run data is saved locally in <code>/kaggle/working/wandb/run-20250417_144352-lxve67ed</code>"
          },
          "metadata": {}
        },
        {
          "output_type": "display_data",
          "data": {
            "text/plain": "<IPython.core.display.HTML object>",
            "text/html": "Syncing run <strong><a href='https://wandb.ai/ma23m013-iit-madras/DA6401_A-2_Part-B/runs/lxve67ed' target=\"_blank\">wobbly-sweep-7</a></strong> to <a href='https://wandb.ai/ma23m013-iit-madras/DA6401_A-2_Part-B' target=\"_blank\">Weights & Biases</a> (<a href='https://wandb.me/developer-guide' target=\"_blank\">docs</a>)<br>Sweep page: <a href='https://wandb.ai/ma23m013-iit-madras/DA6401_A-2_Part-B/sweeps/jilrfsdr' target=\"_blank\">https://wandb.ai/ma23m013-iit-madras/DA6401_A-2_Part-B/sweeps/jilrfsdr</a>"
          },
          "metadata": {}
        },
        {
          "output_type": "display_data",
          "data": {
            "text/plain": "<IPython.core.display.HTML object>",
            "text/html": " View project at <a href='https://wandb.ai/ma23m013-iit-madras/DA6401_A-2_Part-B' target=\"_blank\">https://wandb.ai/ma23m013-iit-madras/DA6401_A-2_Part-B</a>"
          },
          "metadata": {}
        },
        {
          "output_type": "display_data",
          "data": {
            "text/plain": "<IPython.core.display.HTML object>",
            "text/html": " View sweep at <a href='https://wandb.ai/ma23m013-iit-madras/DA6401_A-2_Part-B/sweeps/jilrfsdr' target=\"_blank\">https://wandb.ai/ma23m013-iit-madras/DA6401_A-2_Part-B/sweeps/jilrfsdr</a>"
          },
          "metadata": {}
        },
        {
          "output_type": "display_data",
          "data": {
            "text/plain": "<IPython.core.display.HTML object>",
            "text/html": " View run at <a href='https://wandb.ai/ma23m013-iit-madras/DA6401_A-2_Part-B/runs/lxve67ed' target=\"_blank\">https://wandb.ai/ma23m013-iit-madras/DA6401_A-2_Part-B/runs/lxve67ed</a>"
          },
          "metadata": {}
        },
        {
          "name": "stdout",
          "text": "Epoch 1/5, Train Loss: 1.1408, Train Accuracy: 63.28%\nEpoch 1/5, Validation Loss: 0.8615, Validation Accuracy: 71.95%\nEpoch 2/5, Train Loss: 0.8527, Train Accuracy: 72.08%\nEpoch 2/5, Validation Loss: 0.8085, Validation Accuracy: 72.60%\nEpoch 3/5, Train Loss: 0.7886, Train Accuracy: 73.98%\nEpoch 3/5, Validation Loss: 0.7782, Validation Accuracy: 74.90%\nEpoch 4/5, Train Loss: 0.7627, Train Accuracy: 74.82%\nEpoch 4/5, Validation Loss: 0.8095, Validation Accuracy: 74.20%\nEpoch 5/5, Train Loss: 0.7505, Train Accuracy: 75.55%\nEpoch 5/5, Validation Loss: 0.8489, Validation Accuracy: 71.60%\nTraining complete!\n",
          "output_type": "stream"
        },
        {
          "output_type": "display_data",
          "data": {
            "text/plain": "<IPython.core.display.HTML object>",
            "text/html": ""
          },
          "metadata": {}
        },
        {
          "output_type": "display_data",
          "data": {
            "text/plain": "<IPython.core.display.HTML object>",
            "text/html": "<br>    <style><br>        .wandb-row {<br>            display: flex;<br>            flex-direction: row;<br>            flex-wrap: wrap;<br>            justify-content: flex-start;<br>            width: 100%;<br>        }<br>        .wandb-col {<br>            display: flex;<br>            flex-direction: column;<br>            flex-basis: 100%;<br>            flex: 1;<br>            padding: 10px;<br>        }<br>    </style><br><div class=\"wandb-row\"><div class=\"wandb-col\"><h3>Run history:</h3><br/><table class=\"wandb\"><tr><td>Epoch</td><td>▁▃▅▆█</td></tr><tr><td>Train Accuracy</td><td>▁▆▇██</td></tr><tr><td>Train Loss</td><td>█▃▂▁▁</td></tr><tr><td>Validation Accuracy</td><td>▂▃█▇▁</td></tr><tr><td>Validation Loss</td><td>█▄▁▄▇</td></tr></table><br/></div><div class=\"wandb-col\"><h3>Run summary:</h3><br/><table class=\"wandb\"><tr><td>Epoch</td><td>5</td></tr><tr><td>Train Accuracy</td><td>75.54694</td></tr><tr><td>Train Loss</td><td>0.75055</td></tr><tr><td>Validation Accuracy</td><td>71.6</td></tr><tr><td>Validation Loss</td><td>0.84893</td></tr></table><br/></div></div>"
          },
          "metadata": {}
        },
        {
          "output_type": "display_data",
          "data": {
            "text/plain": "<IPython.core.display.HTML object>",
            "text/html": " View run <strong style=\"color:#cdcd00\">ep5_fp-0.25_model-resnet</strong> at: <a href='https://wandb.ai/ma23m013-iit-madras/DA6401_A-2_Part-B/runs/lxve67ed' target=\"_blank\">https://wandb.ai/ma23m013-iit-madras/DA6401_A-2_Part-B/runs/lxve67ed</a><br> View project at: <a href='https://wandb.ai/ma23m013-iit-madras/DA6401_A-2_Part-B' target=\"_blank\">https://wandb.ai/ma23m013-iit-madras/DA6401_A-2_Part-B</a><br>Synced 5 W&B file(s), 0 media file(s), 0 artifact file(s) and 0 other file(s)"
          },
          "metadata": {}
        },
        {
          "output_type": "display_data",
          "data": {
            "text/plain": "<IPython.core.display.HTML object>",
            "text/html": "Find logs at: <code>./wandb/run-20250417_144352-lxve67ed/logs</code>"
          },
          "metadata": {}
        },
        {
          "name": "stderr",
          "text": "\u001b[34m\u001b[1mwandb\u001b[0m: Agent Starting Run: aj516vhx with config:\n\u001b[34m\u001b[1mwandb\u001b[0m: \tepochs: 5\n\u001b[34m\u001b[1mwandb\u001b[0m: \tfreeze_all_except_last_layer: Yes\n\u001b[34m\u001b[1mwandb\u001b[0m: \tfreeze_percent: 0.25\n\u001b[34m\u001b[1mwandb\u001b[0m: \tmodel_name: resnet\n",
          "output_type": "stream"
        },
        {
          "output_type": "display_data",
          "data": {
            "text/plain": "<IPython.core.display.HTML object>",
            "text/html": "Tracking run with wandb version 0.19.6"
          },
          "metadata": {}
        },
        {
          "output_type": "display_data",
          "data": {
            "text/plain": "<IPython.core.display.HTML object>",
            "text/html": "Run data is saved locally in <code>/kaggle/working/wandb/run-20250417_145406-aj516vhx</code>"
          },
          "metadata": {}
        },
        {
          "output_type": "display_data",
          "data": {
            "text/plain": "<IPython.core.display.HTML object>",
            "text/html": "Syncing run <strong><a href='https://wandb.ai/ma23m013-iit-madras/DA6401_A-2_Part-B/runs/aj516vhx' target=\"_blank\">proud-sweep-8</a></strong> to <a href='https://wandb.ai/ma23m013-iit-madras/DA6401_A-2_Part-B' target=\"_blank\">Weights & Biases</a> (<a href='https://wandb.me/developer-guide' target=\"_blank\">docs</a>)<br>Sweep page: <a href='https://wandb.ai/ma23m013-iit-madras/DA6401_A-2_Part-B/sweeps/jilrfsdr' target=\"_blank\">https://wandb.ai/ma23m013-iit-madras/DA6401_A-2_Part-B/sweeps/jilrfsdr</a>"
          },
          "metadata": {}
        },
        {
          "output_type": "display_data",
          "data": {
            "text/plain": "<IPython.core.display.HTML object>",
            "text/html": " View project at <a href='https://wandb.ai/ma23m013-iit-madras/DA6401_A-2_Part-B' target=\"_blank\">https://wandb.ai/ma23m013-iit-madras/DA6401_A-2_Part-B</a>"
          },
          "metadata": {}
        },
        {
          "output_type": "display_data",
          "data": {
            "text/plain": "<IPython.core.display.HTML object>",
            "text/html": " View sweep at <a href='https://wandb.ai/ma23m013-iit-madras/DA6401_A-2_Part-B/sweeps/jilrfsdr' target=\"_blank\">https://wandb.ai/ma23m013-iit-madras/DA6401_A-2_Part-B/sweeps/jilrfsdr</a>"
          },
          "metadata": {}
        },
        {
          "output_type": "display_data",
          "data": {
            "text/plain": "<IPython.core.display.HTML object>",
            "text/html": " View run at <a href='https://wandb.ai/ma23m013-iit-madras/DA6401_A-2_Part-B/runs/aj516vhx' target=\"_blank\">https://wandb.ai/ma23m013-iit-madras/DA6401_A-2_Part-B/runs/aj516vhx</a>"
          },
          "metadata": {}
        },
        {
          "name": "stdout",
          "text": "Epoch 1/5, Train Loss: 1.1111, Train Accuracy: 64.16%\nEpoch 1/5, Validation Loss: 0.8534, Validation Accuracy: 71.70%\nEpoch 2/5, Train Loss: 0.8413, Train Accuracy: 72.15%\nEpoch 2/5, Validation Loss: 0.8203, Validation Accuracy: 72.70%\nEpoch 3/5, Train Loss: 0.7908, Train Accuracy: 73.81%\nEpoch 3/5, Validation Loss: 0.8269, Validation Accuracy: 73.65%\nEpoch 4/5, Train Loss: 0.7636, Train Accuracy: 74.62%\nEpoch 4/5, Validation Loss: 0.8761, Validation Accuracy: 71.95%\nEpoch 5/5, Train Loss: 0.7392, Train Accuracy: 75.53%\nEpoch 5/5, Validation Loss: 0.7805, Validation Accuracy: 75.05%\nTraining complete!\n",
          "output_type": "stream"
        },
        {
          "output_type": "display_data",
          "data": {
            "text/plain": "<IPython.core.display.HTML object>",
            "text/html": ""
          },
          "metadata": {}
        },
        {
          "output_type": "display_data",
          "data": {
            "text/plain": "<IPython.core.display.HTML object>",
            "text/html": "<br>    <style><br>        .wandb-row {<br>            display: flex;<br>            flex-direction: row;<br>            flex-wrap: wrap;<br>            justify-content: flex-start;<br>            width: 100%;<br>        }<br>        .wandb-col {<br>            display: flex;<br>            flex-direction: column;<br>            flex-basis: 100%;<br>            flex: 1;<br>            padding: 10px;<br>        }<br>    </style><br><div class=\"wandb-row\"><div class=\"wandb-col\"><h3>Run history:</h3><br/><table class=\"wandb\"><tr><td>Epoch</td><td>▁▃▅▆█</td></tr><tr><td>Train Accuracy</td><td>▁▆▇▇█</td></tr><tr><td>Train Loss</td><td>█▃▂▁▁</td></tr><tr><td>Validation Accuracy</td><td>▁▃▅▂█</td></tr><tr><td>Validation Loss</td><td>▆▄▄█▁</td></tr></table><br/></div><div class=\"wandb-col\"><h3>Run summary:</h3><br/><table class=\"wandb\"><tr><td>Epoch</td><td>5</td></tr><tr><td>Train Accuracy</td><td>75.53444</td></tr><tr><td>Train Loss</td><td>0.73919</td></tr><tr><td>Validation Accuracy</td><td>75.05</td></tr><tr><td>Validation Loss</td><td>0.7805</td></tr></table><br/></div></div>"
          },
          "metadata": {}
        },
        {
          "output_type": "display_data",
          "data": {
            "text/plain": "<IPython.core.display.HTML object>",
            "text/html": " View run <strong style=\"color:#cdcd00\">ep5_fp-0.25_model-resnet</strong> at: <a href='https://wandb.ai/ma23m013-iit-madras/DA6401_A-2_Part-B/runs/aj516vhx' target=\"_blank\">https://wandb.ai/ma23m013-iit-madras/DA6401_A-2_Part-B/runs/aj516vhx</a><br> View project at: <a href='https://wandb.ai/ma23m013-iit-madras/DA6401_A-2_Part-B' target=\"_blank\">https://wandb.ai/ma23m013-iit-madras/DA6401_A-2_Part-B</a><br>Synced 5 W&B file(s), 0 media file(s), 0 artifact file(s) and 0 other file(s)"
          },
          "metadata": {}
        },
        {
          "output_type": "display_data",
          "data": {
            "text/plain": "<IPython.core.display.HTML object>",
            "text/html": "Find logs at: <code>./wandb/run-20250417_145406-aj516vhx/logs</code>"
          },
          "metadata": {}
        },
        {
          "name": "stderr",
          "text": "\u001b[34m\u001b[1mwandb\u001b[0m: Sweep Agent: Waiting for job.\n\u001b[34m\u001b[1mwandb\u001b[0m: Job received.\n\u001b[34m\u001b[1mwandb\u001b[0m: Agent Starting Run: de5zzebz with config:\n\u001b[34m\u001b[1mwandb\u001b[0m: \tepochs: 5\n\u001b[34m\u001b[1mwandb\u001b[0m: \tfreeze_all_except_last_layer: Yes\n\u001b[34m\u001b[1mwandb\u001b[0m: \tfreeze_percent: 0.25\n\u001b[34m\u001b[1mwandb\u001b[0m: \tmodel_name: resnet\n",
          "output_type": "stream"
        },
        {
          "output_type": "display_data",
          "data": {
            "text/plain": "<IPython.core.display.HTML object>",
            "text/html": "Tracking run with wandb version 0.19.6"
          },
          "metadata": {}
        },
        {
          "output_type": "display_data",
          "data": {
            "text/plain": "<IPython.core.display.HTML object>",
            "text/html": "Run data is saved locally in <code>/kaggle/working/wandb/run-20250417_150450-de5zzebz</code>"
          },
          "metadata": {}
        },
        {
          "output_type": "display_data",
          "data": {
            "text/plain": "<IPython.core.display.HTML object>",
            "text/html": "Syncing run <strong><a href='https://wandb.ai/ma23m013-iit-madras/DA6401_A-2_Part-B/runs/de5zzebz' target=\"_blank\">misunderstood-sweep-9</a></strong> to <a href='https://wandb.ai/ma23m013-iit-madras/DA6401_A-2_Part-B' target=\"_blank\">Weights & Biases</a> (<a href='https://wandb.me/developer-guide' target=\"_blank\">docs</a>)<br>Sweep page: <a href='https://wandb.ai/ma23m013-iit-madras/DA6401_A-2_Part-B/sweeps/jilrfsdr' target=\"_blank\">https://wandb.ai/ma23m013-iit-madras/DA6401_A-2_Part-B/sweeps/jilrfsdr</a>"
          },
          "metadata": {}
        },
        {
          "output_type": "display_data",
          "data": {
            "text/plain": "<IPython.core.display.HTML object>",
            "text/html": " View project at <a href='https://wandb.ai/ma23m013-iit-madras/DA6401_A-2_Part-B' target=\"_blank\">https://wandb.ai/ma23m013-iit-madras/DA6401_A-2_Part-B</a>"
          },
          "metadata": {}
        },
        {
          "output_type": "display_data",
          "data": {
            "text/plain": "<IPython.core.display.HTML object>",
            "text/html": " View sweep at <a href='https://wandb.ai/ma23m013-iit-madras/DA6401_A-2_Part-B/sweeps/jilrfsdr' target=\"_blank\">https://wandb.ai/ma23m013-iit-madras/DA6401_A-2_Part-B/sweeps/jilrfsdr</a>"
          },
          "metadata": {}
        },
        {
          "output_type": "display_data",
          "data": {
            "text/plain": "<IPython.core.display.HTML object>",
            "text/html": " View run at <a href='https://wandb.ai/ma23m013-iit-madras/DA6401_A-2_Part-B/runs/de5zzebz' target=\"_blank\">https://wandb.ai/ma23m013-iit-madras/DA6401_A-2_Part-B/runs/de5zzebz</a>"
          },
          "metadata": {}
        },
        {
          "name": "stdout",
          "text": "Epoch 1/5, Train Loss: 1.1337, Train Accuracy: 64.25%\nEpoch 1/5, Validation Loss: 0.8534, Validation Accuracy: 72.75%\nEpoch 2/5, Train Loss: 0.8432, Train Accuracy: 72.53%\nEpoch 2/5, Validation Loss: 0.7935, Validation Accuracy: 73.65%\nEpoch 3/5, Train Loss: 0.7837, Train Accuracy: 74.63%\nEpoch 3/5, Validation Loss: 0.8190, Validation Accuracy: 72.70%\nEpoch 4/5, Train Loss: 0.7764, Train Accuracy: 74.47%\nEpoch 4/5, Validation Loss: 0.8951, Validation Accuracy: 71.50%\nEpoch 5/5, Train Loss: 0.7310, Train Accuracy: 75.53%\nEpoch 5/5, Validation Loss: 0.8354, Validation Accuracy: 73.90%\nTraining complete!\n",
          "output_type": "stream"
        },
        {
          "output_type": "display_data",
          "data": {
            "text/plain": "<IPython.core.display.HTML object>",
            "text/html": ""
          },
          "metadata": {}
        },
        {
          "output_type": "display_data",
          "data": {
            "text/plain": "<IPython.core.display.HTML object>",
            "text/html": "<br>    <style><br>        .wandb-row {<br>            display: flex;<br>            flex-direction: row;<br>            flex-wrap: wrap;<br>            justify-content: flex-start;<br>            width: 100%;<br>        }<br>        .wandb-col {<br>            display: flex;<br>            flex-direction: column;<br>            flex-basis: 100%;<br>            flex: 1;<br>            padding: 10px;<br>        }<br>    </style><br><div class=\"wandb-row\"><div class=\"wandb-col\"><h3>Run history:</h3><br/><table class=\"wandb\"><tr><td>Epoch</td><td>▁▃▅▆█</td></tr><tr><td>Train Accuracy</td><td>▁▆▇▇█</td></tr><tr><td>Train Loss</td><td>█▃▂▂▁</td></tr><tr><td>Validation Accuracy</td><td>▅▇▄▁█</td></tr><tr><td>Validation Loss</td><td>▅▁▃█▄</td></tr></table><br/></div><div class=\"wandb-col\"><h3>Run summary:</h3><br/><table class=\"wandb\"><tr><td>Epoch</td><td>5</td></tr><tr><td>Train Accuracy</td><td>75.53444</td></tr><tr><td>Train Loss</td><td>0.73105</td></tr><tr><td>Validation Accuracy</td><td>73.9</td></tr><tr><td>Validation Loss</td><td>0.83539</td></tr></table><br/></div></div>"
          },
          "metadata": {}
        },
        {
          "output_type": "display_data",
          "data": {
            "text/plain": "<IPython.core.display.HTML object>",
            "text/html": " View run <strong style=\"color:#cdcd00\">ep5_fp-0.25_model-resnet</strong> at: <a href='https://wandb.ai/ma23m013-iit-madras/DA6401_A-2_Part-B/runs/de5zzebz' target=\"_blank\">https://wandb.ai/ma23m013-iit-madras/DA6401_A-2_Part-B/runs/de5zzebz</a><br> View project at: <a href='https://wandb.ai/ma23m013-iit-madras/DA6401_A-2_Part-B' target=\"_blank\">https://wandb.ai/ma23m013-iit-madras/DA6401_A-2_Part-B</a><br>Synced 5 W&B file(s), 0 media file(s), 0 artifact file(s) and 0 other file(s)"
          },
          "metadata": {}
        },
        {
          "output_type": "display_data",
          "data": {
            "text/plain": "<IPython.core.display.HTML object>",
            "text/html": "Find logs at: <code>./wandb/run-20250417_150450-de5zzebz/logs</code>"
          },
          "metadata": {}
        },
        {
          "name": "stderr",
          "text": "\u001b[34m\u001b[1mwandb\u001b[0m: Agent Starting Run: i9z07opa with config:\n\u001b[34m\u001b[1mwandb\u001b[0m: \tepochs: 5\n\u001b[34m\u001b[1mwandb\u001b[0m: \tfreeze_all_except_last_layer: Yes\n\u001b[34m\u001b[1mwandb\u001b[0m: \tfreeze_percent: 0.25\n\u001b[34m\u001b[1mwandb\u001b[0m: \tmodel_name: resnet\n",
          "output_type": "stream"
        },
        {
          "output_type": "display_data",
          "data": {
            "text/plain": "<IPython.core.display.HTML object>",
            "text/html": "Tracking run with wandb version 0.19.6"
          },
          "metadata": {}
        },
        {
          "output_type": "display_data",
          "data": {
            "text/plain": "<IPython.core.display.HTML object>",
            "text/html": "Run data is saved locally in <code>/kaggle/working/wandb/run-20250417_151505-i9z07opa</code>"
          },
          "metadata": {}
        },
        {
          "output_type": "display_data",
          "data": {
            "text/plain": "<IPython.core.display.HTML object>",
            "text/html": "Syncing run <strong><a href='https://wandb.ai/ma23m013-iit-madras/DA6401_A-2_Part-B/runs/i9z07opa' target=\"_blank\">lunar-sweep-10</a></strong> to <a href='https://wandb.ai/ma23m013-iit-madras/DA6401_A-2_Part-B' target=\"_blank\">Weights & Biases</a> (<a href='https://wandb.me/developer-guide' target=\"_blank\">docs</a>)<br>Sweep page: <a href='https://wandb.ai/ma23m013-iit-madras/DA6401_A-2_Part-B/sweeps/jilrfsdr' target=\"_blank\">https://wandb.ai/ma23m013-iit-madras/DA6401_A-2_Part-B/sweeps/jilrfsdr</a>"
          },
          "metadata": {}
        },
        {
          "output_type": "display_data",
          "data": {
            "text/plain": "<IPython.core.display.HTML object>",
            "text/html": " View project at <a href='https://wandb.ai/ma23m013-iit-madras/DA6401_A-2_Part-B' target=\"_blank\">https://wandb.ai/ma23m013-iit-madras/DA6401_A-2_Part-B</a>"
          },
          "metadata": {}
        },
        {
          "output_type": "display_data",
          "data": {
            "text/plain": "<IPython.core.display.HTML object>",
            "text/html": " View sweep at <a href='https://wandb.ai/ma23m013-iit-madras/DA6401_A-2_Part-B/sweeps/jilrfsdr' target=\"_blank\">https://wandb.ai/ma23m013-iit-madras/DA6401_A-2_Part-B/sweeps/jilrfsdr</a>"
          },
          "metadata": {}
        },
        {
          "output_type": "display_data",
          "data": {
            "text/plain": "<IPython.core.display.HTML object>",
            "text/html": " View run at <a href='https://wandb.ai/ma23m013-iit-madras/DA6401_A-2_Part-B/runs/i9z07opa' target=\"_blank\">https://wandb.ai/ma23m013-iit-madras/DA6401_A-2_Part-B/runs/i9z07opa</a>"
          },
          "metadata": {}
        },
        {
          "name": "stdout",
          "text": "Epoch 1/5, Train Loss: 1.1304, Train Accuracy: 63.32%\nEpoch 1/5, Validation Loss: 0.8743, Validation Accuracy: 71.10%\nEpoch 2/5, Train Loss: 0.8297, Train Accuracy: 72.61%\nEpoch 2/5, Validation Loss: 0.8203, Validation Accuracy: 72.20%\nEpoch 3/5, Train Loss: 0.7800, Train Accuracy: 74.30%\nEpoch 3/5, Validation Loss: 0.8960, Validation Accuracy: 70.90%\nEpoch 4/5, Train Loss: 0.7620, Train Accuracy: 74.71%\nEpoch 4/5, Validation Loss: 0.8130, Validation Accuracy: 74.00%\nEpoch 5/5, Train Loss: 0.7287, Train Accuracy: 75.65%\nEpoch 5/5, Validation Loss: 0.8214, Validation Accuracy: 74.15%\nTraining complete!\n",
          "output_type": "stream"
        },
        {
          "output_type": "display_data",
          "data": {
            "text/plain": "<IPython.core.display.HTML object>",
            "text/html": ""
          },
          "metadata": {}
        },
        {
          "output_type": "display_data",
          "data": {
            "text/plain": "<IPython.core.display.HTML object>",
            "text/html": "<br>    <style><br>        .wandb-row {<br>            display: flex;<br>            flex-direction: row;<br>            flex-wrap: wrap;<br>            justify-content: flex-start;<br>            width: 100%;<br>        }<br>        .wandb-col {<br>            display: flex;<br>            flex-direction: column;<br>            flex-basis: 100%;<br>            flex: 1;<br>            padding: 10px;<br>        }<br>    </style><br><div class=\"wandb-row\"><div class=\"wandb-col\"><h3>Run history:</h3><br/><table class=\"wandb\"><tr><td>Epoch</td><td>▁▃▅▆█</td></tr><tr><td>Train Accuracy</td><td>▁▆▇▇█</td></tr><tr><td>Train Loss</td><td>█▃▂▂▁</td></tr><tr><td>Validation Accuracy</td><td>▁▄▁██</td></tr><tr><td>Validation Loss</td><td>▆▂█▁▂</td></tr></table><br/></div><div class=\"wandb-col\"><h3>Run summary:</h3><br/><table class=\"wandb\"><tr><td>Epoch</td><td>5</td></tr><tr><td>Train Accuracy</td><td>75.64696</td></tr><tr><td>Train Loss</td><td>0.72868</td></tr><tr><td>Validation Accuracy</td><td>74.15</td></tr><tr><td>Validation Loss</td><td>0.82139</td></tr></table><br/></div></div>"
          },
          "metadata": {}
        },
        {
          "output_type": "display_data",
          "data": {
            "text/plain": "<IPython.core.display.HTML object>",
            "text/html": " View run <strong style=\"color:#cdcd00\">ep5_fp-0.25_model-resnet</strong> at: <a href='https://wandb.ai/ma23m013-iit-madras/DA6401_A-2_Part-B/runs/i9z07opa' target=\"_blank\">https://wandb.ai/ma23m013-iit-madras/DA6401_A-2_Part-B/runs/i9z07opa</a><br> View project at: <a href='https://wandb.ai/ma23m013-iit-madras/DA6401_A-2_Part-B' target=\"_blank\">https://wandb.ai/ma23m013-iit-madras/DA6401_A-2_Part-B</a><br>Synced 5 W&B file(s), 0 media file(s), 0 artifact file(s) and 0 other file(s)"
          },
          "metadata": {}
        },
        {
          "output_type": "display_data",
          "data": {
            "text/plain": "<IPython.core.display.HTML object>",
            "text/html": "Find logs at: <code>./wandb/run-20250417_151505-i9z07opa/logs</code>"
          },
          "metadata": {}
        }
      ],
      "execution_count": null
    },
    {
      "cell_type": "code",
      "source": [
        "# Sweep configuration dictionary\n",
        "sweep_config = {\n",
        "    'method': 'bayes',  # 'bayes' will use Bayesian optimization to find optimal hyperparameters, other options are 'grid' or 'random'\n",
        "\n",
        "    'metric': {\n",
        "        'name': 'Validation Accuracy',  # Metric to optimize during the sweep\n",
        "        'goal': 'maximize'  # Goal is to maximize the validation accuracy\n",
        "    },\n",
        "\n",
        "    'parameters': {\n",
        "\n",
        "        'freeze_percent': {\n",
        "            'values': [0.75]  # Different percentages of layers to freeze during fine-tuning\n",
        "        },\n",
        "\n",
        "        'model_name': {\n",
        "            'values': ['resnet']  # Pre-trained model options for fine-tuning\n",
        "        },\n",
        "\n",
        "        'freeze_all_except_last_layer': {\n",
        "            'values': ['Yes']  # Option to freeze all layers except the last one or not\n",
        "        },\n",
        "\n",
        "        'epochs': {\n",
        "            'value': 6  # Number of epochs for each training run\n",
        "        }\n",
        "    }\n",
        "}\n",
        "\n",
        "# Initialize the W&B sweep using the config\n",
        "sweep_id = wandb.sweep(sweep_config, project=\"DA6401_A-2_Part-B\")  # Initialize sweep in the project \"DA6401_A-2_Part-B\"\n"
      ],
      "metadata": {
        "trusted": true,
        "execution": {
          "iopub.status.busy": "2025-04-18T18:10:28.058736Z",
          "iopub.execute_input": "2025-04-18T18:10:28.059647Z",
          "iopub.status.idle": "2025-04-18T18:10:28.383726Z",
          "shell.execute_reply.started": "2025-04-18T18:10:28.059612Z",
          "shell.execute_reply": "2025-04-18T18:10:28.38317Z"
        },
        "id": "1L4LDY0FumI5",
        "outputId": "b02bd4cc-d226-475d-bc57-72f2b6a3b416"
      },
      "outputs": [
        {
          "name": "stdout",
          "text": "Create sweep with ID: m3hs7ere\nSweep URL: https://wandb.ai/ma23m013-iit-madras/DA6401_A-2_Part-B/sweeps/m3hs7ere\n",
          "output_type": "stream"
        }
      ],
      "execution_count": null
    },
    {
      "cell_type": "code",
      "source": [
        "def main():\n",
        "    '''\n",
        "    WandB calls the main function each time with a different combination of hyperparameters.\n",
        "    We can retrieve the configuration values from `wandb.config` and use them in our model training.\n",
        "\n",
        "    This function initializes the W&B run, loads the pre-trained model with specified hyperparameters,\n",
        "    prepares the dataset, and starts the training process.\n",
        "    '''\n",
        "\n",
        "    # Initialize W&B run\n",
        "    with wandb.init() as run:\n",
        "        # Define the run name based on hyperparameters for better tracking\n",
        "        run_name = \"ep\" + str(wandb.config.epochs) + \"_fp-\" + str(wandb.config.freeze_percent) + \"_model-\" + str(wandb.config.model_name)\n",
        "        wandb.run.name = run_name  # Set the name for this run in W&B\n",
        "\n",
        "        # Load the pre-trained model based on configuration\n",
        "        model = pretrain_model(\n",
        "            model_name=wandb.config.model_name,\n",
        "            freeze_percent=wandb.config.freeze_percent,\n",
        "            freeze_all_except_last_layer=wandb.config.freeze_all_except_last_layer\n",
        "        )\n",
        "\n",
        "        # Move the model to the appropriate device (CPU or GPU)\n",
        "        model = model.to(device)\n",
        "\n",
        "        # Define the directory where the training data is located\n",
        "        data_dir = '/kaggle/input/inaturalist-dataset/inaturalist_12K/train'\n",
        "\n",
        "        # Load the training and validation data with or without data augmentation\n",
        "        train_data, val_data = load_dataset(data_dir, apply_augmentation='No')\n",
        "\n",
        "        # Train the model with the loaded data and configurations\n",
        "        train_and_validate_model(model, train_data, val_data, num_epochs=wandb.config.epochs)\n",
        "\n",
        "\n",
        "# Start the W&B sweep, calling the main function for the specified number of times\n",
        "wandb.agent(sweep_id, function=main, count=10)  # Number of runs = 10 in this case, but can be increased\n",
        "wandb.finish()  # Finish the W&B run after the sweep is complete\n"
      ],
      "metadata": {
        "trusted": true,
        "execution": {
          "iopub.status.busy": "2025-04-18T18:10:34.502053Z",
          "iopub.execute_input": "2025-04-18T18:10:34.502388Z",
          "iopub.status.idle": "2025-04-18T20:13:43.867486Z",
          "shell.execute_reply.started": "2025-04-18T18:10:34.502366Z",
          "shell.execute_reply": "2025-04-18T20:13:43.866935Z"
        },
        "id": "A1IQGqgdumI5",
        "outputId": "eab31b9d-167b-45ae-a815-b41101ac53e4"
      },
      "outputs": [
        {
          "name": "stderr",
          "text": "\u001b[34m\u001b[1mwandb\u001b[0m: Agent Starting Run: qskphf4h with config:\n\u001b[34m\u001b[1mwandb\u001b[0m: \tepochs: 6\n\u001b[34m\u001b[1mwandb\u001b[0m: \tfreeze_all_except_last_layer: Yes\n\u001b[34m\u001b[1mwandb\u001b[0m: \tfreeze_percent: 0.75\n\u001b[34m\u001b[1mwandb\u001b[0m: \tmodel_name: resnet\n\u001b[34m\u001b[1mwandb\u001b[0m: Using wandb-core as the SDK backend.  Please refer to https://wandb.me/wandb-core for more information.\n",
          "output_type": "stream"
        },
        {
          "output_type": "display_data",
          "data": {
            "text/plain": "<IPython.core.display.HTML object>",
            "text/html": "Tracking run with wandb version 0.19.6"
          },
          "metadata": {}
        },
        {
          "output_type": "display_data",
          "data": {
            "text/plain": "<IPython.core.display.HTML object>",
            "text/html": "Run data is saved locally in <code>/kaggle/working/wandb/run-20250418_181040-qskphf4h</code>"
          },
          "metadata": {}
        },
        {
          "output_type": "display_data",
          "data": {
            "text/plain": "<IPython.core.display.HTML object>",
            "text/html": "Syncing run <strong><a href='https://wandb.ai/ma23m013-iit-madras/DA6401_A-2_Part-B/runs/qskphf4h' target=\"_blank\">skilled-sweep-1</a></strong> to <a href='https://wandb.ai/ma23m013-iit-madras/DA6401_A-2_Part-B' target=\"_blank\">Weights & Biases</a> (<a href='https://wandb.me/developer-guide' target=\"_blank\">docs</a>)<br>Sweep page: <a href='https://wandb.ai/ma23m013-iit-madras/DA6401_A-2_Part-B/sweeps/m3hs7ere' target=\"_blank\">https://wandb.ai/ma23m013-iit-madras/DA6401_A-2_Part-B/sweeps/m3hs7ere</a>"
          },
          "metadata": {}
        },
        {
          "output_type": "display_data",
          "data": {
            "text/plain": "<IPython.core.display.HTML object>",
            "text/html": " View project at <a href='https://wandb.ai/ma23m013-iit-madras/DA6401_A-2_Part-B' target=\"_blank\">https://wandb.ai/ma23m013-iit-madras/DA6401_A-2_Part-B</a>"
          },
          "metadata": {}
        },
        {
          "output_type": "display_data",
          "data": {
            "text/plain": "<IPython.core.display.HTML object>",
            "text/html": " View sweep at <a href='https://wandb.ai/ma23m013-iit-madras/DA6401_A-2_Part-B/sweeps/m3hs7ere' target=\"_blank\">https://wandb.ai/ma23m013-iit-madras/DA6401_A-2_Part-B/sweeps/m3hs7ere</a>"
          },
          "metadata": {}
        },
        {
          "output_type": "display_data",
          "data": {
            "text/plain": "<IPython.core.display.HTML object>",
            "text/html": " View run at <a href='https://wandb.ai/ma23m013-iit-madras/DA6401_A-2_Part-B/runs/qskphf4h' target=\"_blank\">https://wandb.ai/ma23m013-iit-madras/DA6401_A-2_Part-B/runs/qskphf4h</a>"
          },
          "metadata": {}
        },
        {
          "name": "stdout",
          "text": "Epoch 1/6, Train Loss: 1.1018, Train Accuracy: 64.23%\nEpoch 1/6, Validation Loss: 0.8264, Validation Accuracy: 73.05%\nEpoch 2/6, Train Loss: 0.8378, Train Accuracy: 72.00%\nEpoch 2/6, Validation Loss: 0.8181, Validation Accuracy: 72.45%\nEpoch 3/6, Train Loss: 0.7838, Train Accuracy: 74.15%\nEpoch 3/6, Validation Loss: 0.8135, Validation Accuracy: 74.05%\nEpoch 4/6, Train Loss: 0.7586, Train Accuracy: 74.58%\nEpoch 4/6, Validation Loss: 0.8641, Validation Accuracy: 72.25%\nEpoch 5/6, Train Loss: 0.7334, Train Accuracy: 75.71%\nEpoch 5/6, Validation Loss: 0.8219, Validation Accuracy: 74.10%\nEpoch 6/6, Train Loss: 0.7109, Train Accuracy: 76.31%\nEpoch 6/6, Validation Loss: 0.8885, Validation Accuracy: 71.70%\nTraining complete!\n",
          "output_type": "stream"
        },
        {
          "output_type": "display_data",
          "data": {
            "text/plain": "<IPython.core.display.HTML object>",
            "text/html": ""
          },
          "metadata": {}
        },
        {
          "output_type": "display_data",
          "data": {
            "text/plain": "<IPython.core.display.HTML object>",
            "text/html": "<br>    <style><br>        .wandb-row {<br>            display: flex;<br>            flex-direction: row;<br>            flex-wrap: wrap;<br>            justify-content: flex-start;<br>            width: 100%;<br>        }<br>        .wandb-col {<br>            display: flex;<br>            flex-direction: column;<br>            flex-basis: 100%;<br>            flex: 1;<br>            padding: 10px;<br>        }<br>    </style><br><div class=\"wandb-row\"><div class=\"wandb-col\"><h3>Run history:</h3><br/><table class=\"wandb\"><tr><td>Epoch</td><td>▁▂▄▅▇█</td></tr><tr><td>Train Accuracy</td><td>▁▅▇▇██</td></tr><tr><td>Train Loss</td><td>█▃▂▂▁▁</td></tr><tr><td>Validation Accuracy</td><td>▅▃█▃█▁</td></tr><tr><td>Validation Loss</td><td>▂▁▁▆▂█</td></tr></table><br/></div><div class=\"wandb-col\"><h3>Run summary:</h3><br/><table class=\"wandb\"><tr><td>Epoch</td><td>6</td></tr><tr><td>Train Accuracy</td><td>76.30954</td></tr><tr><td>Train Loss</td><td>0.7109</td></tr><tr><td>Validation Accuracy</td><td>71.7</td></tr><tr><td>Validation Loss</td><td>0.88853</td></tr></table><br/></div></div>"
          },
          "metadata": {}
        },
        {
          "output_type": "display_data",
          "data": {
            "text/plain": "<IPython.core.display.HTML object>",
            "text/html": " View run <strong style=\"color:#cdcd00\">ep6_fp-0.75_model-resnet</strong> at: <a href='https://wandb.ai/ma23m013-iit-madras/DA6401_A-2_Part-B/runs/qskphf4h' target=\"_blank\">https://wandb.ai/ma23m013-iit-madras/DA6401_A-2_Part-B/runs/qskphf4h</a><br> View project at: <a href='https://wandb.ai/ma23m013-iit-madras/DA6401_A-2_Part-B' target=\"_blank\">https://wandb.ai/ma23m013-iit-madras/DA6401_A-2_Part-B</a><br>Synced 5 W&B file(s), 0 media file(s), 0 artifact file(s) and 0 other file(s)"
          },
          "metadata": {}
        },
        {
          "output_type": "display_data",
          "data": {
            "text/plain": "<IPython.core.display.HTML object>",
            "text/html": "Find logs at: <code>./wandb/run-20250418_181040-qskphf4h/logs</code>"
          },
          "metadata": {}
        },
        {
          "name": "stderr",
          "text": "\u001b[34m\u001b[1mwandb\u001b[0m: Agent Starting Run: gupim4nc with config:\n\u001b[34m\u001b[1mwandb\u001b[0m: \tepochs: 6\n\u001b[34m\u001b[1mwandb\u001b[0m: \tfreeze_all_except_last_layer: Yes\n\u001b[34m\u001b[1mwandb\u001b[0m: \tfreeze_percent: 0.75\n\u001b[34m\u001b[1mwandb\u001b[0m: \tmodel_name: resnet\n",
          "output_type": "stream"
        },
        {
          "output_type": "display_data",
          "data": {
            "text/plain": "<IPython.core.display.HTML object>",
            "text/html": "Tracking run with wandb version 0.19.6"
          },
          "metadata": {}
        },
        {
          "output_type": "display_data",
          "data": {
            "text/plain": "<IPython.core.display.HTML object>",
            "text/html": "Run data is saved locally in <code>/kaggle/working/wandb/run-20250418_182355-gupim4nc</code>"
          },
          "metadata": {}
        },
        {
          "output_type": "display_data",
          "data": {
            "text/plain": "<IPython.core.display.HTML object>",
            "text/html": "Syncing run <strong><a href='https://wandb.ai/ma23m013-iit-madras/DA6401_A-2_Part-B/runs/gupim4nc' target=\"_blank\">treasured-sweep-2</a></strong> to <a href='https://wandb.ai/ma23m013-iit-madras/DA6401_A-2_Part-B' target=\"_blank\">Weights & Biases</a> (<a href='https://wandb.me/developer-guide' target=\"_blank\">docs</a>)<br>Sweep page: <a href='https://wandb.ai/ma23m013-iit-madras/DA6401_A-2_Part-B/sweeps/m3hs7ere' target=\"_blank\">https://wandb.ai/ma23m013-iit-madras/DA6401_A-2_Part-B/sweeps/m3hs7ere</a>"
          },
          "metadata": {}
        },
        {
          "output_type": "display_data",
          "data": {
            "text/plain": "<IPython.core.display.HTML object>",
            "text/html": " View project at <a href='https://wandb.ai/ma23m013-iit-madras/DA6401_A-2_Part-B' target=\"_blank\">https://wandb.ai/ma23m013-iit-madras/DA6401_A-2_Part-B</a>"
          },
          "metadata": {}
        },
        {
          "output_type": "display_data",
          "data": {
            "text/plain": "<IPython.core.display.HTML object>",
            "text/html": " View sweep at <a href='https://wandb.ai/ma23m013-iit-madras/DA6401_A-2_Part-B/sweeps/m3hs7ere' target=\"_blank\">https://wandb.ai/ma23m013-iit-madras/DA6401_A-2_Part-B/sweeps/m3hs7ere</a>"
          },
          "metadata": {}
        },
        {
          "output_type": "display_data",
          "data": {
            "text/plain": "<IPython.core.display.HTML object>",
            "text/html": " View run at <a href='https://wandb.ai/ma23m013-iit-madras/DA6401_A-2_Part-B/runs/gupim4nc' target=\"_blank\">https://wandb.ai/ma23m013-iit-madras/DA6401_A-2_Part-B/runs/gupim4nc</a>"
          },
          "metadata": {}
        },
        {
          "name": "stdout",
          "text": "Epoch 1/6, Train Loss: 1.1343, Train Accuracy: 64.11%\nEpoch 1/6, Validation Loss: 0.8806, Validation Accuracy: 70.55%\nEpoch 2/6, Train Loss: 0.8407, Train Accuracy: 72.77%\nEpoch 2/6, Validation Loss: 0.7911, Validation Accuracy: 74.00%\nEpoch 3/6, Train Loss: 0.7857, Train Accuracy: 73.93%\nEpoch 3/6, Validation Loss: 0.8454, Validation Accuracy: 73.20%\nEpoch 4/6, Train Loss: 0.7529, Train Accuracy: 75.06%\nEpoch 4/6, Validation Loss: 0.8066, Validation Accuracy: 74.30%\nEpoch 5/6, Train Loss: 0.7362, Train Accuracy: 75.66%\nEpoch 6/6, Train Loss: 0.7196, Train Accuracy: 76.13%\nEpoch 6/6, Validation Loss: 0.8141, Validation Accuracy: 74.30%\nTraining complete!\n",
          "output_type": "stream"
        },
        {
          "output_type": "display_data",
          "data": {
            "text/plain": "<IPython.core.display.HTML object>",
            "text/html": ""
          },
          "metadata": {}
        },
        {
          "output_type": "display_data",
          "data": {
            "text/plain": "<IPython.core.display.HTML object>",
            "text/html": "<br>    <style><br>        .wandb-row {<br>            display: flex;<br>            flex-direction: row;<br>            flex-wrap: wrap;<br>            justify-content: flex-start;<br>            width: 100%;<br>        }<br>        .wandb-col {<br>            display: flex;<br>            flex-direction: column;<br>            flex-basis: 100%;<br>            flex: 1;<br>            padding: 10px;<br>        }<br>    </style><br><div class=\"wandb-row\"><div class=\"wandb-col\"><h3>Run history:</h3><br/><table class=\"wandb\"><tr><td>Epoch</td><td>▁▂▄▅▇█</td></tr><tr><td>Train Accuracy</td><td>▁▆▇▇██</td></tr><tr><td>Train Loss</td><td>█▃▂▂▁▁</td></tr><tr><td>Validation Accuracy</td><td>▁▇▆█▆█</td></tr><tr><td>Validation Loss</td><td>█▁▅▂▆▃</td></tr></table><br/></div><div class=\"wandb-col\"><h3>Run summary:</h3><br/><table class=\"wandb\"><tr><td>Epoch</td><td>6</td></tr><tr><td>Train Accuracy</td><td>76.13452</td></tr><tr><td>Train Loss</td><td>0.71964</td></tr><tr><td>Validation Accuracy</td><td>74.3</td></tr><tr><td>Validation Loss</td><td>0.81415</td></tr></table><br/></div></div>"
          },
          "metadata": {}
        },
        {
          "output_type": "display_data",
          "data": {
            "text/plain": "<IPython.core.display.HTML object>",
            "text/html": " View run <strong style=\"color:#cdcd00\">ep6_fp-0.75_model-resnet</strong> at: <a href='https://wandb.ai/ma23m013-iit-madras/DA6401_A-2_Part-B/runs/gupim4nc' target=\"_blank\">https://wandb.ai/ma23m013-iit-madras/DA6401_A-2_Part-B/runs/gupim4nc</a><br> View project at: <a href='https://wandb.ai/ma23m013-iit-madras/DA6401_A-2_Part-B' target=\"_blank\">https://wandb.ai/ma23m013-iit-madras/DA6401_A-2_Part-B</a><br>Synced 5 W&B file(s), 0 media file(s), 0 artifact file(s) and 0 other file(s)"
          },
          "metadata": {}
        },
        {
          "output_type": "display_data",
          "data": {
            "text/plain": "<IPython.core.display.HTML object>",
            "text/html": "Find logs at: <code>./wandb/run-20250418_182355-gupim4nc/logs</code>"
          },
          "metadata": {}
        },
        {
          "name": "stderr",
          "text": "\u001b[34m\u001b[1mwandb\u001b[0m: Agent Starting Run: m49b9cyh with config:\n\u001b[34m\u001b[1mwandb\u001b[0m: \tepochs: 6\n\u001b[34m\u001b[1mwandb\u001b[0m: \tfreeze_all_except_last_layer: Yes\n\u001b[34m\u001b[1mwandb\u001b[0m: \tfreeze_percent: 0.75\n\u001b[34m\u001b[1mwandb\u001b[0m: \tmodel_name: resnet\n",
          "output_type": "stream"
        },
        {
          "output_type": "display_data",
          "data": {
            "text/plain": "<IPython.core.display.HTML object>",
            "text/html": "Tracking run with wandb version 0.19.6"
          },
          "metadata": {}
        },
        {
          "output_type": "display_data",
          "data": {
            "text/plain": "<IPython.core.display.HTML object>",
            "text/html": "Run data is saved locally in <code>/kaggle/working/wandb/run-20250418_183559-m49b9cyh</code>"
          },
          "metadata": {}
        },
        {
          "output_type": "display_data",
          "data": {
            "text/plain": "<IPython.core.display.HTML object>",
            "text/html": "Syncing run <strong><a href='https://wandb.ai/ma23m013-iit-madras/DA6401_A-2_Part-B/runs/m49b9cyh' target=\"_blank\">celestial-sweep-3</a></strong> to <a href='https://wandb.ai/ma23m013-iit-madras/DA6401_A-2_Part-B' target=\"_blank\">Weights & Biases</a> (<a href='https://wandb.me/developer-guide' target=\"_blank\">docs</a>)<br>Sweep page: <a href='https://wandb.ai/ma23m013-iit-madras/DA6401_A-2_Part-B/sweeps/m3hs7ere' target=\"_blank\">https://wandb.ai/ma23m013-iit-madras/DA6401_A-2_Part-B/sweeps/m3hs7ere</a>"
          },
          "metadata": {}
        },
        {
          "output_type": "display_data",
          "data": {
            "text/plain": "<IPython.core.display.HTML object>",
            "text/html": " View project at <a href='https://wandb.ai/ma23m013-iit-madras/DA6401_A-2_Part-B' target=\"_blank\">https://wandb.ai/ma23m013-iit-madras/DA6401_A-2_Part-B</a>"
          },
          "metadata": {}
        },
        {
          "output_type": "display_data",
          "data": {
            "text/plain": "<IPython.core.display.HTML object>",
            "text/html": " View sweep at <a href='https://wandb.ai/ma23m013-iit-madras/DA6401_A-2_Part-B/sweeps/m3hs7ere' target=\"_blank\">https://wandb.ai/ma23m013-iit-madras/DA6401_A-2_Part-B/sweeps/m3hs7ere</a>"
          },
          "metadata": {}
        },
        {
          "output_type": "display_data",
          "data": {
            "text/plain": "<IPython.core.display.HTML object>",
            "text/html": " View run at <a href='https://wandb.ai/ma23m013-iit-madras/DA6401_A-2_Part-B/runs/m49b9cyh' target=\"_blank\">https://wandb.ai/ma23m013-iit-madras/DA6401_A-2_Part-B/runs/m49b9cyh</a>"
          },
          "metadata": {}
        },
        {
          "name": "stdout",
          "text": "Epoch 1/6, Train Loss: 1.1249, Train Accuracy: 64.13%\nEpoch 1/6, Validation Loss: 0.8612, Validation Accuracy: 71.75%\nEpoch 2/6, Train Loss: 0.8419, Train Accuracy: 71.82%\nEpoch 2/6, Validation Loss: 0.8473, Validation Accuracy: 71.95%\nEpoch 3/6, Train Loss: 0.7838, Train Accuracy: 74.28%\nEpoch 3/6, Validation Loss: 0.8305, Validation Accuracy: 72.25%\nEpoch 4/6, Train Loss: 0.7429, Train Accuracy: 75.36%\nEpoch 4/6, Validation Loss: 0.7938, Validation Accuracy: 74.70%\nEpoch 5/6, Train Loss: 0.7309, Train Accuracy: 75.87%\nEpoch 5/6, Validation Loss: 0.8227, Validation Accuracy: 74.05%\nEpoch 6/6, Train Loss: 0.7141, Train Accuracy: 75.77%\nEpoch 6/6, Validation Loss: 0.8373, Validation Accuracy: 73.15%\nTraining complete!\n",
          "output_type": "stream"
        },
        {
          "output_type": "display_data",
          "data": {
            "text/plain": "<IPython.core.display.HTML object>",
            "text/html": ""
          },
          "metadata": {}
        },
        {
          "output_type": "display_data",
          "data": {
            "text/plain": "<IPython.core.display.HTML object>",
            "text/html": "<br>    <style><br>        .wandb-row {<br>            display: flex;<br>            flex-direction: row;<br>            flex-wrap: wrap;<br>            justify-content: flex-start;<br>            width: 100%;<br>        }<br>        .wandb-col {<br>            display: flex;<br>            flex-direction: column;<br>            flex-basis: 100%;<br>            flex: 1;<br>            padding: 10px;<br>        }<br>    </style><br><div class=\"wandb-row\"><div class=\"wandb-col\"><h3>Run history:</h3><br/><table class=\"wandb\"><tr><td>Epoch</td><td>▁▂▄▅▇█</td></tr><tr><td>Train Accuracy</td><td>▁▆▇███</td></tr><tr><td>Train Loss</td><td>█▃▂▁▁▁</td></tr><tr><td>Validation Accuracy</td><td>▁▁▂█▆▄</td></tr><tr><td>Validation Loss</td><td>█▇▅▁▄▆</td></tr></table><br/></div><div class=\"wandb-col\"><h3>Run summary:</h3><br/><table class=\"wandb\"><tr><td>Epoch</td><td>6</td></tr><tr><td>Train Accuracy</td><td>75.77197</td></tr><tr><td>Train Loss</td><td>0.7141</td></tr><tr><td>Validation Accuracy</td><td>73.15</td></tr><tr><td>Validation Loss</td><td>0.83732</td></tr></table><br/></div></div>"
          },
          "metadata": {}
        },
        {
          "output_type": "display_data",
          "data": {
            "text/plain": "<IPython.core.display.HTML object>",
            "text/html": " View run <strong style=\"color:#cdcd00\">ep6_fp-0.75_model-resnet</strong> at: <a href='https://wandb.ai/ma23m013-iit-madras/DA6401_A-2_Part-B/runs/m49b9cyh' target=\"_blank\">https://wandb.ai/ma23m013-iit-madras/DA6401_A-2_Part-B/runs/m49b9cyh</a><br> View project at: <a href='https://wandb.ai/ma23m013-iit-madras/DA6401_A-2_Part-B' target=\"_blank\">https://wandb.ai/ma23m013-iit-madras/DA6401_A-2_Part-B</a><br>Synced 5 W&B file(s), 0 media file(s), 0 artifact file(s) and 0 other file(s)"
          },
          "metadata": {}
        },
        {
          "output_type": "display_data",
          "data": {
            "text/plain": "<IPython.core.display.HTML object>",
            "text/html": "Find logs at: <code>./wandb/run-20250418_183559-m49b9cyh/logs</code>"
          },
          "metadata": {}
        },
        {
          "name": "stderr",
          "text": "\u001b[34m\u001b[1mwandb\u001b[0m: Sweep Agent: Waiting for job.\n\u001b[34m\u001b[1mwandb\u001b[0m: Job received.\n\u001b[34m\u001b[1mwandb\u001b[0m: Agent Starting Run: l9k22rx6 with config:\n\u001b[34m\u001b[1mwandb\u001b[0m: \tepochs: 6\n\u001b[34m\u001b[1mwandb\u001b[0m: \tfreeze_all_except_last_layer: Yes\n\u001b[34m\u001b[1mwandb\u001b[0m: \tfreeze_percent: 0.75\n\u001b[34m\u001b[1mwandb\u001b[0m: \tmodel_name: resnet\n",
          "output_type": "stream"
        },
        {
          "output_type": "display_data",
          "data": {
            "text/plain": "<IPython.core.display.HTML object>",
            "text/html": "Tracking run with wandb version 0.19.6"
          },
          "metadata": {}
        },
        {
          "output_type": "display_data",
          "data": {
            "text/plain": "<IPython.core.display.HTML object>",
            "text/html": "Run data is saved locally in <code>/kaggle/working/wandb/run-20250418_184849-l9k22rx6</code>"
          },
          "metadata": {}
        },
        {
          "output_type": "display_data",
          "data": {
            "text/plain": "<IPython.core.display.HTML object>",
            "text/html": "Syncing run <strong><a href='https://wandb.ai/ma23m013-iit-madras/DA6401_A-2_Part-B/runs/l9k22rx6' target=\"_blank\">different-sweep-4</a></strong> to <a href='https://wandb.ai/ma23m013-iit-madras/DA6401_A-2_Part-B' target=\"_blank\">Weights & Biases</a> (<a href='https://wandb.me/developer-guide' target=\"_blank\">docs</a>)<br>Sweep page: <a href='https://wandb.ai/ma23m013-iit-madras/DA6401_A-2_Part-B/sweeps/m3hs7ere' target=\"_blank\">https://wandb.ai/ma23m013-iit-madras/DA6401_A-2_Part-B/sweeps/m3hs7ere</a>"
          },
          "metadata": {}
        },
        {
          "output_type": "display_data",
          "data": {
            "text/plain": "<IPython.core.display.HTML object>",
            "text/html": " View project at <a href='https://wandb.ai/ma23m013-iit-madras/DA6401_A-2_Part-B' target=\"_blank\">https://wandb.ai/ma23m013-iit-madras/DA6401_A-2_Part-B</a>"
          },
          "metadata": {}
        },
        {
          "output_type": "display_data",
          "data": {
            "text/plain": "<IPython.core.display.HTML object>",
            "text/html": " View sweep at <a href='https://wandb.ai/ma23m013-iit-madras/DA6401_A-2_Part-B/sweeps/m3hs7ere' target=\"_blank\">https://wandb.ai/ma23m013-iit-madras/DA6401_A-2_Part-B/sweeps/m3hs7ere</a>"
          },
          "metadata": {}
        },
        {
          "output_type": "display_data",
          "data": {
            "text/plain": "<IPython.core.display.HTML object>",
            "text/html": " View run at <a href='https://wandb.ai/ma23m013-iit-madras/DA6401_A-2_Part-B/runs/l9k22rx6' target=\"_blank\">https://wandb.ai/ma23m013-iit-madras/DA6401_A-2_Part-B/runs/l9k22rx6</a>"
          },
          "metadata": {}
        },
        {
          "name": "stdout",
          "text": "Epoch 1/6, Train Loss: 1.1284, Train Accuracy: 63.76%\nEpoch 1/6, Validation Loss: 0.8885, Validation Accuracy: 70.75%\nEpoch 2/6, Train Loss: 0.8487, Train Accuracy: 71.76%\nEpoch 2/6, Validation Loss: 0.8377, Validation Accuracy: 71.65%\nEpoch 3/6, Train Loss: 0.7902, Train Accuracy: 74.00%\nEpoch 3/6, Validation Loss: 0.8021, Validation Accuracy: 73.95%\nEpoch 4/6, Train Loss: 0.7474, Train Accuracy: 75.05%\nEpoch 4/6, Validation Loss: 0.8766, Validation Accuracy: 72.95%\nEpoch 5/6, Train Loss: 0.7173, Train Accuracy: 76.21%\nEpoch 5/6, Validation Loss: 0.8103, Validation Accuracy: 74.40%\nEpoch 6/6, Train Loss: 0.7178, Train Accuracy: 75.92%\nEpoch 6/6, Validation Loss: 0.8505, Validation Accuracy: 72.75%\nTraining complete!\n",
          "output_type": "stream"
        },
        {
          "output_type": "display_data",
          "data": {
            "text/plain": "<IPython.core.display.HTML object>",
            "text/html": ""
          },
          "metadata": {}
        },
        {
          "output_type": "display_data",
          "data": {
            "text/plain": "<IPython.core.display.HTML object>",
            "text/html": "<br>    <style><br>        .wandb-row {<br>            display: flex;<br>            flex-direction: row;<br>            flex-wrap: wrap;<br>            justify-content: flex-start;<br>            width: 100%;<br>        }<br>        .wandb-col {<br>            display: flex;<br>            flex-direction: column;<br>            flex-basis: 100%;<br>            flex: 1;<br>            padding: 10px;<br>        }<br>    </style><br><div class=\"wandb-row\"><div class=\"wandb-col\"><h3>Run history:</h3><br/><table class=\"wandb\"><tr><td>Epoch</td><td>▁▂▄▅▇█</td></tr><tr><td>Train Accuracy</td><td>▁▅▇▇██</td></tr><tr><td>Train Loss</td><td>█▃▂▂▁▁</td></tr><tr><td>Validation Accuracy</td><td>▁▃▇▅█▅</td></tr><tr><td>Validation Loss</td><td>█▄▁▇▂▅</td></tr></table><br/></div><div class=\"wandb-col\"><h3>Run summary:</h3><br/><table class=\"wandb\"><tr><td>Epoch</td><td>6</td></tr><tr><td>Train Accuracy</td><td>75.92199</td></tr><tr><td>Train Loss</td><td>0.71782</td></tr><tr><td>Validation Accuracy</td><td>72.75</td></tr><tr><td>Validation Loss</td><td>0.85053</td></tr></table><br/></div></div>"
          },
          "metadata": {}
        },
        {
          "output_type": "display_data",
          "data": {
            "text/plain": "<IPython.core.display.HTML object>",
            "text/html": " View run <strong style=\"color:#cdcd00\">ep6_fp-0.75_model-resnet</strong> at: <a href='https://wandb.ai/ma23m013-iit-madras/DA6401_A-2_Part-B/runs/l9k22rx6' target=\"_blank\">https://wandb.ai/ma23m013-iit-madras/DA6401_A-2_Part-B/runs/l9k22rx6</a><br> View project at: <a href='https://wandb.ai/ma23m013-iit-madras/DA6401_A-2_Part-B' target=\"_blank\">https://wandb.ai/ma23m013-iit-madras/DA6401_A-2_Part-B</a><br>Synced 5 W&B file(s), 0 media file(s), 0 artifact file(s) and 0 other file(s)"
          },
          "metadata": {}
        },
        {
          "output_type": "display_data",
          "data": {
            "text/plain": "<IPython.core.display.HTML object>",
            "text/html": "Find logs at: <code>./wandb/run-20250418_184849-l9k22rx6/logs</code>"
          },
          "metadata": {}
        },
        {
          "name": "stderr",
          "text": "\u001b[34m\u001b[1mwandb\u001b[0m: Agent Starting Run: rtb02i21 with config:\n\u001b[34m\u001b[1mwandb\u001b[0m: \tepochs: 6\n\u001b[34m\u001b[1mwandb\u001b[0m: \tfreeze_all_except_last_layer: Yes\n\u001b[34m\u001b[1mwandb\u001b[0m: \tfreeze_percent: 0.75\n\u001b[34m\u001b[1mwandb\u001b[0m: \tmodel_name: resnet\n",
          "output_type": "stream"
        },
        {
          "output_type": "display_data",
          "data": {
            "text/plain": "<IPython.core.display.HTML object>",
            "text/html": "Tracking run with wandb version 0.19.6"
          },
          "metadata": {}
        },
        {
          "output_type": "display_data",
          "data": {
            "text/plain": "<IPython.core.display.HTML object>",
            "text/html": "Run data is saved locally in <code>/kaggle/working/wandb/run-20250418_190149-rtb02i21</code>"
          },
          "metadata": {}
        },
        {
          "output_type": "display_data",
          "data": {
            "text/plain": "<IPython.core.display.HTML object>",
            "text/html": "Syncing run <strong><a href='https://wandb.ai/ma23m013-iit-madras/DA6401_A-2_Part-B/runs/rtb02i21' target=\"_blank\">leafy-sweep-5</a></strong> to <a href='https://wandb.ai/ma23m013-iit-madras/DA6401_A-2_Part-B' target=\"_blank\">Weights & Biases</a> (<a href='https://wandb.me/developer-guide' target=\"_blank\">docs</a>)<br>Sweep page: <a href='https://wandb.ai/ma23m013-iit-madras/DA6401_A-2_Part-B/sweeps/m3hs7ere' target=\"_blank\">https://wandb.ai/ma23m013-iit-madras/DA6401_A-2_Part-B/sweeps/m3hs7ere</a>"
          },
          "metadata": {}
        },
        {
          "output_type": "display_data",
          "data": {
            "text/plain": "<IPython.core.display.HTML object>",
            "text/html": " View project at <a href='https://wandb.ai/ma23m013-iit-madras/DA6401_A-2_Part-B' target=\"_blank\">https://wandb.ai/ma23m013-iit-madras/DA6401_A-2_Part-B</a>"
          },
          "metadata": {}
        },
        {
          "output_type": "display_data",
          "data": {
            "text/plain": "<IPython.core.display.HTML object>",
            "text/html": " View sweep at <a href='https://wandb.ai/ma23m013-iit-madras/DA6401_A-2_Part-B/sweeps/m3hs7ere' target=\"_blank\">https://wandb.ai/ma23m013-iit-madras/DA6401_A-2_Part-B/sweeps/m3hs7ere</a>"
          },
          "metadata": {}
        },
        {
          "output_type": "display_data",
          "data": {
            "text/plain": "<IPython.core.display.HTML object>",
            "text/html": " View run at <a href='https://wandb.ai/ma23m013-iit-madras/DA6401_A-2_Part-B/runs/rtb02i21' target=\"_blank\">https://wandb.ai/ma23m013-iit-madras/DA6401_A-2_Part-B/runs/rtb02i21</a>"
          },
          "metadata": {}
        },
        {
          "name": "stdout",
          "text": "Epoch 1/6, Train Loss: 1.1224, Train Accuracy: 63.72%\nEpoch 1/6, Validation Loss: 0.8407, Validation Accuracy: 71.90%\nEpoch 2/6, Train Loss: 0.8502, Train Accuracy: 71.92%\nEpoch 2/6, Validation Loss: 0.8201, Validation Accuracy: 72.50%\nEpoch 3/6, Train Loss: 0.7892, Train Accuracy: 73.61%\nEpoch 3/6, Validation Loss: 0.7957, Validation Accuracy: 74.60%\nEpoch 4/6, Train Loss: 0.7677, Train Accuracy: 74.46%\nEpoch 4/6, Validation Loss: 0.7937, Validation Accuracy: 73.95%\nEpoch 5/6, Train Loss: 0.7334, Train Accuracy: 75.66%\nEpoch 5/6, Validation Loss: 0.8034, Validation Accuracy: 74.35%\nEpoch 6/6, Train Loss: 0.6942, Train Accuracy: 77.36%\nEpoch 6/6, Validation Loss: 0.7826, Validation Accuracy: 74.60%\nTraining complete!\n",
          "output_type": "stream"
        },
        {
          "output_type": "display_data",
          "data": {
            "text/plain": "<IPython.core.display.HTML object>",
            "text/html": ""
          },
          "metadata": {}
        },
        {
          "output_type": "display_data",
          "data": {
            "text/plain": "<IPython.core.display.HTML object>",
            "text/html": "<br>    <style><br>        .wandb-row {<br>            display: flex;<br>            flex-direction: row;<br>            flex-wrap: wrap;<br>            justify-content: flex-start;<br>            width: 100%;<br>        }<br>        .wandb-col {<br>            display: flex;<br>            flex-direction: column;<br>            flex-basis: 100%;<br>            flex: 1;<br>            padding: 10px;<br>        }<br>    </style><br><div class=\"wandb-row\"><div class=\"wandb-col\"><h3>Run history:</h3><br/><table class=\"wandb\"><tr><td>Epoch</td><td>▁▂▄▅▇█</td></tr><tr><td>Train Accuracy</td><td>▁▅▆▇▇█</td></tr><tr><td>Train Loss</td><td>█▄▃▂▂▁</td></tr><tr><td>Validation Accuracy</td><td>▁▃█▆▇█</td></tr><tr><td>Validation Loss</td><td>█▆▃▂▄▁</td></tr></table><br/></div><div class=\"wandb-col\"><h3>Run summary:</h3><br/><table class=\"wandb\"><tr><td>Epoch</td><td>6</td></tr><tr><td>Train Accuracy</td><td>77.35967</td></tr><tr><td>Train Loss</td><td>0.69425</td></tr><tr><td>Validation Accuracy</td><td>74.6</td></tr><tr><td>Validation Loss</td><td>0.78264</td></tr></table><br/></div></div>"
          },
          "metadata": {}
        },
        {
          "output_type": "display_data",
          "data": {
            "text/plain": "<IPython.core.display.HTML object>",
            "text/html": " View run <strong style=\"color:#cdcd00\">ep6_fp-0.75_model-resnet</strong> at: <a href='https://wandb.ai/ma23m013-iit-madras/DA6401_A-2_Part-B/runs/rtb02i21' target=\"_blank\">https://wandb.ai/ma23m013-iit-madras/DA6401_A-2_Part-B/runs/rtb02i21</a><br> View project at: <a href='https://wandb.ai/ma23m013-iit-madras/DA6401_A-2_Part-B' target=\"_blank\">https://wandb.ai/ma23m013-iit-madras/DA6401_A-2_Part-B</a><br>Synced 5 W&B file(s), 0 media file(s), 0 artifact file(s) and 0 other file(s)"
          },
          "metadata": {}
        },
        {
          "output_type": "display_data",
          "data": {
            "text/plain": "<IPython.core.display.HTML object>",
            "text/html": "Find logs at: <code>./wandb/run-20250418_190149-rtb02i21/logs</code>"
          },
          "metadata": {}
        },
        {
          "name": "stderr",
          "text": "\u001b[34m\u001b[1mwandb\u001b[0m: Agent Starting Run: 3wurnyic with config:\n\u001b[34m\u001b[1mwandb\u001b[0m: \tepochs: 6\n\u001b[34m\u001b[1mwandb\u001b[0m: \tfreeze_all_except_last_layer: Yes\n\u001b[34m\u001b[1mwandb\u001b[0m: \tfreeze_percent: 0.75\n\u001b[34m\u001b[1mwandb\u001b[0m: \tmodel_name: resnet\n",
          "output_type": "stream"
        },
        {
          "output_type": "display_data",
          "data": {
            "text/plain": "<IPython.core.display.HTML object>",
            "text/html": "Tracking run with wandb version 0.19.6"
          },
          "metadata": {}
        },
        {
          "output_type": "display_data",
          "data": {
            "text/plain": "<IPython.core.display.HTML object>",
            "text/html": "Run data is saved locally in <code>/kaggle/working/wandb/run-20250418_191354-3wurnyic</code>"
          },
          "metadata": {}
        },
        {
          "output_type": "display_data",
          "data": {
            "text/plain": "<IPython.core.display.HTML object>",
            "text/html": "Syncing run <strong><a href='https://wandb.ai/ma23m013-iit-madras/DA6401_A-2_Part-B/runs/3wurnyic' target=\"_blank\">morning-sweep-6</a></strong> to <a href='https://wandb.ai/ma23m013-iit-madras/DA6401_A-2_Part-B' target=\"_blank\">Weights & Biases</a> (<a href='https://wandb.me/developer-guide' target=\"_blank\">docs</a>)<br>Sweep page: <a href='https://wandb.ai/ma23m013-iit-madras/DA6401_A-2_Part-B/sweeps/m3hs7ere' target=\"_blank\">https://wandb.ai/ma23m013-iit-madras/DA6401_A-2_Part-B/sweeps/m3hs7ere</a>"
          },
          "metadata": {}
        },
        {
          "output_type": "display_data",
          "data": {
            "text/plain": "<IPython.core.display.HTML object>",
            "text/html": " View project at <a href='https://wandb.ai/ma23m013-iit-madras/DA6401_A-2_Part-B' target=\"_blank\">https://wandb.ai/ma23m013-iit-madras/DA6401_A-2_Part-B</a>"
          },
          "metadata": {}
        },
        {
          "output_type": "display_data",
          "data": {
            "text/plain": "<IPython.core.display.HTML object>",
            "text/html": " View sweep at <a href='https://wandb.ai/ma23m013-iit-madras/DA6401_A-2_Part-B/sweeps/m3hs7ere' target=\"_blank\">https://wandb.ai/ma23m013-iit-madras/DA6401_A-2_Part-B/sweeps/m3hs7ere</a>"
          },
          "metadata": {}
        },
        {
          "output_type": "display_data",
          "data": {
            "text/plain": "<IPython.core.display.HTML object>",
            "text/html": " View run at <a href='https://wandb.ai/ma23m013-iit-madras/DA6401_A-2_Part-B/runs/3wurnyic' target=\"_blank\">https://wandb.ai/ma23m013-iit-madras/DA6401_A-2_Part-B/runs/3wurnyic</a>"
          },
          "metadata": {}
        },
        {
          "name": "stdout",
          "text": "Epoch 1/6, Train Loss: 1.1467, Train Accuracy: 62.87%\nEpoch 1/6, Validation Loss: 0.8592, Validation Accuracy: 72.55%\nEpoch 2/6, Train Loss: 0.8430, Train Accuracy: 72.03%\nEpoch 2/6, Validation Loss: 0.7943, Validation Accuracy: 73.70%\nEpoch 3/6, Train Loss: 0.7833, Train Accuracy: 74.17%\nEpoch 3/6, Validation Loss: 0.8289, Validation Accuracy: 72.50%\nEpoch 4/6, Train Loss: 0.7569, Train Accuracy: 75.40%\nEpoch 4/6, Validation Loss: 0.8050, Validation Accuracy: 74.65%\nEpoch 5/6, Train Loss: 0.7432, Train Accuracy: 75.42%\nEpoch 5/6, Validation Loss: 0.8097, Validation Accuracy: 73.95%\nEpoch 6/6, Train Loss: 0.7246, Train Accuracy: 76.17%\nEpoch 6/6, Validation Loss: 0.8314, Validation Accuracy: 72.80%\nTraining complete!\n",
          "output_type": "stream"
        },
        {
          "output_type": "display_data",
          "data": {
            "text/plain": "<IPython.core.display.HTML object>",
            "text/html": ""
          },
          "metadata": {}
        },
        {
          "output_type": "display_data",
          "data": {
            "text/plain": "<IPython.core.display.HTML object>",
            "text/html": "<br>    <style><br>        .wandb-row {<br>            display: flex;<br>            flex-direction: row;<br>            flex-wrap: wrap;<br>            justify-content: flex-start;<br>            width: 100%;<br>        }<br>        .wandb-col {<br>            display: flex;<br>            flex-direction: column;<br>            flex-basis: 100%;<br>            flex: 1;<br>            padding: 10px;<br>        }<br>    </style><br><div class=\"wandb-row\"><div class=\"wandb-col\"><h3>Run history:</h3><br/><table class=\"wandb\"><tr><td>Epoch</td><td>▁▂▄▅▇█</td></tr><tr><td>Train Accuracy</td><td>▁▆▇███</td></tr><tr><td>Train Loss</td><td>█▃▂▂▁▁</td></tr><tr><td>Validation Accuracy</td><td>▁▅▁█▆▂</td></tr><tr><td>Validation Loss</td><td>█▁▅▂▃▅</td></tr></table><br/></div><div class=\"wandb-col\"><h3>Run summary:</h3><br/><table class=\"wandb\"><tr><td>Epoch</td><td>6</td></tr><tr><td>Train Accuracy</td><td>76.17202</td></tr><tr><td>Train Loss</td><td>0.72456</td></tr><tr><td>Validation Accuracy</td><td>72.8</td></tr><tr><td>Validation Loss</td><td>0.83142</td></tr></table><br/></div></div>"
          },
          "metadata": {}
        },
        {
          "output_type": "display_data",
          "data": {
            "text/plain": "<IPython.core.display.HTML object>",
            "text/html": " View run <strong style=\"color:#cdcd00\">ep6_fp-0.75_model-resnet</strong> at: <a href='https://wandb.ai/ma23m013-iit-madras/DA6401_A-2_Part-B/runs/3wurnyic' target=\"_blank\">https://wandb.ai/ma23m013-iit-madras/DA6401_A-2_Part-B/runs/3wurnyic</a><br> View project at: <a href='https://wandb.ai/ma23m013-iit-madras/DA6401_A-2_Part-B' target=\"_blank\">https://wandb.ai/ma23m013-iit-madras/DA6401_A-2_Part-B</a><br>Synced 5 W&B file(s), 0 media file(s), 0 artifact file(s) and 0 other file(s)"
          },
          "metadata": {}
        },
        {
          "output_type": "display_data",
          "data": {
            "text/plain": "<IPython.core.display.HTML object>",
            "text/html": "Find logs at: <code>./wandb/run-20250418_191354-3wurnyic/logs</code>"
          },
          "metadata": {}
        },
        {
          "name": "stderr",
          "text": "\u001b[34m\u001b[1mwandb\u001b[0m: Agent Starting Run: a291638d with config:\n\u001b[34m\u001b[1mwandb\u001b[0m: \tepochs: 6\n\u001b[34m\u001b[1mwandb\u001b[0m: \tfreeze_all_except_last_layer: Yes\n\u001b[34m\u001b[1mwandb\u001b[0m: \tfreeze_percent: 0.75\n\u001b[34m\u001b[1mwandb\u001b[0m: \tmodel_name: resnet\n",
          "output_type": "stream"
        },
        {
          "output_type": "display_data",
          "data": {
            "text/plain": "<IPython.core.display.HTML object>",
            "text/html": "Tracking run with wandb version 0.19.6"
          },
          "metadata": {}
        },
        {
          "output_type": "display_data",
          "data": {
            "text/plain": "<IPython.core.display.HTML object>",
            "text/html": "Run data is saved locally in <code>/kaggle/working/wandb/run-20250418_192553-a291638d</code>"
          },
          "metadata": {}
        },
        {
          "output_type": "display_data",
          "data": {
            "text/plain": "<IPython.core.display.HTML object>",
            "text/html": "Syncing run <strong><a href='https://wandb.ai/ma23m013-iit-madras/DA6401_A-2_Part-B/runs/a291638d' target=\"_blank\">quiet-sweep-7</a></strong> to <a href='https://wandb.ai/ma23m013-iit-madras/DA6401_A-2_Part-B' target=\"_blank\">Weights & Biases</a> (<a href='https://wandb.me/developer-guide' target=\"_blank\">docs</a>)<br>Sweep page: <a href='https://wandb.ai/ma23m013-iit-madras/DA6401_A-2_Part-B/sweeps/m3hs7ere' target=\"_blank\">https://wandb.ai/ma23m013-iit-madras/DA6401_A-2_Part-B/sweeps/m3hs7ere</a>"
          },
          "metadata": {}
        },
        {
          "output_type": "display_data",
          "data": {
            "text/plain": "<IPython.core.display.HTML object>",
            "text/html": " View project at <a href='https://wandb.ai/ma23m013-iit-madras/DA6401_A-2_Part-B' target=\"_blank\">https://wandb.ai/ma23m013-iit-madras/DA6401_A-2_Part-B</a>"
          },
          "metadata": {}
        },
        {
          "output_type": "display_data",
          "data": {
            "text/plain": "<IPython.core.display.HTML object>",
            "text/html": " View sweep at <a href='https://wandb.ai/ma23m013-iit-madras/DA6401_A-2_Part-B/sweeps/m3hs7ere' target=\"_blank\">https://wandb.ai/ma23m013-iit-madras/DA6401_A-2_Part-B/sweeps/m3hs7ere</a>"
          },
          "metadata": {}
        },
        {
          "output_type": "display_data",
          "data": {
            "text/plain": "<IPython.core.display.HTML object>",
            "text/html": " View run at <a href='https://wandb.ai/ma23m013-iit-madras/DA6401_A-2_Part-B/runs/a291638d' target=\"_blank\">https://wandb.ai/ma23m013-iit-madras/DA6401_A-2_Part-B/runs/a291638d</a>"
          },
          "metadata": {}
        },
        {
          "name": "stdout",
          "text": "Epoch 1/6, Train Loss: 1.1060, Train Accuracy: 64.67%\nEpoch 1/6, Validation Loss: 0.8303, Validation Accuracy: 73.05%\nEpoch 2/6, Train Loss: 0.8440, Train Accuracy: 71.63%\nEpoch 2/6, Validation Loss: 0.8670, Validation Accuracy: 71.15%\nEpoch 3/6, Train Loss: 0.7751, Train Accuracy: 74.22%\nEpoch 3/6, Validation Loss: 0.7891, Validation Accuracy: 74.50%\nEpoch 4/6, Train Loss: 0.7659, Train Accuracy: 74.75%\nEpoch 4/6, Validation Loss: 0.8128, Validation Accuracy: 74.30%\nEpoch 5/6, Train Loss: 0.7491, Train Accuracy: 75.26%\nEpoch 5/6, Validation Loss: 0.8037, Validation Accuracy: 73.80%\nEpoch 6/6, Train Loss: 0.7286, Train Accuracy: 76.00%\nEpoch 6/6, Validation Loss: 0.8116, Validation Accuracy: 73.85%\nTraining complete!\n",
          "output_type": "stream"
        },
        {
          "output_type": "display_data",
          "data": {
            "text/plain": "<IPython.core.display.HTML object>",
            "text/html": ""
          },
          "metadata": {}
        },
        {
          "output_type": "display_data",
          "data": {
            "text/plain": "<IPython.core.display.HTML object>",
            "text/html": "<br>    <style><br>        .wandb-row {<br>            display: flex;<br>            flex-direction: row;<br>            flex-wrap: wrap;<br>            justify-content: flex-start;<br>            width: 100%;<br>        }<br>        .wandb-col {<br>            display: flex;<br>            flex-direction: column;<br>            flex-basis: 100%;<br>            flex: 1;<br>            padding: 10px;<br>        }<br>    </style><br><div class=\"wandb-row\"><div class=\"wandb-col\"><h3>Run history:</h3><br/><table class=\"wandb\"><tr><td>Epoch</td><td>▁▂▄▅▇█</td></tr><tr><td>Train Accuracy</td><td>▁▅▇▇██</td></tr><tr><td>Train Loss</td><td>█▃▂▂▁▁</td></tr><tr><td>Validation Accuracy</td><td>▅▁██▇▇</td></tr><tr><td>Validation Loss</td><td>▅█▁▃▂▃</td></tr></table><br/></div><div class=\"wandb-col\"><h3>Run summary:</h3><br/><table class=\"wandb\"><tr><td>Epoch</td><td>6</td></tr><tr><td>Train Accuracy</td><td>75.997</td></tr><tr><td>Train Loss</td><td>0.72862</td></tr><tr><td>Validation Accuracy</td><td>73.85</td></tr><tr><td>Validation Loss</td><td>0.81165</td></tr></table><br/></div></div>"
          },
          "metadata": {}
        },
        {
          "output_type": "display_data",
          "data": {
            "text/plain": "<IPython.core.display.HTML object>",
            "text/html": " View run <strong style=\"color:#cdcd00\">ep6_fp-0.75_model-resnet</strong> at: <a href='https://wandb.ai/ma23m013-iit-madras/DA6401_A-2_Part-B/runs/a291638d' target=\"_blank\">https://wandb.ai/ma23m013-iit-madras/DA6401_A-2_Part-B/runs/a291638d</a><br> View project at: <a href='https://wandb.ai/ma23m013-iit-madras/DA6401_A-2_Part-B' target=\"_blank\">https://wandb.ai/ma23m013-iit-madras/DA6401_A-2_Part-B</a><br>Synced 5 W&B file(s), 0 media file(s), 0 artifact file(s) and 0 other file(s)"
          },
          "metadata": {}
        },
        {
          "output_type": "display_data",
          "data": {
            "text/plain": "<IPython.core.display.HTML object>",
            "text/html": "Find logs at: <code>./wandb/run-20250418_192553-a291638d/logs</code>"
          },
          "metadata": {}
        },
        {
          "name": "stderr",
          "text": "\u001b[34m\u001b[1mwandb\u001b[0m: Agent Starting Run: el7qtrfb with config:\n\u001b[34m\u001b[1mwandb\u001b[0m: \tepochs: 6\n\u001b[34m\u001b[1mwandb\u001b[0m: \tfreeze_all_except_last_layer: Yes\n\u001b[34m\u001b[1mwandb\u001b[0m: \tfreeze_percent: 0.75\n\u001b[34m\u001b[1mwandb\u001b[0m: \tmodel_name: resnet\n",
          "output_type": "stream"
        },
        {
          "output_type": "display_data",
          "data": {
            "text/plain": "<IPython.core.display.HTML object>",
            "text/html": "Tracking run with wandb version 0.19.6"
          },
          "metadata": {}
        },
        {
          "output_type": "display_data",
          "data": {
            "text/plain": "<IPython.core.display.HTML object>",
            "text/html": "Run data is saved locally in <code>/kaggle/working/wandb/run-20250418_193752-el7qtrfb</code>"
          },
          "metadata": {}
        },
        {
          "output_type": "display_data",
          "data": {
            "text/plain": "<IPython.core.display.HTML object>",
            "text/html": "Syncing run <strong><a href='https://wandb.ai/ma23m013-iit-madras/DA6401_A-2_Part-B/runs/el7qtrfb' target=\"_blank\">glowing-sweep-8</a></strong> to <a href='https://wandb.ai/ma23m013-iit-madras/DA6401_A-2_Part-B' target=\"_blank\">Weights & Biases</a> (<a href='https://wandb.me/developer-guide' target=\"_blank\">docs</a>)<br>Sweep page: <a href='https://wandb.ai/ma23m013-iit-madras/DA6401_A-2_Part-B/sweeps/m3hs7ere' target=\"_blank\">https://wandb.ai/ma23m013-iit-madras/DA6401_A-2_Part-B/sweeps/m3hs7ere</a>"
          },
          "metadata": {}
        },
        {
          "output_type": "display_data",
          "data": {
            "text/plain": "<IPython.core.display.HTML object>",
            "text/html": " View project at <a href='https://wandb.ai/ma23m013-iit-madras/DA6401_A-2_Part-B' target=\"_blank\">https://wandb.ai/ma23m013-iit-madras/DA6401_A-2_Part-B</a>"
          },
          "metadata": {}
        },
        {
          "output_type": "display_data",
          "data": {
            "text/plain": "<IPython.core.display.HTML object>",
            "text/html": " View sweep at <a href='https://wandb.ai/ma23m013-iit-madras/DA6401_A-2_Part-B/sweeps/m3hs7ere' target=\"_blank\">https://wandb.ai/ma23m013-iit-madras/DA6401_A-2_Part-B/sweeps/m3hs7ere</a>"
          },
          "metadata": {}
        },
        {
          "output_type": "display_data",
          "data": {
            "text/plain": "<IPython.core.display.HTML object>",
            "text/html": " View run at <a href='https://wandb.ai/ma23m013-iit-madras/DA6401_A-2_Part-B/runs/el7qtrfb' target=\"_blank\">https://wandb.ai/ma23m013-iit-madras/DA6401_A-2_Part-B/runs/el7qtrfb</a>"
          },
          "metadata": {}
        },
        {
          "name": "stdout",
          "text": "Epoch 1/6, Train Loss: 1.1107, Train Accuracy: 64.08%\nEpoch 1/6, Validation Loss: 0.8275, Validation Accuracy: 72.80%\nEpoch 2/6, Train Loss: 0.8367, Train Accuracy: 72.16%\nEpoch 2/6, Validation Loss: 0.8688, Validation Accuracy: 71.25%\nEpoch 3/6, Train Loss: 0.7896, Train Accuracy: 73.68%\nEpoch 3/6, Validation Loss: 0.7988, Validation Accuracy: 73.60%\nEpoch 4/6, Train Loss: 0.7545, Train Accuracy: 74.81%\nEpoch 4/6, Validation Loss: 0.8557, Validation Accuracy: 72.05%\nEpoch 5/6, Train Loss: 0.7306, Train Accuracy: 75.27%\nEpoch 5/6, Validation Loss: 0.8150, Validation Accuracy: 73.70%\nEpoch 6/6, Train Loss: 0.7118, Train Accuracy: 76.11%\nEpoch 6/6, Validation Loss: 0.8525, Validation Accuracy: 72.70%\nTraining complete!\n",
          "output_type": "stream"
        },
        {
          "output_type": "display_data",
          "data": {
            "text/plain": "<IPython.core.display.HTML object>",
            "text/html": ""
          },
          "metadata": {}
        },
        {
          "output_type": "display_data",
          "data": {
            "text/plain": "<IPython.core.display.HTML object>",
            "text/html": "<br>    <style><br>        .wandb-row {<br>            display: flex;<br>            flex-direction: row;<br>            flex-wrap: wrap;<br>            justify-content: flex-start;<br>            width: 100%;<br>        }<br>        .wandb-col {<br>            display: flex;<br>            flex-direction: column;<br>            flex-basis: 100%;<br>            flex: 1;<br>            padding: 10px;<br>        }<br>    </style><br><div class=\"wandb-row\"><div class=\"wandb-col\"><h3>Run history:</h3><br/><table class=\"wandb\"><tr><td>Epoch</td><td>▁▂▄▅▇█</td></tr><tr><td>Train Accuracy</td><td>▁▆▇▇██</td></tr><tr><td>Train Loss</td><td>█▃▂▂▁▁</td></tr><tr><td>Validation Accuracy</td><td>▅▁█▃█▅</td></tr><tr><td>Validation Loss</td><td>▄█▁▇▃▆</td></tr></table><br/></div><div class=\"wandb-col\"><h3>Run summary:</h3><br/><table class=\"wandb\"><tr><td>Epoch</td><td>6</td></tr><tr><td>Train Accuracy</td><td>76.10951</td></tr><tr><td>Train Loss</td><td>0.71183</td></tr><tr><td>Validation Accuracy</td><td>72.7</td></tr><tr><td>Validation Loss</td><td>0.85251</td></tr></table><br/></div></div>"
          },
          "metadata": {}
        },
        {
          "output_type": "display_data",
          "data": {
            "text/plain": "<IPython.core.display.HTML object>",
            "text/html": " View run <strong style=\"color:#cdcd00\">ep6_fp-0.75_model-resnet</strong> at: <a href='https://wandb.ai/ma23m013-iit-madras/DA6401_A-2_Part-B/runs/el7qtrfb' target=\"_blank\">https://wandb.ai/ma23m013-iit-madras/DA6401_A-2_Part-B/runs/el7qtrfb</a><br> View project at: <a href='https://wandb.ai/ma23m013-iit-madras/DA6401_A-2_Part-B' target=\"_blank\">https://wandb.ai/ma23m013-iit-madras/DA6401_A-2_Part-B</a><br>Synced 5 W&B file(s), 0 media file(s), 0 artifact file(s) and 0 other file(s)"
          },
          "metadata": {}
        },
        {
          "output_type": "display_data",
          "data": {
            "text/plain": "<IPython.core.display.HTML object>",
            "text/html": "Find logs at: <code>./wandb/run-20250418_193752-el7qtrfb/logs</code>"
          },
          "metadata": {}
        },
        {
          "name": "stderr",
          "text": "\u001b[34m\u001b[1mwandb\u001b[0m: Agent Starting Run: p6dgr4e2 with config:\n\u001b[34m\u001b[1mwandb\u001b[0m: \tepochs: 6\n\u001b[34m\u001b[1mwandb\u001b[0m: \tfreeze_all_except_last_layer: Yes\n\u001b[34m\u001b[1mwandb\u001b[0m: \tfreeze_percent: 0.75\n\u001b[34m\u001b[1mwandb\u001b[0m: \tmodel_name: resnet\n",
          "output_type": "stream"
        },
        {
          "output_type": "display_data",
          "data": {
            "text/plain": "<IPython.core.display.HTML object>",
            "text/html": "Tracking run with wandb version 0.19.6"
          },
          "metadata": {}
        },
        {
          "output_type": "display_data",
          "data": {
            "text/plain": "<IPython.core.display.HTML object>",
            "text/html": "Run data is saved locally in <code>/kaggle/working/wandb/run-20250418_194952-p6dgr4e2</code>"
          },
          "metadata": {}
        },
        {
          "output_type": "display_data",
          "data": {
            "text/plain": "<IPython.core.display.HTML object>",
            "text/html": "Syncing run <strong><a href='https://wandb.ai/ma23m013-iit-madras/DA6401_A-2_Part-B/runs/p6dgr4e2' target=\"_blank\">daily-sweep-9</a></strong> to <a href='https://wandb.ai/ma23m013-iit-madras/DA6401_A-2_Part-B' target=\"_blank\">Weights & Biases</a> (<a href='https://wandb.me/developer-guide' target=\"_blank\">docs</a>)<br>Sweep page: <a href='https://wandb.ai/ma23m013-iit-madras/DA6401_A-2_Part-B/sweeps/m3hs7ere' target=\"_blank\">https://wandb.ai/ma23m013-iit-madras/DA6401_A-2_Part-B/sweeps/m3hs7ere</a>"
          },
          "metadata": {}
        },
        {
          "output_type": "display_data",
          "data": {
            "text/plain": "<IPython.core.display.HTML object>",
            "text/html": " View project at <a href='https://wandb.ai/ma23m013-iit-madras/DA6401_A-2_Part-B' target=\"_blank\">https://wandb.ai/ma23m013-iit-madras/DA6401_A-2_Part-B</a>"
          },
          "metadata": {}
        },
        {
          "output_type": "display_data",
          "data": {
            "text/plain": "<IPython.core.display.HTML object>",
            "text/html": " View sweep at <a href='https://wandb.ai/ma23m013-iit-madras/DA6401_A-2_Part-B/sweeps/m3hs7ere' target=\"_blank\">https://wandb.ai/ma23m013-iit-madras/DA6401_A-2_Part-B/sweeps/m3hs7ere</a>"
          },
          "metadata": {}
        },
        {
          "output_type": "display_data",
          "data": {
            "text/plain": "<IPython.core.display.HTML object>",
            "text/html": " View run at <a href='https://wandb.ai/ma23m013-iit-madras/DA6401_A-2_Part-B/runs/p6dgr4e2' target=\"_blank\">https://wandb.ai/ma23m013-iit-madras/DA6401_A-2_Part-B/runs/p6dgr4e2</a>"
          },
          "metadata": {}
        },
        {
          "name": "stdout",
          "text": "Epoch 1/6, Train Loss: 1.1064, Train Accuracy: 64.63%\nEpoch 1/6, Validation Loss: 0.8939, Validation Accuracy: 71.05%\nEpoch 2/6, Train Loss: 0.8450, Train Accuracy: 71.96%\nEpoch 2/6, Validation Loss: 0.8141, Validation Accuracy: 73.10%\nEpoch 3/6, Train Loss: 0.7840, Train Accuracy: 73.87%\nEpoch 3/6, Validation Loss: 0.8426, Validation Accuracy: 72.40%\nEpoch 4/6, Train Loss: 0.7627, Train Accuracy: 74.72%\nEpoch 4/6, Validation Loss: 0.7997, Validation Accuracy: 74.55%\nEpoch 5/6, Train Loss: 0.7442, Train Accuracy: 75.05%\nEpoch 5/6, Validation Loss: 0.8267, Validation Accuracy: 73.10%\nEpoch 6/6, Train Loss: 0.7175, Train Accuracy: 76.31%\nEpoch 6/6, Validation Loss: 0.8411, Validation Accuracy: 72.95%\nTraining complete!\n",
          "output_type": "stream"
        },
        {
          "output_type": "display_data",
          "data": {
            "text/plain": "<IPython.core.display.HTML object>",
            "text/html": ""
          },
          "metadata": {}
        },
        {
          "output_type": "display_data",
          "data": {
            "text/plain": "<IPython.core.display.HTML object>",
            "text/html": "<br>    <style><br>        .wandb-row {<br>            display: flex;<br>            flex-direction: row;<br>            flex-wrap: wrap;<br>            justify-content: flex-start;<br>            width: 100%;<br>        }<br>        .wandb-col {<br>            display: flex;<br>            flex-direction: column;<br>            flex-basis: 100%;<br>            flex: 1;<br>            padding: 10px;<br>        }<br>    </style><br><div class=\"wandb-row\"><div class=\"wandb-col\"><h3>Run history:</h3><br/><table class=\"wandb\"><tr><td>Epoch</td><td>▁▂▄▅▇█</td></tr><tr><td>Train Accuracy</td><td>▁▅▇▇▇█</td></tr><tr><td>Train Loss</td><td>█▃▂▂▁▁</td></tr><tr><td>Validation Accuracy</td><td>▁▅▄█▅▅</td></tr><tr><td>Validation Loss</td><td>█▂▄▁▃▄</td></tr></table><br/></div><div class=\"wandb-col\"><h3>Run summary:</h3><br/><table class=\"wandb\"><tr><td>Epoch</td><td>6</td></tr><tr><td>Train Accuracy</td><td>76.30954</td></tr><tr><td>Train Loss</td><td>0.71746</td></tr><tr><td>Validation Accuracy</td><td>72.95</td></tr><tr><td>Validation Loss</td><td>0.84111</td></tr></table><br/></div></div>"
          },
          "metadata": {}
        },
        {
          "output_type": "display_data",
          "data": {
            "text/plain": "<IPython.core.display.HTML object>",
            "text/html": " View run <strong style=\"color:#cdcd00\">ep6_fp-0.75_model-resnet</strong> at: <a href='https://wandb.ai/ma23m013-iit-madras/DA6401_A-2_Part-B/runs/p6dgr4e2' target=\"_blank\">https://wandb.ai/ma23m013-iit-madras/DA6401_A-2_Part-B/runs/p6dgr4e2</a><br> View project at: <a href='https://wandb.ai/ma23m013-iit-madras/DA6401_A-2_Part-B' target=\"_blank\">https://wandb.ai/ma23m013-iit-madras/DA6401_A-2_Part-B</a><br>Synced 5 W&B file(s), 0 media file(s), 0 artifact file(s) and 0 other file(s)"
          },
          "metadata": {}
        },
        {
          "output_type": "display_data",
          "data": {
            "text/plain": "<IPython.core.display.HTML object>",
            "text/html": "Find logs at: <code>./wandb/run-20250418_194952-p6dgr4e2/logs</code>"
          },
          "metadata": {}
        },
        {
          "name": "stderr",
          "text": "\u001b[34m\u001b[1mwandb\u001b[0m: Agent Starting Run: uxdekj2k with config:\n\u001b[34m\u001b[1mwandb\u001b[0m: \tepochs: 6\n\u001b[34m\u001b[1mwandb\u001b[0m: \tfreeze_all_except_last_layer: Yes\n\u001b[34m\u001b[1mwandb\u001b[0m: \tfreeze_percent: 0.75\n\u001b[34m\u001b[1mwandb\u001b[0m: \tmodel_name: resnet\n",
          "output_type": "stream"
        },
        {
          "output_type": "display_data",
          "data": {
            "text/plain": "<IPython.core.display.HTML object>",
            "text/html": "Tracking run with wandb version 0.19.6"
          },
          "metadata": {}
        },
        {
          "output_type": "display_data",
          "data": {
            "text/plain": "<IPython.core.display.HTML object>",
            "text/html": "Run data is saved locally in <code>/kaggle/working/wandb/run-20250418_200152-uxdekj2k</code>"
          },
          "metadata": {}
        },
        {
          "output_type": "display_data",
          "data": {
            "text/plain": "<IPython.core.display.HTML object>",
            "text/html": "Syncing run <strong><a href='https://wandb.ai/ma23m013-iit-madras/DA6401_A-2_Part-B/runs/uxdekj2k' target=\"_blank\">copper-sweep-10</a></strong> to <a href='https://wandb.ai/ma23m013-iit-madras/DA6401_A-2_Part-B' target=\"_blank\">Weights & Biases</a> (<a href='https://wandb.me/developer-guide' target=\"_blank\">docs</a>)<br>Sweep page: <a href='https://wandb.ai/ma23m013-iit-madras/DA6401_A-2_Part-B/sweeps/m3hs7ere' target=\"_blank\">https://wandb.ai/ma23m013-iit-madras/DA6401_A-2_Part-B/sweeps/m3hs7ere</a>"
          },
          "metadata": {}
        },
        {
          "output_type": "display_data",
          "data": {
            "text/plain": "<IPython.core.display.HTML object>",
            "text/html": " View project at <a href='https://wandb.ai/ma23m013-iit-madras/DA6401_A-2_Part-B' target=\"_blank\">https://wandb.ai/ma23m013-iit-madras/DA6401_A-2_Part-B</a>"
          },
          "metadata": {}
        },
        {
          "output_type": "display_data",
          "data": {
            "text/plain": "<IPython.core.display.HTML object>",
            "text/html": " View sweep at <a href='https://wandb.ai/ma23m013-iit-madras/DA6401_A-2_Part-B/sweeps/m3hs7ere' target=\"_blank\">https://wandb.ai/ma23m013-iit-madras/DA6401_A-2_Part-B/sweeps/m3hs7ere</a>"
          },
          "metadata": {}
        },
        {
          "output_type": "display_data",
          "data": {
            "text/plain": "<IPython.core.display.HTML object>",
            "text/html": " View run at <a href='https://wandb.ai/ma23m013-iit-madras/DA6401_A-2_Part-B/runs/uxdekj2k' target=\"_blank\">https://wandb.ai/ma23m013-iit-madras/DA6401_A-2_Part-B/runs/uxdekj2k</a>"
          },
          "metadata": {}
        },
        {
          "name": "stdout",
          "text": "Epoch 1/6, Train Loss: 1.1108, Train Accuracy: 64.43%\nEpoch 1/6, Validation Loss: 0.8742, Validation Accuracy: 70.65%\nEpoch 2/6, Train Loss: 0.8332, Train Accuracy: 72.26%\nEpoch 2/6, Validation Loss: 0.8329, Validation Accuracy: 72.80%\nEpoch 3/6, Train Loss: 0.7780, Train Accuracy: 73.66%\nEpoch 3/6, Validation Loss: 0.8128, Validation Accuracy: 73.45%\nEpoch 4/6, Train Loss: 0.7447, Train Accuracy: 75.56%\nEpoch 4/6, Validation Loss: 0.8646, Validation Accuracy: 72.55%\nEpoch 5/6, Train Loss: 0.7258, Train Accuracy: 76.18%\nEpoch 5/6, Validation Loss: 0.8189, Validation Accuracy: 73.75%\nEpoch 6/6, Train Loss: 0.7252, Train Accuracy: 75.96%\nEpoch 6/6, Validation Loss: 0.7993, Validation Accuracy: 74.85%\nTraining complete!\n",
          "output_type": "stream"
        },
        {
          "output_type": "display_data",
          "data": {
            "text/plain": "<IPython.core.display.HTML object>",
            "text/html": ""
          },
          "metadata": {}
        },
        {
          "output_type": "display_data",
          "data": {
            "text/plain": "<IPython.core.display.HTML object>",
            "text/html": "<br>    <style><br>        .wandb-row {<br>            display: flex;<br>            flex-direction: row;<br>            flex-wrap: wrap;<br>            justify-content: flex-start;<br>            width: 100%;<br>        }<br>        .wandb-col {<br>            display: flex;<br>            flex-direction: column;<br>            flex-basis: 100%;<br>            flex: 1;<br>            padding: 10px;<br>        }<br>    </style><br><div class=\"wandb-row\"><div class=\"wandb-col\"><h3>Run history:</h3><br/><table class=\"wandb\"><tr><td>Epoch</td><td>▁▂▄▅▇█</td></tr><tr><td>Train Accuracy</td><td>▁▆▆███</td></tr><tr><td>Train Loss</td><td>█▃▂▁▁▁</td></tr><tr><td>Validation Accuracy</td><td>▁▅▆▄▆█</td></tr><tr><td>Validation Loss</td><td>█▄▂▇▃▁</td></tr></table><br/></div><div class=\"wandb-col\"><h3>Run summary:</h3><br/><table class=\"wandb\"><tr><td>Epoch</td><td>6</td></tr><tr><td>Train Accuracy</td><td>75.95949</td></tr><tr><td>Train Loss</td><td>0.72522</td></tr><tr><td>Validation Accuracy</td><td>74.85</td></tr><tr><td>Validation Loss</td><td>0.79928</td></tr></table><br/></div></div>"
          },
          "metadata": {}
        },
        {
          "output_type": "display_data",
          "data": {
            "text/plain": "<IPython.core.display.HTML object>",
            "text/html": " View run <strong style=\"color:#cdcd00\">ep6_fp-0.75_model-resnet</strong> at: <a href='https://wandb.ai/ma23m013-iit-madras/DA6401_A-2_Part-B/runs/uxdekj2k' target=\"_blank\">https://wandb.ai/ma23m013-iit-madras/DA6401_A-2_Part-B/runs/uxdekj2k</a><br> View project at: <a href='https://wandb.ai/ma23m013-iit-madras/DA6401_A-2_Part-B' target=\"_blank\">https://wandb.ai/ma23m013-iit-madras/DA6401_A-2_Part-B</a><br>Synced 5 W&B file(s), 0 media file(s), 0 artifact file(s) and 0 other file(s)"
          },
          "metadata": {}
        },
        {
          "output_type": "display_data",
          "data": {
            "text/plain": "<IPython.core.display.HTML object>",
            "text/html": "Find logs at: <code>./wandb/run-20250418_200152-uxdekj2k/logs</code>"
          },
          "metadata": {}
        }
      ],
      "execution_count": null
    },
    {
      "cell_type": "code",
      "source": [],
      "metadata": {
        "trusted": true,
        "id": "INWRpxPyumI5"
      },
      "outputs": [],
      "execution_count": null
    }
  ]
}